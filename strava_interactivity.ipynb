{
 "cells": [
  {
   "cell_type": "code",
   "execution_count": 1,
   "metadata": {},
   "outputs": [],
   "source": [
    "import pandas as pd\n",
    "import pandas as pd\n",
    "from bokeh.plotting import figure\n",
    "from bokeh.layouts import layout, widgetbox\n",
    "from bokeh.models import ColumnDataSource, HoverTool, BoxZoomTool, ResetTool, PanTool\n",
    "from bokeh.models.widgets import Slider, Select, TextInput, Div\n",
    "from bokeh.models import WheelZoomTool, SaveTool, LassoSelectTool\n",
    "from bokeh.io import curdoc\n",
    "from functools import lru_cache"
   ]
  },
  {
   "cell_type": "code",
   "execution_count": 10,
   "metadata": {},
   "outputs": [],
   "source": [
    "@lru_cache()\n",
    "def load_data():\n",
    "    df = pd.read_csv('strava_data.csv', index_col=0)\n",
    "    return df"
   ]
  },
  {
   "cell_type": "code",
   "execution_count": 11,
   "metadata": {},
   "outputs": [],
   "source": [
    "run_data_df = load_data()"
   ]
  },
  {
   "cell_type": "code",
   "execution_count": 91,
   "metadata": {},
   "outputs": [],
   "source": [
    "# all_weeks = list(set(list(load_data()['week'])))\n",
    "all_weeks = list(load_data()['week'].unique())\n",
    "X_AXIS = ['Mon', 'Tue', 'Wed', 'Thu', 'Fri', 'Sat', 'Sun']"
   ]
  },
  {
   "cell_type": "code",
   "execution_count": null,
   "metadata": {},
   "outputs": [],
   "source": []
  },
  {
   "cell_type": "code",
   "execution_count": 92,
   "metadata": {},
   "outputs": [],
   "source": [
    "desc = Div(text=\"Weekly runs\", width=800)\n",
    "weeks_runs = Select(title=\"Runs\", options=all_weeks, value=\"All\")"
   ]
  },
  {
   "cell_type": "code",
   "execution_count": 93,
   "metadata": {},
   "outputs": [],
   "source": [
    "source = ColumnDataSource(data=load_data())"
   ]
  },
  {
   "cell_type": "code",
   "execution_count": 94,
   "metadata": {},
   "outputs": [],
   "source": [
    "hover = HoverTool(tooltips=[\n",
    "    (\"Week\", \"@week\"),\n",
    "    (\"Kilometers\", \"@kms\"),\n",
    "])\n",
    "TOOLS = [\n",
    "    hover, BoxZoomTool(), LassoSelectTool(), WheelZoomTool(), PanTool(),\n",
    "    ResetTool(), SaveTool()\n",
    "]"
   ]
  },
  {
   "cell_type": "code",
   "execution_count": 95,
   "metadata": {},
   "outputs": [
    {
     "data": {
      "text/html": [
       "<div style=\"display: table;\"><div style=\"display: table-row;\"><div style=\"display: table-cell;\"><b title=\"bokeh.models.renderers.GlyphRenderer\">GlyphRenderer</b>(</div><div style=\"display: table-cell;\">id&nbsp;=&nbsp;'1308', <span id=\"1320\" style=\"cursor: pointer;\">&hellip;)</span></div></div><div class=\"1319\" style=\"display: none;\"><div style=\"display: table-cell;\"></div><div style=\"display: table-cell;\">data_source&nbsp;=&nbsp;ColumnDataSource(id='1265', ...),</div></div><div class=\"1319\" style=\"display: none;\"><div style=\"display: table-cell;\"></div><div style=\"display: table-cell;\">glyph&nbsp;=&nbsp;VBar(id='1306', ...),</div></div><div class=\"1319\" style=\"display: none;\"><div style=\"display: table-cell;\"></div><div style=\"display: table-cell;\">hover_glyph&nbsp;=&nbsp;None,</div></div><div class=\"1319\" style=\"display: none;\"><div style=\"display: table-cell;\"></div><div style=\"display: table-cell;\">js_event_callbacks&nbsp;=&nbsp;{},</div></div><div class=\"1319\" style=\"display: none;\"><div style=\"display: table-cell;\"></div><div style=\"display: table-cell;\">js_property_callbacks&nbsp;=&nbsp;{},</div></div><div class=\"1319\" style=\"display: none;\"><div style=\"display: table-cell;\"></div><div style=\"display: table-cell;\">level&nbsp;=&nbsp;'glyph',</div></div><div class=\"1319\" style=\"display: none;\"><div style=\"display: table-cell;\"></div><div style=\"display: table-cell;\">muted&nbsp;=&nbsp;False,</div></div><div class=\"1319\" style=\"display: none;\"><div style=\"display: table-cell;\"></div><div style=\"display: table-cell;\">muted_glyph&nbsp;=&nbsp;None,</div></div><div class=\"1319\" style=\"display: none;\"><div style=\"display: table-cell;\"></div><div style=\"display: table-cell;\">name&nbsp;=&nbsp;None,</div></div><div class=\"1319\" style=\"display: none;\"><div style=\"display: table-cell;\"></div><div style=\"display: table-cell;\">nonselection_glyph&nbsp;=&nbsp;VBar(id='1307', ...),</div></div><div class=\"1319\" style=\"display: none;\"><div style=\"display: table-cell;\"></div><div style=\"display: table-cell;\">selection_glyph&nbsp;=&nbsp;None,</div></div><div class=\"1319\" style=\"display: none;\"><div style=\"display: table-cell;\"></div><div style=\"display: table-cell;\">subscribed_events&nbsp;=&nbsp;[],</div></div><div class=\"1319\" style=\"display: none;\"><div style=\"display: table-cell;\"></div><div style=\"display: table-cell;\">tags&nbsp;=&nbsp;[],</div></div><div class=\"1319\" style=\"display: none;\"><div style=\"display: table-cell;\"></div><div style=\"display: table-cell;\">view&nbsp;=&nbsp;CDSView(id='1309', ...),</div></div><div class=\"1319\" style=\"display: none;\"><div style=\"display: table-cell;\"></div><div style=\"display: table-cell;\">visible&nbsp;=&nbsp;True,</div></div><div class=\"1319\" style=\"display: none;\"><div style=\"display: table-cell;\"></div><div style=\"display: table-cell;\">x_range_name&nbsp;=&nbsp;'default',</div></div><div class=\"1319\" style=\"display: none;\"><div style=\"display: table-cell;\"></div><div style=\"display: table-cell;\">y_range_name&nbsp;=&nbsp;'default')</div></div></div>\n",
       "<script>\n",
       "(function() {\n",
       "  var expanded = false;\n",
       "  var ellipsis = document.getElementById(\"1320\");\n",
       "  ellipsis.addEventListener(\"click\", function() {\n",
       "    var rows = document.getElementsByClassName(\"1319\");\n",
       "    for (var i = 0; i < rows.length; i++) {\n",
       "      var el = rows[i];\n",
       "      el.style.display = expanded ? \"none\" : \"table-row\";\n",
       "    }\n",
       "    ellipsis.innerHTML = expanded ? \"&hellip;)\" : \"&lsaquo;&lsaquo;&lsaquo;\";\n",
       "    expanded = !expanded;\n",
       "  });\n",
       "})();\n",
       "</script>\n"
      ],
      "text/plain": [
       "GlyphRenderer(id='1308', ...)"
      ]
     },
     "execution_count": 95,
     "metadata": {},
     "output_type": "execute_result"
    }
   ],
   "source": [
    "p = figure(\n",
    "    plot_height=600,\n",
    "    plot_width=700,\n",
    "    title=\"Weekly running\",\n",
    "    tools=TOOLS,\n",
    "    x_axis_label=\"kms\",\n",
    "    y_axis_label=\"day od the week\",\n",
    "    toolbar_location=\"above\", \n",
    "    x_range=X_AXIS,\n",
    "    x_minor_ticks=2, y_range=(0, 15),)\n",
    "\n",
    "p.vbar(x='day_of_week', bottom=0, top='kms', \n",
    "         color='blue', width=0.75, \n",
    "         legend='Actual', source=source)\n"
   ]
  },
  {
   "cell_type": "code",
   "execution_count": 96,
   "metadata": {},
   "outputs": [],
   "source": [
    "def select_weeks():\n",
    "    \"\"\" Use the current selections to determine which filters to apply to the\n",
    "    data. Return a dataframe of the selected data\n",
    "    \"\"\"\n",
    "    df = load_data()\n",
    "\n",
    "    # Determine what has been selected for each widgetd\n",
    "#     cumulative_week_val = weeks_runs.value\n",
    "    week_val = weeks_runs.value\n",
    "#     kilometers_val = kms.value\n",
    "\n",
    "    # Filter by week and weekly_actual_cumulative\n",
    "    if week_val == \"week 01\":\n",
    "        selected = df[df.week == 'week 01'] \n",
    "    else:\n",
    "        selected = df[(df.week == week_val)]\n",
    "\n",
    "    # Further filter by string in title if it is provided\n",
    "#     if title_val != \"\":\n",
    "#         selected = selected[selected.title.str.contains(title_val, case=False) == True]\n",
    "\n",
    "#     # Example showing how to update the description\n",
    "    desc.text = f\"Week: {week_val}\"\n",
    "    return selected"
   ]
  },
  {
   "cell_type": "code",
   "execution_count": 97,
   "metadata": {},
   "outputs": [],
   "source": [
    "def update():\n",
    "    \"\"\" Get the selected data and update the data in the source\n",
    "    \"\"\"\n",
    "    df_active = select_weeks()\n",
    "    source.data = ColumnDataSource(data=df_active).data"
   ]
  },
  {
   "cell_type": "code",
   "execution_count": 98,
   "metadata": {},
   "outputs": [],
   "source": [
    "def selection_change(attrname, old, new):\n",
    "    \"\"\" Function will be called when the poly select (or other selection tool)\n",
    "    is used. Determine which items are selected and show the details below\n",
    "    the graph\n",
    "    \"\"\"\n",
    "    selected = source.selected[\"1d\"][\"indices\"]\n",
    "    \n",
    "    df_active = select_weeks()\n",
    "    \n",
    "    if selected:\n",
    "        data = df_active.iloc[selected, :]\n",
    "        temp = data.set_index(\"week\").T.reindex(index=col_order)\n",
    "        details.text = temp.style.render()\n",
    "    else:\n",
    "        details.text = \"Selection Details\"\n",
    "\n",
    "\n",
    "    \n",
    "    "
   ]
  },
  {
   "cell_type": "code",
   "execution_count": 99,
   "metadata": {},
   "outputs": [],
   "source": [
    "\n",
    "controls = [weeks_runs]\n",
    "\n",
    "for control in controls:\n",
    "    control.on_change(\"value\", lambda attr, old, new: update())\n",
    "\n",
    "source.on_change(\"selected\", selection_change)\n",
    "\n",
    "inputs = widgetbox(*controls, sizing_mode=\"fixed\")\n",
    "l = layout([[desc], [weeks_runs, p]], sizing_mode=\"fixed\")"
   ]
  },
  {
   "cell_type": "code",
   "execution_count": 100,
   "metadata": {},
   "outputs": [],
   "source": [
    "update()\n",
    "curdoc().add_root(l)\n",
    "curdoc().title = \"Yearly run analysis\""
   ]
  },
  {
   "cell_type": "code",
   "execution_count": null,
   "metadata": {},
   "outputs": [],
   "source": []
  },
  {
   "cell_type": "code",
   "execution_count": null,
   "metadata": {},
   "outputs": [],
   "source": []
  }
 ],
 "metadata": {
  "kernelspec": {
   "display_name": "Python 3",
   "language": "python",
   "name": "python3"
  },
  "language_info": {
   "codemirror_mode": {
    "name": "ipython",
    "version": 3
   },
   "file_extension": ".py",
   "mimetype": "text/x-python",
   "name": "python",
   "nbconvert_exporter": "python",
   "pygments_lexer": "ipython3",
   "version": "3.6.3"
  }
 },
 "nbformat": 4,
 "nbformat_minor": 2
}
