{
 "cells": [
  {
   "cell_type": "code",
   "execution_count": 1,
   "metadata": {},
   "outputs": [],
   "source": [
    "import pandas as pd\n",
    "from bokeh.plotting import figure\n",
    "from bokeh.layouts import layout, widgetbox\n",
    "from bokeh.models import ColumnDataSource, HoverTool, BoxZoomTool, ResetTool, PanTool\n",
    "from bokeh.models.widgets import Slider, Select, TextInput, Div\n",
    "from bokeh.models import WheelZoomTool, SaveTool, LassoSelectTool\n",
    "from bokeh.io import curdoc\n",
    "from functools import lru_cache"
   ]
  },
  {
   "cell_type": "code",
   "execution_count": 13,
   "metadata": {},
   "outputs": [],
   "source": [
    "wine_csv = 'https://raw.githubusercontent.com/chris1610/pbpython/master/data/Aussie_Wines_Plotting.csv'"
   ]
  },
  {
   "cell_type": "code",
   "execution_count": 34,
   "metadata": {},
   "outputs": [],
   "source": [
    "@lru_cache()\n",
    "def load_data():\n",
    "    df = pd.read_csv('https://raw.githubusercontent.com/chris1610/pbpython/master/data/Aussie_Wines_Plotting.csv', index_col=0)\n",
    "    return df"
   ]
  },
  {
   "cell_type": "code",
   "execution_count": 15,
   "metadata": {},
   "outputs": [],
   "source": [
    "# Column order for displaying the details of a specific review\n",
    "col_order = [\"price\", \"points\", \"variety\", \"province\", \"description\"]\n",
    "\n",
    "all_provinces = [\n",
    "    \"All\", \"South Australia\", \"Victoria\", \"Western Australia\",\n",
    "    \"Australia Other\", \"New South Wales\", \"Tasmania\"\n",
    "]"
   ]
  },
  {
   "cell_type": "code",
   "execution_count": 16,
   "metadata": {},
   "outputs": [],
   "source": [
    "desc = Div(text=\"All Provinces\", width=800)\n",
    "province = Select(title=\"Province\", options=all_provinces, value=\"All\")\n",
    "price_max = Slider(start=0, end=900, step=5, value=200, title=\"Maximum Price\")\n",
    "title = TextInput(title=\"Title Contains\")\n",
    "details = Div(text=\"Selection Details:\", width=800)"
   ]
  },
  {
   "cell_type": "code",
   "execution_count": 18,
   "metadata": {},
   "outputs": [],
   "source": [
    "source = ColumnDataSource(data=load_data(wine_csv))\n"
   ]
  },
  {
   "cell_type": "code",
   "execution_count": 19,
   "metadata": {},
   "outputs": [],
   "source": [
    "hover = HoverTool(tooltips=[\n",
    "    (\"title\", \"@title\"),\n",
    "    (\"variety\", \"@variety\"),\n",
    "])\n",
    "TOOLS = [\n",
    "    hover, BoxZoomTool(), LassoSelectTool(), WheelZoomTool(), PanTool(),\n",
    "    ResetTool(), SaveTool()\n",
    "]"
   ]
  },
  {
   "cell_type": "code",
   "execution_count": 23,
   "metadata": {},
   "outputs": [
    {
     "data": {
      "text/html": [
       "<div style=\"display: table;\"><div style=\"display: table-row;\"><div style=\"display: table-cell;\"><b title=\"bokeh.models.renderers.GlyphRenderer\">GlyphRenderer</b>(</div><div style=\"display: table-cell;\">id&nbsp;=&nbsp;'1061', <span id=\"1064\" style=\"cursor: pointer;\">&hellip;)</span></div></div><div class=\"1063\" style=\"display: none;\"><div style=\"display: table-cell;\"></div><div style=\"display: table-cell;\">data_source&nbsp;=&nbsp;ColumnDataSource(id='1017', ...),</div></div><div class=\"1063\" style=\"display: none;\"><div style=\"display: table-cell;\"></div><div style=\"display: table-cell;\">glyph&nbsp;=&nbsp;Circle(id='1059', ...),</div></div><div class=\"1063\" style=\"display: none;\"><div style=\"display: table-cell;\"></div><div style=\"display: table-cell;\">hover_glyph&nbsp;=&nbsp;None,</div></div><div class=\"1063\" style=\"display: none;\"><div style=\"display: table-cell;\"></div><div style=\"display: table-cell;\">js_event_callbacks&nbsp;=&nbsp;{},</div></div><div class=\"1063\" style=\"display: none;\"><div style=\"display: table-cell;\"></div><div style=\"display: table-cell;\">js_property_callbacks&nbsp;=&nbsp;{},</div></div><div class=\"1063\" style=\"display: none;\"><div style=\"display: table-cell;\"></div><div style=\"display: table-cell;\">level&nbsp;=&nbsp;'glyph',</div></div><div class=\"1063\" style=\"display: none;\"><div style=\"display: table-cell;\"></div><div style=\"display: table-cell;\">muted&nbsp;=&nbsp;False,</div></div><div class=\"1063\" style=\"display: none;\"><div style=\"display: table-cell;\"></div><div style=\"display: table-cell;\">muted_glyph&nbsp;=&nbsp;None,</div></div><div class=\"1063\" style=\"display: none;\"><div style=\"display: table-cell;\"></div><div style=\"display: table-cell;\">name&nbsp;=&nbsp;None,</div></div><div class=\"1063\" style=\"display: none;\"><div style=\"display: table-cell;\"></div><div style=\"display: table-cell;\">nonselection_glyph&nbsp;=&nbsp;Circle(id='1060', ...),</div></div><div class=\"1063\" style=\"display: none;\"><div style=\"display: table-cell;\"></div><div style=\"display: table-cell;\">selection_glyph&nbsp;=&nbsp;None,</div></div><div class=\"1063\" style=\"display: none;\"><div style=\"display: table-cell;\"></div><div style=\"display: table-cell;\">subscribed_events&nbsp;=&nbsp;[],</div></div><div class=\"1063\" style=\"display: none;\"><div style=\"display: table-cell;\"></div><div style=\"display: table-cell;\">tags&nbsp;=&nbsp;[],</div></div><div class=\"1063\" style=\"display: none;\"><div style=\"display: table-cell;\"></div><div style=\"display: table-cell;\">view&nbsp;=&nbsp;CDSView(id='1062', ...),</div></div><div class=\"1063\" style=\"display: none;\"><div style=\"display: table-cell;\"></div><div style=\"display: table-cell;\">visible&nbsp;=&nbsp;True,</div></div><div class=\"1063\" style=\"display: none;\"><div style=\"display: table-cell;\"></div><div style=\"display: table-cell;\">x_range_name&nbsp;=&nbsp;'default',</div></div><div class=\"1063\" style=\"display: none;\"><div style=\"display: table-cell;\"></div><div style=\"display: table-cell;\">y_range_name&nbsp;=&nbsp;'default')</div></div></div>\n",
       "<script>\n",
       "(function() {\n",
       "  var expanded = false;\n",
       "  var ellipsis = document.getElementById(\"1064\");\n",
       "  ellipsis.addEventListener(\"click\", function() {\n",
       "    var rows = document.getElementsByClassName(\"1063\");\n",
       "    for (var i = 0; i < rows.length; i++) {\n",
       "      var el = rows[i];\n",
       "      el.style.display = expanded ? \"none\" : \"table-row\";\n",
       "    }\n",
       "    ellipsis.innerHTML = expanded ? \"&hellip;)\" : \"&lsaquo;&lsaquo;&lsaquo;\";\n",
       "    expanded = !expanded;\n",
       "  });\n",
       "})();\n",
       "</script>\n"
      ],
      "text/plain": [
       "GlyphRenderer(id='1061', ...)"
      ]
     },
     "execution_count": 23,
     "metadata": {},
     "output_type": "execute_result"
    }
   ],
   "source": [
    "p = figure(\n",
    "    plot_height=600,\n",
    "    plot_width=700,\n",
    "    title=\"Australian Wine Analysis\",\n",
    "    tools=TOOLS,\n",
    "    x_axis_label=\"points\",\n",
    "    y_axis_label=\"price (USD)\",\n",
    "    toolbar_location=\"above\")\n",
    "\n",
    "p.circle(\n",
    "    y=\"price\",\n",
    "    x=\"points\",\n",
    "    source=source,\n",
    "    color=\"variety_color\",\n",
    "    size=7,\n",
    "    alpha=0.4)"
   ]
  },
  {
   "cell_type": "code",
   "execution_count": 24,
   "metadata": {},
   "outputs": [],
   "source": [
    "def select_reviews():\n",
    "    \"\"\" Use the current selections to determine which filters to apply to the\n",
    "    data. Return a dataframe of the selected data\n",
    "    \"\"\"\n",
    "    df = load_data()\n",
    "\n",
    "    # Determine what has been selected for each widgetd\n",
    "    max_price = price_max.value\n",
    "    province_val = province.value\n",
    "    title_val = title.value\n",
    "\n",
    "    # Filter by price and province\n",
    "    if province_val == \"All\":\n",
    "        selected = df[df.price <= max_price]\n",
    "    else:\n",
    "        selected = df[(df.province == province_val) & (df.price <= max_price)]\n",
    "\n",
    "    # Further filter by string in title if it is provided\n",
    "    if title_val != \"\":\n",
    "        selected = selected[selected.title.str.contains(title_val, case=False) == True]\n",
    "\n",
    "    # Example showing how to update the description\n",
    "    desc.text = \"Province: {} and Price < {}\".format(province_val, max_price)\n",
    "    return selected"
   ]
  },
  {
   "cell_type": "code",
   "execution_count": 25,
   "metadata": {},
   "outputs": [],
   "source": [
    "def update():\n",
    "    \"\"\" Get the selected data and update the data in the source\n",
    "    \"\"\"\n",
    "    df_active = select_reviews()\n",
    "    source.data = ColumnDataSource(data=df_active).data"
   ]
  },
  {
   "cell_type": "code",
   "execution_count": 39,
   "metadata": {},
   "outputs": [],
   "source": [
    "def selection_change(attrname, old, new):\n",
    "    \"\"\" Function will be called when the poly select (or other selection tool)\n",
    "    is used. Determine which items are selected and show the details below\n",
    "    the graph\n",
    "    \"\"\"\n",
    "    selected = source.selected[\"1d\"][\"indices\"]\n",
    "    \n",
    "    df_active = select_reviews()\n",
    "    \n",
    "    if selected:\n",
    "        data = df_active.iloc[selected, :]\n",
    "        temp = data.set_index(\"title\").T.reindex(index=col_order)\n",
    "        details.text = temp.style.render()\n",
    "    else:\n",
    "        details.text = \"Selection Details\"\n",
    "        \n",
    "        \n",
    "    "
   ]
  },
  {
   "cell_type": "code",
   "execution_count": 40,
   "metadata": {},
   "outputs": [],
   "source": [
    "controls = [province, price_max, title]\n",
    "\n",
    "for control in controls:\n",
    "    control.on_change(\"value\", lambda attr, old, new: update())"
   ]
  },
  {
   "cell_type": "code",
   "execution_count": 41,
   "metadata": {},
   "outputs": [],
   "source": [
    "source.on_change(\"selected\", selection_change)"
   ]
  },
  {
   "cell_type": "code",
   "execution_count": 42,
   "metadata": {},
   "outputs": [],
   "source": [
    "inputs = widgetbox(*controls, sizing_mode=\"fixed\")\n",
    "l = layout([[desc], [inputs, p], [details]], sizing_mode=\"fixed\")"
   ]
  },
  {
   "cell_type": "code",
   "execution_count": 43,
   "metadata": {},
   "outputs": [],
   "source": [
    "update()\n",
    "curdoc().add_root(l)\n",
    "curdoc().title = \"Australian Wine Analysis\""
   ]
  },
  {
   "cell_type": "code",
   "execution_count": null,
   "metadata": {},
   "outputs": [],
   "source": [
    "\n"
   ]
  }
 ],
 "metadata": {
  "kernelspec": {
   "display_name": "Python 3",
   "language": "python",
   "name": "python3"
  },
  "language_info": {
   "codemirror_mode": {
    "name": "ipython",
    "version": 3
   },
   "file_extension": ".py",
   "mimetype": "text/x-python",
   "name": "python",
   "nbconvert_exporter": "python",
   "pygments_lexer": "ipython3",
   "version": "3.6.3"
  }
 },
 "nbformat": 4,
 "nbformat_minor": 2
}
