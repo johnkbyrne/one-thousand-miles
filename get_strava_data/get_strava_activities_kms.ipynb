{
 "cells": [
  {
   "cell_type": "code",
   "execution_count": 1,
   "metadata": {},
   "outputs": [],
   "source": [
    "import pandas as pd\n",
    "# from stravalib.client import Client\n",
    "import stravalib\n",
    "import flask\n",
    "from flask import request\n",
    "from stravalib import Client\n",
    "import requests\n",
    "import json\n",
    "import webbrowser\n",
    "import pandas as pd\n",
    "import datetime\n",
    "from bokeh.plotting import figure, output_file, show, output_notebook, ColumnDataSource\n",
    "from bokeh.palettes import Spectral11\n",
    "from bokeh.models import ColumnDataSource, CDSView, GroupFilter\n"
   ]
  },
  {
   "cell_type": "code",
   "execution_count": 2,
   "metadata": {},
   "outputs": [],
   "source": [
    "with open('../../config/creds/credentials.json') as scrds:\n",
    "    strava_creds = json.load(scrds)"
   ]
  },
  {
   "cell_type": "code",
   "execution_count": 3,
   "metadata": {},
   "outputs": [],
   "source": [
    "strava_credsaccess_token = '481cb676c1ebd336da0c25230f837ce8ac6190ad'"
   ]
  },
  {
   "cell_type": "code",
   "execution_count": 4,
   "metadata": {},
   "outputs": [],
   "source": [
    "client = Client()"
   ]
  },
  {
   "cell_type": "code",
   "execution_count": 5,
   "metadata": {},
   "outputs": [],
   "source": [
    "authorize_url = client.authorization_url(client_id=24706, redirect_uri='http://localhost:8282/authorized')\n",
    "\n",
    "url = client.authorization_url(client_id=24706,redirect_uri='http://127.0.0.1:5000/authorization')\n"
   ]
  },
  {
   "cell_type": "code",
   "execution_count": 6,
   "metadata": {},
   "outputs": [],
   "source": [
    "client_id = 24706"
   ]
  },
  {
   "cell_type": "code",
   "execution_count": 7,
   "metadata": {},
   "outputs": [],
   "source": [
    "access_token = '481cb676c1ebd336da0c25230f837ce8ac6190ad'"
   ]
  },
  {
   "cell_type": "code",
   "execution_count": 8,
   "metadata": {},
   "outputs": [],
   "source": [
    "port = 5000\n",
    "url = 'http://localhost:%d/authorized' % port"
   ]
  },
  {
   "cell_type": "code",
   "execution_count": 9,
   "metadata": {},
   "outputs": [],
   "source": [
    "authorize_url = client.authorization_url(client_id=client_id, redirect_uri=url)"
   ]
  },
  {
   "cell_type": "code",
   "execution_count": 10,
   "metadata": {},
   "outputs": [],
   "source": [
    "# access_token = client.exchange_code_for_token(client_id=24706, client_secret=access_token code=)"
   ]
  },
  {
   "cell_type": "code",
   "execution_count": 11,
   "metadata": {},
   "outputs": [
    {
     "data": {
      "text/plain": [
       "True"
      ]
     },
     "execution_count": 11,
     "metadata": {},
     "output_type": "execute_result"
    }
   ],
   "source": [
    "webbrowser.open(authorize_url)"
   ]
  },
  {
   "cell_type": "code",
   "execution_count": 12,
   "metadata": {},
   "outputs": [],
   "source": [
    "# code = 'c2ff0d44e1c60b182d18b8791b9f428146f4312e'\n",
    "code = '3c66e15a369292748e3ab195b0162487b983c6ae'"
   ]
  },
  {
   "cell_type": "code",
   "execution_count": 13,
   "metadata": {},
   "outputs": [],
   "source": [
    "access_token = client.exchange_code_for_token(client_id=24706, client_secret=access_token, code=code)"
   ]
  },
  {
   "cell_type": "code",
   "execution_count": 14,
   "metadata": {},
   "outputs": [
    {
     "data": {
      "text/plain": [
       "list"
      ]
     },
     "execution_count": 14,
     "metadata": {},
     "output_type": "execute_result"
    }
   ],
   "source": [
    "activities_returned = []\n",
    "activity_returned = dict()\n",
    "type(activities_returned)"
   ]
  },
  {
   "cell_type": "code",
   "execution_count": 15,
   "metadata": {},
   "outputs": [
    {
     "name": "stderr",
     "output_type": "stream",
     "text": [
      "No such attribute visibility on entity <Activity id=1337718957 name='Day 1 RED Jan - Muddy Connaught water' resource_state=2>\n",
      "No such attribute heartrate_opt_out on entity <Activity id=1337718957 name='Day 1 RED Jan - Muddy Connaught water' resource_state=2>\n",
      "No such attribute display_hide_heartrate_option on entity <Activity id=1337718957 name='Day 1 RED Jan - Muddy Connaught water' resource_state=2>\n",
      "No such attribute visibility on entity <Activity id=1337718988 name='Day 2 RED Jan - Bury Road and back' resource_state=2>\n",
      "No such attribute heartrate_opt_out on entity <Activity id=1337718988 name='Day 2 RED Jan - Bury Road and back' resource_state=2>\n",
      "No such attribute display_hide_heartrate_option on entity <Activity id=1337718988 name='Day 2 RED Jan - Bury Road and back' resource_state=2>\n",
      "No such attribute visibility on entity <Activity id=1338842063 name='Day 3 RED Jan - Shawell basin' resource_state=2>\n",
      "No such attribute heartrate_opt_out on entity <Activity id=1338842063 name='Day 3 RED Jan - Shawell basin' resource_state=2>\n",
      "No such attribute display_hide_heartrate_option on entity <Activity id=1338842063 name='Day 3 RED Jan - Shawell basin' resource_state=2>\n",
      "No such attribute visibility on entity <Activity id=1340292008 name='Day 4 RED Jan - Run to circuits' resource_state=2>\n",
      "No such attribute heartrate_opt_out on entity <Activity id=1340292008 name='Day 4 RED Jan - Run to circuits' resource_state=2>\n",
      "No such attribute display_hide_heartrate_option on entity <Activity id=1340292008 name='Day 4 RED Jan - Run to circuits' resource_state=2>\n",
      "No such attribute visibility on entity <Activity id=1340396046 name='Day 4 RED Jan - Run back from circuits' resource_state=2>\n",
      "No such attribute heartrate_opt_out on entity <Activity id=1340396046 name='Day 4 RED Jan - Run back from circuits' resource_state=2>\n",
      "No such attribute display_hide_heartrate_option on entity <Activity id=1340396046 name='Day 4 RED Jan - Run back from circuits' resource_state=2>\n",
      "No such attribute visibility on entity <Activity id=1341696079 name='Day 5 RED Jan - Chingford/Whitehall rd/Rangers rd loop' resource_state=2>\n",
      "No such attribute heartrate_opt_out on entity <Activity id=1341696079 name='Day 5 RED Jan - Chingford/Whitehall rd/Rangers rd loop' resource_state=2>\n",
      "No such attribute display_hide_heartrate_option on entity <Activity id=1341696079 name='Day 5 RED Jan - Chingford/Whitehall rd/Rangers rd loop' resource_state=2>\n",
      "No such attribute visibility on entity <Activity id=1343412121 name='Day 6 RED Jan - Trying new loop   ' resource_state=2>\n",
      "No such attribute heartrate_opt_out on entity <Activity id=1343412121 name='Day 6 RED Jan - Trying new loop   ' resource_state=2>\n",
      "No such attribute display_hide_heartrate_option on entity <Activity id=1343412121 name='Day 6 RED Jan - Trying new loop   ' resource_state=2>\n",
      "No such attribute visibility on entity <Activity id=1345297015 name='Day 7 RED Jan - Quick one to Epping new road and back' resource_state=2>\n",
      "No such attribute heartrate_opt_out on entity <Activity id=1345297015 name='Day 7 RED Jan - Quick one to Epping new road and back' resource_state=2>\n",
      "No such attribute display_hide_heartrate_option on entity <Activity id=1345297015 name='Day 7 RED Jan - Quick one to Epping new road and back' resource_state=2>\n",
      "No such attribute visibility on entity <Activity id=1346796099 name='Day 8 Red jan walk run with Anna ' resource_state=2>\n",
      "No such attribute heartrate_opt_out on entity <Activity id=1346796099 name='Day 8 Red jan walk run with Anna ' resource_state=2>\n",
      "No such attribute display_hide_heartrate_option on entity <Activity id=1346796099 name='Day 8 Red jan walk run with Anna ' resource_state=2>\n",
      "No such attribute visibility on entity <Activity id=1348321870 name='Day 9 red January to and back from circuits' resource_state=2>\n",
      "No such attribute heartrate_opt_out on entity <Activity id=1348321870 name='Day 9 red January to and back from circuits' resource_state=2>\n",
      "No such attribute display_hide_heartrate_option on entity <Activity id=1348321870 name='Day 9 red January to and back from circuits' resource_state=2>\n",
      "No such attribute visibility on entity <Activity id=1349756001 name='To the station - every metre counts, right?' resource_state=2>\n",
      "No such attribute heartrate_opt_out on entity <Activity id=1349756001 name='To the station - every metre counts, right?' resource_state=2>\n",
      "No such attribute display_hide_heartrate_option on entity <Activity id=1349756001 name='To the station - every metre counts, right?' resource_state=2>\n",
      "No such attribute visibility on entity <Activity id=1349756050 name='Day 8 RED Jan - Hackney downs to work' resource_state=2>\n",
      "No such attribute heartrate_opt_out on entity <Activity id=1349756050 name='Day 8 RED Jan - Hackney downs to work' resource_state=2>\n",
      "No such attribute display_hide_heartrate_option on entity <Activity id=1349756050 name='Day 8 RED Jan - Hackney downs to work' resource_state=2>\n",
      "No such attribute visibility on entity <Activity id=1351622101 name='Day 11 Red January- out to shadwell bain' resource_state=2>\n",
      "No such attribute heartrate_opt_out on entity <Activity id=1351622101 name='Day 11 Red January- out to shadwell bain' resource_state=2>\n",
      "No such attribute display_hide_heartrate_option on entity <Activity id=1351622101 name='Day 11 Red January- out to shadwell bain' resource_state=2>\n",
      "No such attribute visibility on entity <Activity id=1351643579 name='Day 11 Red January - back from shadwell basin. ' resource_state=2>\n",
      "No such attribute heartrate_opt_out on entity <Activity id=1351643579 name='Day 11 Red January - back from shadwell basin. ' resource_state=2>\n",
      "No such attribute display_hide_heartrate_option on entity <Activity id=1351643579 name='Day 11 Red January - back from shadwell basin. ' resource_state=2>\n",
      "No such attribute visibility on entity <Activity id=1352980351 name='Day 12 Red January - Epping forest' resource_state=2>\n",
      "No such attribute heartrate_opt_out on entity <Activity id=1352980351 name='Day 12 Red January - Epping forest' resource_state=2>\n",
      "No such attribute display_hide_heartrate_option on entity <Activity id=1352980351 name='Day 12 Red January - Epping forest' resource_state=2>\n",
      "No such attribute visibility on entity <Activity id=1354527067 name='Day 13 RED January - short one' resource_state=2>\n",
      "No such attribute heartrate_opt_out on entity <Activity id=1354527067 name='Day 13 RED January - short one' resource_state=2>\n",
      "No such attribute display_hide_heartrate_option on entity <Activity id=1354527067 name='Day 13 RED January - short one' resource_state=2>\n",
      "No such attribute visibility on entity <Activity id=1356853214 name='Day 14 RED January - easy end of week recovery run' resource_state=2>\n",
      "No such attribute heartrate_opt_out on entity <Activity id=1356853214 name='Day 14 RED January - easy end of week recovery run' resource_state=2>\n",
      "No such attribute display_hide_heartrate_option on entity <Activity id=1356853214 name='Day 14 RED January - easy end of week recovery run' resource_state=2>\n",
      "No such attribute visibility on entity <Activity id=1358866900 name='Day 15 RED Jan - Work to Hackney Down with Nick' resource_state=2>\n",
      "No such attribute heartrate_opt_out on entity <Activity id=1358866900 name='Day 15 RED Jan - Work to Hackney Down with Nick' resource_state=2>\n",
      "No such attribute display_hide_heartrate_option on entity <Activity id=1358866900 name='Day 15 RED Jan - Work to Hackney Down with Nick' resource_state=2>\n",
      "No such attribute visibility on entity <Activity id=1358866891 name='Station to home' resource_state=2>\n",
      "No such attribute heartrate_opt_out on entity <Activity id=1358866891 name='Station to home' resource_state=2>\n",
      "No such attribute display_hide_heartrate_option on entity <Activity id=1358866891 name='Station to home' resource_state=2>\n",
      "No such attribute visibility on entity <Activity id=1359886145 name='Day 16 Red January- to circuits and back ' resource_state=2>\n",
      "No such attribute heartrate_opt_out on entity <Activity id=1359886145 name='Day 16 Red January- to circuits and back ' resource_state=2>\n",
      "No such attribute display_hide_heartrate_option on entity <Activity id=1359886145 name='Day 16 Red January- to circuits and back ' resource_state=2>\n",
      "No such attribute visibility on entity <Activity id=1361569293 name='Day 17 RED January - Shadwell basin with Roz - showing her the route' resource_state=2>\n",
      "No such attribute heartrate_opt_out on entity <Activity id=1361569293 name='Day 17 RED January - Shadwell basin with Roz - showing her the route' resource_state=2>\n",
      "No such attribute display_hide_heartrate_option on entity <Activity id=1361569293 name='Day 17 RED January - Shadwell basin with Roz - showing her the route' resource_state=2>\n",
      "No such attribute visibility on entity <Activity id=1363219356 name='Day 18 Red January - short quick one to keep the streak going' resource_state=2>\n",
      "No such attribute heartrate_opt_out on entity <Activity id=1363219356 name='Day 18 Red January - short quick one to keep the streak going' resource_state=2>\n",
      "No such attribute display_hide_heartrate_option on entity <Activity id=1363219356 name='Day 18 Red January - short quick one to keep the streak going' resource_state=2>\n",
      "No such attribute visibility on entity <Activity id=1364538572 name='Day 19 RED January - Epping forest' resource_state=2>\n",
      "No such attribute heartrate_opt_out on entity <Activity id=1364538572 name='Day 19 RED January - Epping forest' resource_state=2>\n",
      "No such attribute display_hide_heartrate_option on entity <Activity id=1364538572 name='Day 19 RED January - Epping forest' resource_state=2>\n",
      "No such attribute visibility on entity <Activity id=1366131306 name='Day 20 RED January - Epping forest' resource_state=2>\n",
      "No such attribute heartrate_opt_out on entity <Activity id=1366131306 name='Day 20 RED January - Epping forest' resource_state=2>\n",
      "No such attribute display_hide_heartrate_option on entity <Activity id=1366131306 name='Day 20 RED January - Epping forest' resource_state=2>\n",
      "No such attribute visibility on entity <Activity id=1368781315 name='Day 21 RED January - Short one to end the week' resource_state=2>\n",
      "No such attribute heartrate_opt_out on entity <Activity id=1368781315 name='Day 21 RED January - Short one to end the week' resource_state=2>\n",
      "No such attribute display_hide_heartrate_option on entity <Activity id=1368781315 name='Day 21 RED January - Short one to end the week' resource_state=2>\n",
      "No such attribute visibility on entity <Activity id=1369612822 name='Day 22 RED January - shadwell basin on my own' resource_state=2>\n",
      "No such attribute heartrate_opt_out on entity <Activity id=1369612822 name='Day 22 RED January - shadwell basin on my own' resource_state=2>\n",
      "No such attribute display_hide_heartrate_option on entity <Activity id=1369612822 name='Day 22 RED January - shadwell basin on my own' resource_state=2>\n",
      "No such attribute visibility on entity <Activity id=1371568500 name='Day 23 RED January to and back from circuits' resource_state=2>\n",
      "No such attribute heartrate_opt_out on entity <Activity id=1371568500 name='Day 23 RED January to and back from circuits' resource_state=2>\n",
      "No such attribute display_hide_heartrate_option on entity <Activity id=1371568500 name='Day 23 RED January to and back from circuits' resource_state=2>\n",
      "No such attribute visibility on entity <Activity id=1372888231 name='Day 24 RED January - Shadwell basin in the torrential driving rain' resource_state=2>\n",
      "No such attribute heartrate_opt_out on entity <Activity id=1372888231 name='Day 24 RED January - Shadwell basin in the torrential driving rain' resource_state=2>\n",
      "No such attribute display_hide_heartrate_option on entity <Activity id=1372888231 name='Day 24 RED January - Shadwell basin in the torrential driving rain' resource_state=2>\n",
      "No such attribute visibility on entity <Activity id=1374438075 name='Day 25 RED January - to and from circuits ' resource_state=2>\n",
      "No such attribute heartrate_opt_out on entity <Activity id=1374438075 name='Day 25 RED January - to and from circuits ' resource_state=2>\n",
      "No such attribute display_hide_heartrate_option on entity <Activity id=1374438075 name='Day 25 RED January - to and from circuits ' resource_state=2>\n",
      "No such attribute visibility on entity <Activity id=1375982671 name='Day 26 RED January - Epping forest' resource_state=2>\n",
      "No such attribute heartrate_opt_out on entity <Activity id=1375982671 name='Day 26 RED January - Epping forest' resource_state=2>\n",
      "No such attribute display_hide_heartrate_option on entity <Activity id=1375982671 name='Day 26 RED January - Epping forest' resource_state=2>\n",
      "No such attribute visibility on entity <Activity id=1377139745 name='Day 27 RED January - short slow one cos of manflu' resource_state=2>\n",
      "No such attribute heartrate_opt_out on entity <Activity id=1377139745 name='Day 27 RED January - short slow one cos of manflu' resource_state=2>\n",
      "No such attribute display_hide_heartrate_option on entity <Activity id=1377139745 name='Day 27 RED January - short slow one cos of manflu' resource_state=2>\n",
      "No such attribute visibility on entity <Activity id=1379124642 name='Day 28 - RED January - very slow short keeping the streak alive run ' resource_state=2>\n",
      "No such attribute heartrate_opt_out on entity <Activity id=1379124642 name='Day 28 - RED January - very slow short keeping the streak alive run ' resource_state=2>\n",
      "No such attribute display_hide_heartrate_option on entity <Activity id=1379124642 name='Day 28 - RED January - very slow short keeping the streak alive run ' resource_state=2>\n",
      "No such attribute visibility on entity <Activity id=1381026492 name='Day 29 RED January - short man flu keeping the streak alive run' resource_state=2>\n",
      "No such attribute heartrate_opt_out on entity <Activity id=1381026492 name='Day 29 RED January - short man flu keeping the streak alive run' resource_state=2>\n",
      "No such attribute display_hide_heartrate_option on entity <Activity id=1381026492 name='Day 29 RED January - short man flu keeping the streak alive run' resource_state=2>\n",
      "No such attribute visibility on entity <Activity id=1382770149 name='Day 30 RED January run to and from circuits ' resource_state=2>\n",
      "No such attribute heartrate_opt_out on entity <Activity id=1382770149 name='Day 30 RED January run to and from circuits ' resource_state=2>\n",
      "No such attribute display_hide_heartrate_option on entity <Activity id=1382770149 name='Day 30 RED January run to and from circuits ' resource_state=2>\n",
      "No such attribute visibility on entity <Activity id=1384577204 name='Day 31 RED January - Whoo Hoo - To Shadwell basin - 31 days done!!!!' resource_state=2>\n",
      "No such attribute heartrate_opt_out on entity <Activity id=1384577204 name='Day 31 RED January - Whoo Hoo - To Shadwell basin - 31 days done!!!!' resource_state=2>\n",
      "No such attribute display_hide_heartrate_option on entity <Activity id=1384577204 name='Day 31 RED January - Whoo Hoo - To Shadwell basin - 31 days done!!!!' resource_state=2>\n",
      "No such attribute visibility on entity <Activity id=1386164297 name='Day 32 in streak - to and from circuits' resource_state=2>\n",
      "No such attribute heartrate_opt_out on entity <Activity id=1386164297 name='Day 32 in streak - to and from circuits' resource_state=2>\n",
      "No such attribute display_hide_heartrate_option on entity <Activity id=1386164297 name='Day 32 in streak - to and from circuits' resource_state=2>\n",
      "No such attribute visibility on entity <Activity id=1392524119 name='Day 33 - hill sprints ' resource_state=2>\n",
      "No such attribute heartrate_opt_out on entity <Activity id=1392524119 name='Day 33 - hill sprints ' resource_state=2>\n",
      "No such attribute display_hide_heartrate_option on entity <Activity id=1392524119 name='Day 33 - hill sprints ' resource_state=2>\n",
      "No such attribute visibility on entity <Activity id=1392523969 name='Day 34 - road loop' resource_state=2>\n",
      "No such attribute heartrate_opt_out on entity <Activity id=1392523969 name='Day 34 - road loop' resource_state=2>\n",
      "No such attribute display_hide_heartrate_option on entity <Activity id=1392523969 name='Day 34 - road loop' resource_state=2>\n",
      "No such attribute visibility on entity <Activity id=1392523976 name='Day 35 - end of week recovery run keeping the streak alive' resource_state=2>\n",
      "No such attribute heartrate_opt_out on entity <Activity id=1392523976 name='Day 35 - end of week recovery run keeping the streak alive' resource_state=2>\n",
      "No such attribute display_hide_heartrate_option on entity <Activity id=1392523976 name='Day 35 - end of week recovery run keeping the streak alive' resource_state=2>\n",
      "No such attribute visibility on entity <Activity id=1392738519 name='Day 36 walk run with Anna ' resource_state=2>\n",
      "No such attribute heartrate_opt_out on entity <Activity id=1392738519 name='Day 36 walk run with Anna ' resource_state=2>\n",
      "No such attribute display_hide_heartrate_option on entity <Activity id=1392738519 name='Day 36 walk run with Anna ' resource_state=2>\n",
      "No such attribute visibility on entity <Activity id=1393363507 name='Day 36 - work to Hackney Downs - with Nick' resource_state=2>\n",
      "No such attribute heartrate_opt_out on entity <Activity id=1393363507 name='Day 36 - work to Hackney Downs - with Nick' resource_state=2>\n",
      "No such attribute display_hide_heartrate_option on entity <Activity id=1393363507 name='Day 36 - work to Hackney Downs - with Nick' resource_state=2>\n",
      "No such attribute visibility on entity <Activity id=1393363470 name='Station to home' resource_state=2>\n",
      "No such attribute heartrate_opt_out on entity <Activity id=1393363470 name='Station to home' resource_state=2>\n",
      "No such attribute display_hide_heartrate_option on entity <Activity id=1393363470 name='Station to home' resource_state=2>\n",
      "No such attribute visibility on entity <Activity id=1394200062 name='Day 37 - shadwell basin with nick ' resource_state=2>\n",
      "No such attribute heartrate_opt_out on entity <Activity id=1394200062 name='Day 37 - shadwell basin with nick ' resource_state=2>\n",
      "No such attribute display_hide_heartrate_option on entity <Activity id=1394200062 name='Day 37 - shadwell basin with nick ' resource_state=2>\n",
      "No such attribute visibility on entity <Activity id=1396037586 name='Day 38 - limehouse ' resource_state=2>\n",
      "No such attribute heartrate_opt_out on entity <Activity id=1396037586 name='Day 38 - limehouse ' resource_state=2>\n",
      "No such attribute display_hide_heartrate_option on entity <Activity id=1396037586 name='Day 38 - limehouse ' resource_state=2>\n",
      "No such attribute visibility on entity <Activity id=1397478771 name='Day 39 - to and from circuits ' resource_state=2>\n",
      "No such attribute heartrate_opt_out on entity <Activity id=1397478771 name='Day 39 - to and from circuits ' resource_state=2>\n",
      "No such attribute display_hide_heartrate_option on entity <Activity id=1397478771 name='Day 39 - to and from circuits ' resource_state=2>\n",
      "No such attribute visibility on entity <Activity id=1399133499 name='Day 40 - hill sprints' resource_state=2>\n",
      "No such attribute heartrate_opt_out on entity <Activity id=1399133499 name='Day 40 - hill sprints' resource_state=2>\n",
      "No such attribute display_hide_heartrate_option on entity <Activity id=1399133499 name='Day 40 - hill sprints' resource_state=2>\n",
      "No such attribute visibility on entity <Activity id=1403973982 name='Walk run with Anna ' resource_state=2>\n",
      "No such attribute heartrate_opt_out on entity <Activity id=1403973982 name='Walk run with Anna ' resource_state=2>\n",
      "No such attribute display_hide_heartrate_option on entity <Activity id=1403973982 name='Walk run with Anna ' resource_state=2>\n",
      "No such attribute visibility on entity <Activity id=1405231612 name='To the station' resource_state=2>\n",
      "No such attribute heartrate_opt_out on entity <Activity id=1405231612 name='To the station' resource_state=2>\n",
      "No such attribute display_hide_heartrate_option on entity <Activity id=1405231612 name='To the station' resource_state=2>\n",
      "No such attribute visibility on entity <Activity id=1405231666 name='Hackney downs to work' resource_state=2>\n",
      "No such attribute heartrate_opt_out on entity <Activity id=1405231666 name='Hackney downs to work' resource_state=2>\n",
      "No such attribute display_hide_heartrate_option on entity <Activity id=1405231666 name='Hackney downs to work' resource_state=2>\n",
      "No such attribute visibility on entity <Activity id=1407268493 name='Limehouse ' resource_state=2>\n",
      "No such attribute heartrate_opt_out on entity <Activity id=1407268493 name='Limehouse ' resource_state=2>\n",
      "No such attribute display_hide_heartrate_option on entity <Activity id=1407268493 name='Limehouse ' resource_state=2>\n",
      "No such attribute visibility on entity <Activity id=1408529918 name='Run to and from circuits ' resource_state=2>\n",
      "No such attribute heartrate_opt_out on entity <Activity id=1408529918 name='Run to and from circuits ' resource_state=2>\n",
      "No such attribute display_hide_heartrate_option on entity <Activity id=1408529918 name='Run to and from circuits ' resource_state=2>\n",
      "No such attribute visibility on entity <Activity id=1410409445 name='Muddy Epping forest' resource_state=2>\n",
      "No such attribute heartrate_opt_out on entity <Activity id=1410409445 name='Muddy Epping forest' resource_state=2>\n",
      "No such attribute display_hide_heartrate_option on entity <Activity id=1410409445 name='Muddy Epping forest' resource_state=2>\n",
      "No such attribute visibility on entity <Activity id=1415436396 name='Run walk with Anna' resource_state=2>\n",
      "No such attribute heartrate_opt_out on entity <Activity id=1415436396 name='Run walk with Anna' resource_state=2>\n",
      "No such attribute display_hide_heartrate_option on entity <Activity id=1415436396 name='Run walk with Anna' resource_state=2>\n",
      "No such attribute visibility on entity <Activity id=1416112452 name='Work to hackney downs with Nick' resource_state=2>\n",
      "No such attribute heartrate_opt_out on entity <Activity id=1416112452 name='Work to hackney downs with Nick' resource_state=2>\n",
      "No such attribute display_hide_heartrate_option on entity <Activity id=1416112452 name='Work to hackney downs with Nick' resource_state=2>\n",
      "No such attribute visibility on entity <Activity id=1416112402 name='Station to home' resource_state=2>\n",
      "No such attribute heartrate_opt_out on entity <Activity id=1416112402 name='Station to home' resource_state=2>\n",
      "No such attribute display_hide_heartrate_option on entity <Activity id=1416112402 name='Station to home' resource_state=2>\n",
      "No such attribute visibility on entity <Activity id=1418794917 name='Quick one to shadwell basin ' resource_state=2>\n",
      "No such attribute heartrate_opt_out on entity <Activity id=1418794917 name='Quick one to shadwell basin ' resource_state=2>\n",
      "No such attribute display_hide_heartrate_option on entity <Activity id=1418794917 name='Quick one to shadwell basin ' resource_state=2>\n",
      "No such attribute visibility on entity <Activity id=1422121181 name='Epping forest' resource_state=2>\n",
      "No such attribute heartrate_opt_out on entity <Activity id=1422121181 name='Epping forest' resource_state=2>\n",
      "No such attribute display_hide_heartrate_option on entity <Activity id=1422121181 name='Epping forest' resource_state=2>\n",
      "No such attribute visibility on entity <Activity id=1424992030 name='Epping new road route' resource_state=2>\n",
      "No such attribute heartrate_opt_out on entity <Activity id=1424992030 name='Epping new road route' resource_state=2>\n",
      "No such attribute display_hide_heartrate_option on entity <Activity id=1424992030 name='Epping new road route' resource_state=2>\n",
      "No such attribute visibility on entity <Activity id=1426947554 name='Limehouse in the driving wind and snow ' resource_state=2>\n",
      "No such attribute heartrate_opt_out on entity <Activity id=1426947554 name='Limehouse in the driving wind and snow ' resource_state=2>\n",
      "No such attribute display_hide_heartrate_option on entity <Activity id=1426947554 name='Limehouse in the driving wind and snow ' resource_state=2>\n",
      "No such attribute visibility on entity <Activity id=1428585226 name='Very cold snowy Epping forest ' resource_state=2>\n",
      "No such attribute heartrate_opt_out on entity <Activity id=1428585226 name='Very cold snowy Epping forest ' resource_state=2>\n",
      "No such attribute display_hide_heartrate_option on entity <Activity id=1428585226 name='Very cold snowy Epping forest ' resource_state=2>\n",
      "No such attribute visibility on entity <Activity id=1431304721 name='Very snowy Epping forest run' resource_state=2>\n",
      "No such attribute heartrate_opt_out on entity <Activity id=1431304721 name='Very snowy Epping forest run' resource_state=2>\n",
      "No such attribute display_hide_heartrate_option on entity <Activity id=1431304721 name='Very snowy Epping forest run' resource_state=2>\n",
      "No such attribute visibility on entity <Activity id=1432566827 name='Last run of the Beast from the east week Epping new road and back ' resource_state=2>\n",
      "No such attribute heartrate_opt_out on entity <Activity id=1432566827 name='Last run of the Beast from the east week Epping new road and back ' resource_state=2>\n",
      "No such attribute display_hide_heartrate_option on entity <Activity id=1432566827 name='Last run of the Beast from the east week Epping new road and back ' resource_state=2>\n",
      "No such attribute visibility on entity <Activity id=1437497615 name='Nice run and chat with Sam ' resource_state=2>\n",
      "No such attribute heartrate_opt_out on entity <Activity id=1437497615 name='Nice run and chat with Sam ' resource_state=2>\n",
      "No such attribute display_hide_heartrate_option on entity <Activity id=1437497615 name='Nice run and chat with Sam ' resource_state=2>\n",
      "No such attribute visibility on entity <Activity id=1440810703 name='Shadwell basin with Katie ' resource_state=2>\n",
      "No such attribute heartrate_opt_out on entity <Activity id=1440810703 name='Shadwell basin with Katie ' resource_state=2>\n",
      "No such attribute display_hide_heartrate_option on entity <Activity id=1440810703 name='Shadwell basin with Katie ' resource_state=2>\n",
      "No such attribute visibility on entity <Activity id=1443759181 name='Epping forest' resource_state=2>\n",
      "No such attribute heartrate_opt_out on entity <Activity id=1443759181 name='Epping forest' resource_state=2>\n",
      "No such attribute display_hide_heartrate_option on entity <Activity id=1443759181 name='Epping forest' resource_state=2>\n",
      "No such attribute visibility on entity <Activity id=1472930219 name='Morning Run' resource_state=2>\n",
      "No such attribute heartrate_opt_out on entity <Activity id=1472930219 name='Morning Run' resource_state=2>\n",
      "No such attribute display_hide_heartrate_option on entity <Activity id=1472930219 name='Morning Run' resource_state=2>\n",
      "No such attribute visibility on entity <Activity id=1472925434 name='First one in two week. Shadwell basin' resource_state=2>\n",
      "No such attribute heartrate_opt_out on entity <Activity id=1472925434 name='First one in two week. Shadwell basin' resource_state=2>\n",
      "No such attribute display_hide_heartrate_option on entity <Activity id=1472925434 name='First one in two week. Shadwell basin' resource_state=2>\n",
      "No such attribute visibility on entity <Activity id=1481038879 name='Annual taking car in for a service run ' resource_state=2>\n",
      "No such attribute heartrate_opt_out on entity <Activity id=1481038879 name='Annual taking car in for a service run ' resource_state=2>\n",
      "No such attribute display_hide_heartrate_option on entity <Activity id=1481038879 name='Annual taking car in for a service run ' resource_state=2>\n",
      "No such attribute visibility on entity <Activity id=1487231775 name='Run to fartlek with Nick B ' resource_state=2>\n",
      "No such attribute heartrate_opt_out on entity <Activity id=1487231775 name='Run to fartlek with Nick B ' resource_state=2>\n",
      "No such attribute display_hide_heartrate_option on entity <Activity id=1487231775 name='Run to fartlek with Nick B ' resource_state=2>\n",
      "No such attribute visibility on entity <Activity id=1488537058 name='Fartlek sprints with Nick' resource_state=2>\n",
      "No such attribute heartrate_opt_out on entity <Activity id=1488537058 name='Fartlek sprints with Nick' resource_state=2>\n",
      "No such attribute display_hide_heartrate_option on entity <Activity id=1488537058 name='Fartlek sprints with Nick' resource_state=2>\n",
      "No such attribute visibility on entity <Activity id=1486998922 name='Cooldown after sprints ' resource_state=2>\n",
      "No such attribute heartrate_opt_out on entity <Activity id=1486998922 name='Cooldown after sprints ' resource_state=2>\n",
      "No such attribute display_hide_heartrate_option on entity <Activity id=1486998922 name='Cooldown after sprints ' resource_state=2>\n",
      "No such attribute visibility on entity <Activity id=1488925147 name='Lime house with Katie keeping me honest ' resource_state=2>\n",
      "No such attribute heartrate_opt_out on entity <Activity id=1488925147 name='Lime house with Katie keeping me honest ' resource_state=2>\n",
      "No such attribute display_hide_heartrate_option on entity <Activity id=1488925147 name='Lime house with Katie keeping me honest ' resource_state=2>\n",
      "No such attribute visibility on entity <Activity id=1498463258 name='Shadwell basin with Katie - zippy 5K' resource_state=2>\n",
      "No such attribute heartrate_opt_out on entity <Activity id=1498463258 name='Shadwell basin with Katie - zippy 5K' resource_state=2>\n",
      "No such attribute display_hide_heartrate_option on entity <Activity id=1498463258 name='Shadwell basin with Katie - zippy 5K' resource_state=2>\n",
      "No such attribute visibility on entity <Activity id=1500991181 name='Work to hackney downs with Nick' resource_state=2>\n",
      "No such attribute heartrate_opt_out on entity <Activity id=1500991181 name='Work to hackney downs with Nick' resource_state=2>\n",
      "No such attribute display_hide_heartrate_option on entity <Activity id=1500991181 name='Work to hackney downs with Nick' resource_state=2>\n",
      "No such attribute visibility on entity <Activity id=1500991051 name='Station to home - cool down' resource_state=2>\n",
      "No such attribute heartrate_opt_out on entity <Activity id=1500991051 name='Station to home - cool down' resource_state=2>\n",
      "No such attribute display_hide_heartrate_option on entity <Activity id=1500991051 name='Station to home - cool down' resource_state=2>\n",
      "No such attribute visibility on entity <Activity id=1505695827 name='Muddy Epping forest ' resource_state=2>\n",
      "No such attribute heartrate_opt_out on entity <Activity id=1505695827 name='Muddy Epping forest ' resource_state=2>\n",
      "No such attribute display_hide_heartrate_option on entity <Activity id=1505695827 name='Muddy Epping forest ' resource_state=2>\n",
      "No such attribute visibility on entity <Activity id=1507452175 name='Nice Saturday run ' resource_state=2>\n",
      "No such attribute heartrate_opt_out on entity <Activity id=1507452175 name='Nice Saturday run ' resource_state=2>\n",
      "No such attribute display_hide_heartrate_option on entity <Activity id=1507452175 name='Nice Saturday run ' resource_state=2>\n",
      "No such attribute visibility on entity <Activity id=1512209390 name='Work to Hackney downs with nick' resource_state=2>\n",
      "No such attribute heartrate_opt_out on entity <Activity id=1512209390 name='Work to Hackney downs with nick' resource_state=2>\n",
      "No such attribute display_hide_heartrate_option on entity <Activity id=1512209390 name='Work to Hackney downs with nick' resource_state=2>\n",
      "No such attribute visibility on entity <Activity id=1512270368 name='Station to home ' resource_state=2>\n",
      "No such attribute heartrate_opt_out on entity <Activity id=1512270368 name='Station to home ' resource_state=2>\n",
      "No such attribute display_hide_heartrate_option on entity <Activity id=1512270368 name='Station to home ' resource_state=2>\n",
      "No such attribute visibility on entity <Activity id=1515320748 name='Morning Run' resource_state=2>\n",
      "No such attribute heartrate_opt_out on entity <Activity id=1515320748 name='Morning Run' resource_state=2>\n",
      "No such attribute display_hide_heartrate_option on entity <Activity id=1515320748 name='Morning Run' resource_state=2>\n",
      "No such attribute visibility on entity <Activity id=1515433225 name='Hackney downs to work ' resource_state=2>\n",
      "No such attribute heartrate_opt_out on entity <Activity id=1515433225 name='Hackney downs to work ' resource_state=2>\n",
      "No such attribute display_hide_heartrate_option on entity <Activity id=1515433225 name='Hackney downs to work ' resource_state=2>\n",
      "No such attribute visibility on entity <Activity id=1515727039 name='Warm up for sprints - sprints - cool down from sprints w/Nick' resource_state=2>\n",
      "No such attribute heartrate_opt_out on entity <Activity id=1515727039 name='Warm up for sprints - sprints - cool down from sprints w/Nick' resource_state=2>\n",
      "No such attribute display_hide_heartrate_option on entity <Activity id=1515727039 name='Warm up for sprints - sprints - cool down from sprints w/Nick' resource_state=2>\n",
      "No such attribute visibility on entity <Activity id=1517895053 name='To and from circuits ' resource_state=2>\n",
      "No such attribute heartrate_opt_out on entity <Activity id=1517895053 name='To and from circuits ' resource_state=2>\n",
      "No such attribute display_hide_heartrate_option on entity <Activity id=1517895053 name='To and from circuits ' resource_state=2>\n",
      "No such attribute visibility on entity <Activity id=1519736983 name='From Lizzie’s Work to home ' resource_state=2>\n",
      "No such attribute heartrate_opt_out on entity <Activity id=1519736983 name='From Lizzie’s Work to home ' resource_state=2>\n",
      "No such attribute display_hide_heartrate_option on entity <Activity id=1519736983 name='From Lizzie’s Work to home ' resource_state=2>\n",
      "No such attribute visibility on entity <Activity id=1528203076 name='Home to station' resource_state=2>\n",
      "No such attribute heartrate_opt_out on entity <Activity id=1528203076 name='Home to station' resource_state=2>\n",
      "No such attribute display_hide_heartrate_option on entity <Activity id=1528203076 name='Home to station' resource_state=2>\n",
      "No such attribute visibility on entity <Activity id=1528329420 name='Clapton to work with Helen ' resource_state=2>\n",
      "No such attribute heartrate_opt_out on entity <Activity id=1528329420 name='Clapton to work with Helen ' resource_state=2>\n",
      "No such attribute display_hide_heartrate_option on entity <Activity id=1528329420 name='Clapton to work with Helen ' resource_state=2>\n",
      "No such attribute visibility on entity <Activity id=1532455002 name='Home to station' resource_state=2>\n",
      "No such attribute heartrate_opt_out on entity <Activity id=1532455002 name='Home to station' resource_state=2>\n",
      "No such attribute display_hide_heartrate_option on entity <Activity id=1532455002 name='Home to station' resource_state=2>\n",
      "No such attribute visibility on entity <Activity id=1532455062 name='Away with the fairies 6 mile run turning into an 8 mile run cos I missed my turning' resource_state=2>\n",
      "No such attribute heartrate_opt_out on entity <Activity id=1532455062 name='Away with the fairies 6 mile run turning into an 8 mile run cos I missed my turning' resource_state=2>\n",
      "No such attribute display_hide_heartrate_option on entity <Activity id=1532455062 name='Away with the fairies 6 mile run turning into an 8 mile run cos I missed my turning' resource_state=2>\n",
      "No such attribute visibility on entity <Activity id=1536514901 name='Epping forest 🌳 ' resource_state=2>\n",
      "No such attribute heartrate_opt_out on entity <Activity id=1536514901 name='Epping forest 🌳 ' resource_state=2>\n",
      "No such attribute display_hide_heartrate_option on entity <Activity id=1536514901 name='Epping forest 🌳 ' resource_state=2>\n",
      "No such attribute visibility on entity <Activity id=1536514876 name='Cool down' resource_state=2>\n",
      "No such attribute heartrate_opt_out on entity <Activity id=1536514876 name='Cool down' resource_state=2>\n",
      "No such attribute display_hide_heartrate_option on entity <Activity id=1536514876 name='Cool down' resource_state=2>\n",
      "No such attribute visibility on entity <Activity id=1542271578 name='Morning Run' resource_state=2>\n",
      "No such attribute heartrate_opt_out on entity <Activity id=1542271578 name='Morning Run' resource_state=2>\n",
      "No such attribute display_hide_heartrate_option on entity <Activity id=1542271578 name='Morning Run' resource_state=2>\n",
      "No such attribute visibility on entity <Activity id=1542271629 name='Injured calf after 2 miles ' resource_state=2>\n",
      "No such attribute heartrate_opt_out on entity <Activity id=1542271629 name='Injured calf after 2 miles ' resource_state=2>\n",
      "No such attribute display_hide_heartrate_option on entity <Activity id=1542271629 name='Injured calf after 2 miles ' resource_state=2>\n",
      "No such attribute visibility on entity <Activity id=1542271586 name='Tried again to finish run. Failed' resource_state=2>\n",
      "No such attribute heartrate_opt_out on entity <Activity id=1542271586 name='Tried again to finish run. Failed' resource_state=2>\n",
      "No such attribute display_hide_heartrate_option on entity <Activity id=1542271586 name='Tried again to finish run. Failed' resource_state=2>\n",
      "No such attribute visibility on entity <Activity id=1562022638 name='Testing calf walk run' resource_state=2>\n",
      "No such attribute heartrate_opt_out on entity <Activity id=1562022638 name='Testing calf walk run' resource_state=2>\n",
      "No such attribute display_hide_heartrate_option on entity <Activity id=1562022638 name='Testing calf walk run' resource_state=2>\n",
      "No such attribute visibility on entity <Activity id=1579385350 name='Afternoon Run' resource_state=2>\n",
      "No such attribute heartrate_opt_out on entity <Activity id=1579385350 name='Afternoon Run' resource_state=2>\n",
      "No such attribute display_hide_heartrate_option on entity <Activity id=1579385350 name='Afternoon Run' resource_state=2>\n",
      "No such attribute visibility on entity <Activity id=1579385392 name='Evening Run' resource_state=2>\n",
      "No such attribute heartrate_opt_out on entity <Activity id=1579385392 name='Evening Run' resource_state=2>\n",
      "No such attribute display_hide_heartrate_option on entity <Activity id=1579385392 name='Evening Run' resource_state=2>\n",
      "No such attribute visibility on entity <Activity id=1588531301 name='Testing calf again walk ' resource_state=2>\n",
      "No such attribute heartrate_opt_out on entity <Activity id=1588531301 name='Testing calf again walk ' resource_state=2>\n",
      "No such attribute display_hide_heartrate_option on entity <Activity id=1588531301 name='Testing calf again walk ' resource_state=2>\n",
      "No such attribute visibility on entity <Activity id=1605583711 name='Rehabbing leg 1 min run 1 min walk' resource_state=2>\n",
      "No such attribute heartrate_opt_out on entity <Activity id=1605583711 name='Rehabbing leg 1 min run 1 min walk' resource_state=2>\n",
      "No such attribute display_hide_heartrate_option on entity <Activity id=1605583711 name='Rehabbing leg 1 min run 1 min walk' resource_state=2>\n",
      "No such attribute visibility on entity <Activity id=1624646940 name='Continuing to rehab calf walk run' resource_state=2>\n",
      "No such attribute heartrate_opt_out on entity <Activity id=1624646940 name='Continuing to rehab calf walk run' resource_state=2>\n",
      "No such attribute display_hide_heartrate_option on entity <Activity id=1624646940 name='Continuing to rehab calf walk run' resource_state=2>\n",
      "No such attribute visibility on entity <Activity id=1624646941 name='Cool down walk ' resource_state=2>\n",
      "No such attribute heartrate_opt_out on entity <Activity id=1624646941 name='Cool down walk ' resource_state=2>\n",
      "No such attribute display_hide_heartrate_option on entity <Activity id=1624646941 name='Cool down walk ' resource_state=2>\n",
      "No such attribute visibility on entity <Activity id=1629355075 name='90 secs run 30 secs walk calf rehabbing tun' resource_state=2>\n",
      "No such attribute heartrate_opt_out on entity <Activity id=1629355075 name='90 secs run 30 secs walk calf rehabbing tun' resource_state=2>\n",
      "No such attribute display_hide_heartrate_option on entity <Activity id=1629355075 name='90 secs run 30 secs walk calf rehabbing tun' resource_state=2>\n",
      "No such attribute visibility on entity <Activity id=1629355079 name='Cool down wall after rehab run' resource_state=2>\n",
      "No such attribute heartrate_opt_out on entity <Activity id=1629355079 name='Cool down wall after rehab run' resource_state=2>\n",
      "No such attribute display_hide_heartrate_option on entity <Activity id=1629355079 name='Cool down wall after rehab run' resource_state=2>\n",
      "No such attribute visibility on entity <Activity id=1635799388 name='Rehabbing calf walk run' resource_state=2>\n",
      "No such attribute heartrate_opt_out on entity <Activity id=1635799388 name='Rehabbing calf walk run' resource_state=2>\n",
      "No such attribute display_hide_heartrate_option on entity <Activity id=1635799388 name='Rehabbing calf walk run' resource_state=2>\n",
      "No such attribute visibility on entity <Activity id=1639722376 name='Rehabbing calf still 3 mins on 30 secs off ' resource_state=2>\n",
      "No such attribute heartrate_opt_out on entity <Activity id=1639722376 name='Rehabbing calf still 3 mins on 30 secs off ' resource_state=2>\n",
      "No such attribute display_hide_heartrate_option on entity <Activity id=1639722376 name='Rehabbing calf still 3 mins on 30 secs off ' resource_state=2>\n",
      "No such attribute visibility on entity <Activity id=1644570644 name='Rehabbing calf. Bored now 😒 4 mins on 30 secs off' resource_state=2>\n",
      "No such attribute heartrate_opt_out on entity <Activity id=1644570644 name='Rehabbing calf. Bored now 😒 4 mins on 30 secs off' resource_state=2>\n",
      "No such attribute display_hide_heartrate_option on entity <Activity id=1644570644 name='Rehabbing calf. Bored now 😒 4 mins on 30 secs off' resource_state=2>\n",
      "No such attribute visibility on entity <Activity id=1644570665 name='Cool down walk' resource_state=2>\n",
      "No such attribute heartrate_opt_out on entity <Activity id=1644570665 name='Cool down walk' resource_state=2>\n",
      "No such attribute display_hide_heartrate_option on entity <Activity id=1644570665 name='Cool down walk' resource_state=2>\n",
      "No such attribute visibility on entity <Activity id=1646233904 name='Rehabbing calf 2 days in a row. Whoop still bored tho' resource_state=2>\n",
      "No such attribute heartrate_opt_out on entity <Activity id=1646233904 name='Rehabbing calf 2 days in a row. Whoop still bored tho' resource_state=2>\n",
      "No such attribute display_hide_heartrate_option on entity <Activity id=1646233904 name='Rehabbing calf 2 days in a row. Whoop still bored tho' resource_state=2>\n",
      "No such attribute visibility on entity <Activity id=1650399527 name='rehabbing calf - getting there ' resource_state=2>\n",
      "No such attribute heartrate_opt_out on entity <Activity id=1650399527 name='rehabbing calf - getting there ' resource_state=2>\n",
      "No such attribute display_hide_heartrate_option on entity <Activity id=1650399527 name='rehabbing calf - getting there ' resource_state=2>\n",
      "No such attribute visibility on entity <Activity id=1658647560 name='Slowly building up distance' resource_state=2>\n",
      "No such attribute heartrate_opt_out on entity <Activity id=1658647560 name='Slowly building up distance' resource_state=2>\n",
      "No such attribute display_hide_heartrate_option on entity <Activity id=1658647560 name='Slowly building up distance' resource_state=2>\n",
      "No such attribute visibility on entity <Activity id=1661087735 name='Rehabbing calf shadwell basin ' resource_state=2>\n",
      "No such attribute heartrate_opt_out on entity <Activity id=1661087735 name='Rehabbing calf shadwell basin ' resource_state=2>\n",
      "No such attribute display_hide_heartrate_option on entity <Activity id=1661087735 name='Rehabbing calf shadwell basin ' resource_state=2>\n",
      "No such attribute visibility on entity <Activity id=1665411811 name='To the start of the shadwell path with Sam' resource_state=2>\n",
      "No such attribute heartrate_opt_out on entity <Activity id=1665411811 name='To the start of the shadwell path with Sam' resource_state=2>\n",
      "No such attribute display_hide_heartrate_option on entity <Activity id=1665411811 name='To the start of the shadwell path with Sam' resource_state=2>\n",
      "No such attribute visibility on entity <Activity id=1690957320 name='First run in 12 days & hot hot hot & slow slow slow ' resource_state=2>\n",
      "No such attribute heartrate_opt_out on entity <Activity id=1690957320 name='First run in 12 days & hot hot hot & slow slow slow ' resource_state=2>\n",
      "No such attribute display_hide_heartrate_option on entity <Activity id=1690957320 name='First run in 12 days & hot hot hot & slow slow slow ' resource_state=2>\n",
      "No such attribute visibility on entity <Activity id=1695436268 name='Around shadwell basin and back. ' resource_state=2>\n",
      "No such attribute heartrate_opt_out on entity <Activity id=1695436268 name='Around shadwell basin and back. ' resource_state=2>\n",
      "No such attribute display_hide_heartrate_option on entity <Activity id=1695436268 name='Around shadwell basin and back. ' resource_state=2>\n",
      "No such attribute visibility on entity <Activity id=1701544255 name='Slow and Hot hot hot Epping forest' resource_state=2>\n",
      "No such attribute heartrate_opt_out on entity <Activity id=1701544255 name='Slow and Hot hot hot Epping forest' resource_state=2>\n",
      "No such attribute display_hide_heartrate_option on entity <Activity id=1701544255 name='Slow and Hot hot hot Epping forest' resource_state=2>\n",
      "No such attribute visibility on entity <Activity id=1706210217 name='Shadwell basin hot' resource_state=2>\n",
      "No such attribute heartrate_opt_out on entity <Activity id=1706210217 name='Shadwell basin hot' resource_state=2>\n",
      "No such attribute display_hide_heartrate_option on entity <Activity id=1706210217 name='Shadwell basin hot' resource_state=2>\n",
      "No such attribute visibility on entity <Activity id=1708039921 name='Warm up up the station ' resource_state=2>\n",
      "No such attribute heartrate_opt_out on entity <Activity id=1708039921 name='Warm up up the station ' resource_state=2>\n",
      "No such attribute display_hide_heartrate_option on entity <Activity id=1708039921 name='Warm up up the station ' resource_state=2>\n",
      "No such attribute visibility on entity <Activity id=1708039955 name='Nice slow steady one (sorry Helen)' resource_state=2>\n",
      "No such attribute heartrate_opt_out on entity <Activity id=1708039955 name='Nice slow steady one (sorry Helen)' resource_state=2>\n",
      "No such attribute display_hide_heartrate_option on entity <Activity id=1708039955 name='Nice slow steady one (sorry Helen)' resource_state=2>\n",
      "No such attribute visibility on entity <Activity id=1710676855 name='Shadwell path with Sam' resource_state=2>\n",
      "No such attribute heartrate_opt_out on entity <Activity id=1710676855 name='Shadwell path with Sam' resource_state=2>\n",
      "No such attribute display_hide_heartrate_option on entity <Activity id=1710676855 name='Shadwell path with Sam' resource_state=2>\n",
      "No such attribute visibility on entity <Activity id=1720362970 name='Warm up run to race' resource_state=2>\n",
      "No such attribute heartrate_opt_out on entity <Activity id=1720362970 name='Warm up run to race' resource_state=2>\n",
      "No such attribute display_hide_heartrate_option on entity <Activity id=1720362970 name='Warm up run to race' resource_state=2>\n",
      "No such attribute visibility on entity <Activity id=1720363028 name='Decathalon Chingford 5K' resource_state=2>\n",
      "No such attribute heartrate_opt_out on entity <Activity id=1720363028 name='Decathalon Chingford 5K' resource_state=2>\n",
      "No such attribute display_hide_heartrate_option on entity <Activity id=1720363028 name='Decathalon Chingford 5K' resource_state=2>\n",
      "No such attribute visibility on entity <Activity id=1720363017 name='Cool down slow' resource_state=2>\n",
      "No such attribute heartrate_opt_out on entity <Activity id=1720363017 name='Cool down slow' resource_state=2>\n",
      "No such attribute display_hide_heartrate_option on entity <Activity id=1720363017 name='Cool down slow' resource_state=2>\n",
      "No such attribute visibility on entity <Activity id=1722188614 name='Shadwell basin in the heat!!!!' resource_state=2>\n",
      "No such attribute heartrate_opt_out on entity <Activity id=1722188614 name='Shadwell basin in the heat!!!!' resource_state=2>\n",
      "No such attribute display_hide_heartrate_option on entity <Activity id=1722188614 name='Shadwell basin in the heat!!!!' resource_state=2>\n",
      "No such attribute visibility on entity <Activity id=1737671831 name='Shadwell basin - not so hot thank god!!' resource_state=2>\n",
      "No such attribute heartrate_opt_out on entity <Activity id=1737671831 name='Shadwell basin - not so hot thank god!!' resource_state=2>\n",
      "No such attribute display_hide_heartrate_option on entity <Activity id=1737671831 name='Shadwell basin - not so hot thank god!!' resource_state=2>\n",
      "No such attribute visibility on entity <Activity id=1742290702 name='Shadwell basin sprints ' resource_state=2>\n",
      "No such attribute heartrate_opt_out on entity <Activity id=1742290702 name='Shadwell basin sprints ' resource_state=2>\n",
      "No such attribute display_hide_heartrate_option on entity <Activity id=1742290702 name='Shadwell basin sprints ' resource_state=2>\n",
      "No such attribute visibility on entity <Activity id=1753682448 name='Hot hot hot shadwell basin run' resource_state=2>\n",
      "No such attribute heartrate_opt_out on entity <Activity id=1753682448 name='Hot hot hot shadwell basin run' resource_state=2>\n",
      "No such attribute display_hide_heartrate_option on entity <Activity id=1753682448 name='Hot hot hot shadwell basin run' resource_state=2>\n",
      "No such attribute visibility on entity <Activity id=1758140930 name='Around shadwell basin' resource_state=2>\n",
      "No such attribute heartrate_opt_out on entity <Activity id=1758140930 name='Around shadwell basin' resource_state=2>\n",
      "No such attribute display_hide_heartrate_option on entity <Activity id=1758140930 name='Around shadwell basin' resource_state=2>\n",
      "No such attribute visibility on entity <Activity id=1773235364 name='Home to Chingford station' resource_state=2>\n",
      "No such attribute heartrate_opt_out on entity <Activity id=1773235364 name='Home to Chingford station' resource_state=2>\n",
      "No such attribute display_hide_heartrate_option on entity <Activity id=1773235364 name='Home to Chingford station' resource_state=2>\n",
      "No such attribute visibility on entity <Activity id=1773235501 name='Clapton station to work with Helen' resource_state=2>\n",
      "No such attribute heartrate_opt_out on entity <Activity id=1773235501 name='Clapton station to work with Helen' resource_state=2>\n",
      "No such attribute display_hide_heartrate_option on entity <Activity id=1773235501 name='Clapton station to work with Helen' resource_state=2>\n",
      "No such attribute visibility on entity <Activity id=1785015379 name='Limehouse and back - so. Humid' resource_state=2>\n",
      "No such attribute heartrate_opt_out on entity <Activity id=1785015379 name='Limehouse and back - so. Humid' resource_state=2>\n",
      "No such attribute display_hide_heartrate_option on entity <Activity id=1785015379 name='Limehouse and back - so. Humid' resource_state=2>\n",
      "No such attribute visibility on entity <Activity id=1789263989 name='Home to station' resource_state=2>\n",
      "No such attribute heartrate_opt_out on entity <Activity id=1789263989 name='Home to station' resource_state=2>\n",
      "No such attribute display_hide_heartrate_option on entity <Activity id=1789263989 name='Home to station' resource_state=2>\n",
      "No such attribute visibility on entity <Activity id=1789264047 name='Clapton station to work with Helen' resource_state=2>\n",
      "No such attribute heartrate_opt_out on entity <Activity id=1789264047 name='Clapton station to work with Helen' resource_state=2>\n",
      "No such attribute display_hide_heartrate_option on entity <Activity id=1789264047 name='Clapton station to work with Helen' resource_state=2>\n",
      "No such attribute visibility on entity <Activity id=1811253172 name='Epping Forest ' resource_state=2>\n",
      "No such attribute heartrate_opt_out on entity <Activity id=1811253172 name='Epping Forest ' resource_state=2>\n",
      "No such attribute display_hide_heartrate_option on entity <Activity id=1811253172 name='Epping Forest ' resource_state=2>\n",
      "No such attribute visibility on entity <Activity id=1820444355 name='Afternoon Run' resource_state=2>\n",
      "No such attribute heartrate_opt_out on entity <Activity id=1820444355 name='Afternoon Run' resource_state=2>\n",
      "No such attribute display_hide_heartrate_option on entity <Activity id=1820444355 name='Afternoon Run' resource_state=2>\n",
      "No such attribute visibility on entity <Activity id=1822725359 name='Work to hackney downs ' resource_state=2>\n",
      "No such attribute heartrate_opt_out on entity <Activity id=1822725359 name='Work to hackney downs ' resource_state=2>\n",
      "No such attribute display_hide_heartrate_option on entity <Activity id=1822725359 name='Work to hackney downs ' resource_state=2>\n",
      "No such attribute visibility on entity <Activity id=1822725278 name='Station to home' resource_state=2>\n",
      "No such attribute heartrate_opt_out on entity <Activity id=1822725278 name='Station to home' resource_state=2>\n",
      "No such attribute display_hide_heartrate_option on entity <Activity id=1822725278 name='Station to home' resource_state=2>\n",
      "No such attribute visibility on entity <Activity id=1826892834 name='Epping forest Saturday run ' resource_state=2>\n",
      "No such attribute heartrate_opt_out on entity <Activity id=1826892834 name='Epping forest Saturday run ' resource_state=2>\n",
      "No such attribute display_hide_heartrate_option on entity <Activity id=1826892834 name='Epping forest Saturday run ' resource_state=2>\n",
      "No such attribute visibility on entity <Activity id=1833732962 name='Work to hackney downs with Nick' resource_state=2>\n",
      "No such attribute heartrate_opt_out on entity <Activity id=1833732962 name='Work to hackney downs with Nick' resource_state=2>\n",
      "No such attribute display_hide_heartrate_option on entity <Activity id=1833732962 name='Work to hackney downs with Nick' resource_state=2>\n",
      "No such attribute visibility on entity <Activity id=1833732880 name='Station to home' resource_state=2>\n",
      "No such attribute heartrate_opt_out on entity <Activity id=1833732880 name='Station to home' resource_state=2>\n",
      "No such attribute display_hide_heartrate_option on entity <Activity id=1833732880 name='Station to home' resource_state=2>\n",
      "No such attribute visibility on entity <Activity id=1836124509 name='Home to the station' resource_state=2>\n",
      "No such attribute heartrate_opt_out on entity <Activity id=1836124509 name='Home to the station' resource_state=2>\n",
      "No such attribute display_hide_heartrate_option on entity <Activity id=1836124509 name='Home to the station' resource_state=2>\n",
      "No such attribute visibility on entity <Activity id=1836124577 name='Clapton to work with Helen ' resource_state=2>\n",
      "No such attribute heartrate_opt_out on entity <Activity id=1836124577 name='Clapton to work with Helen ' resource_state=2>\n",
      "No such attribute display_hide_heartrate_option on entity <Activity id=1836124577 name='Clapton to work with Helen ' resource_state=2>\n",
      "No such attribute visibility on entity <Activity id=1842401512 name='Epping forest ' resource_state=2>\n",
      "No such attribute heartrate_opt_out on entity <Activity id=1842401512 name='Epping forest ' resource_state=2>\n",
      "No such attribute display_hide_heartrate_option on entity <Activity id=1842401512 name='Epping forest ' resource_state=2>\n",
      "No such attribute visibility on entity <Activity id=1848006513 name='Limehouse lunch run' resource_state=2>\n",
      "No such attribute heartrate_opt_out on entity <Activity id=1848006513 name='Limehouse lunch run' resource_state=2>\n",
      "No such attribute display_hide_heartrate_option on entity <Activity id=1848006513 name='Limehouse lunch run' resource_state=2>\n",
      "No such attribute visibility on entity <Activity id=1849644527 name='Shadwell basin' resource_state=2>\n",
      "No such attribute heartrate_opt_out on entity <Activity id=1849644527 name='Shadwell basin' resource_state=2>\n",
      "No such attribute display_hide_heartrate_option on entity <Activity id=1849644527 name='Shadwell basin' resource_state=2>\n",
      "No such attribute visibility on entity <Activity id=1852845808 name='Work to Hackney Downs with Nick' resource_state=2>\n",
      "No such attribute heartrate_opt_out on entity <Activity id=1852845808 name='Work to Hackney Downs with Nick' resource_state=2>\n",
      "No such attribute display_hide_heartrate_option on entity <Activity id=1852845808 name='Work to Hackney Downs with Nick' resource_state=2>\n",
      "No such attribute visibility on entity <Activity id=1852845712 name='Station to home ' resource_state=2>\n",
      "No such attribute heartrate_opt_out on entity <Activity id=1852845712 name='Station to home ' resource_state=2>\n",
      "No such attribute display_hide_heartrate_option on entity <Activity id=1852845712 name='Station to home ' resource_state=2>\n",
      "No such attribute visibility on entity <Activity id=1857950073 name='Epping forest Saturday run ' resource_state=2>\n",
      "No such attribute heartrate_opt_out on entity <Activity id=1857950073 name='Epping forest Saturday run ' resource_state=2>\n",
      "No such attribute display_hide_heartrate_option on entity <Activity id=1857950073 name='Epping forest Saturday run ' resource_state=2>\n",
      "No such attribute visibility on entity <Activity id=1864250145 name='Home to station' resource_state=2>\n",
      "No such attribute heartrate_opt_out on entity <Activity id=1864250145 name='Home to station' resource_state=2>\n",
      "No such attribute display_hide_heartrate_option on entity <Activity id=1864250145 name='Home to station' resource_state=2>\n",
      "No such attribute visibility on entity <Activity id=1864250199 name='Clapton to work with Helen' resource_state=2>\n",
      "No such attribute heartrate_opt_out on entity <Activity id=1864250199 name='Clapton to work with Helen' resource_state=2>\n",
      "No such attribute display_hide_heartrate_option on entity <Activity id=1864250199 name='Clapton to work with Helen' resource_state=2>\n",
      "No such attribute visibility on entity <Activity id=1867395184 name='Work to Clapton with Nick' resource_state=2>\n",
      "No such attribute heartrate_opt_out on entity <Activity id=1867395184 name='Work to Clapton with Nick' resource_state=2>\n",
      "No such attribute display_hide_heartrate_option on entity <Activity id=1867395184 name='Work to Clapton with Nick' resource_state=2>\n",
      "No such attribute visibility on entity <Activity id=1867394938 name='Station to home ' resource_state=2>\n",
      "No such attribute heartrate_opt_out on entity <Activity id=1867394938 name='Station to home ' resource_state=2>\n",
      "No such attribute display_hide_heartrate_option on entity <Activity id=1867394938 name='Station to home ' resource_state=2>\n",
      "No such attribute visibility on entity <Activity id=1877379145 name='Limehouse ' resource_state=2>\n",
      "No such attribute heartrate_opt_out on entity <Activity id=1877379145 name='Limehouse ' resource_state=2>\n",
      "No such attribute display_hide_heartrate_option on entity <Activity id=1877379145 name='Limehouse ' resource_state=2>\n",
      "No such attribute visibility on entity <Activity id=1881464730 name='Limehouse and back' resource_state=2>\n",
      "No such attribute heartrate_opt_out on entity <Activity id=1881464730 name='Limehouse and back' resource_state=2>\n",
      "No such attribute display_hide_heartrate_option on entity <Activity id=1881464730 name='Limehouse and back' resource_state=2>\n",
      "No such attribute visibility on entity <Activity id=1886998374 name='All the hills Epping forest ' resource_state=2>\n",
      "No such attribute heartrate_opt_out on entity <Activity id=1886998374 name='All the hills Epping forest ' resource_state=2>\n",
      "No such attribute display_hide_heartrate_option on entity <Activity id=1886998374 name='All the hills Epping forest ' resource_state=2>\n",
      "No such attribute visibility on entity <Activity id=1891821134 name='Shadwell basin ' resource_state=2>\n",
      "No such attribute heartrate_opt_out on entity <Activity id=1891821134 name='Shadwell basin ' resource_state=2>\n",
      "No such attribute display_hide_heartrate_option on entity <Activity id=1891821134 name='Shadwell basin ' resource_state=2>\n",
      "No such attribute visibility on entity <Activity id=1891821133 name='Cool down ' resource_state=2>\n",
      "No such attribute heartrate_opt_out on entity <Activity id=1891821133 name='Cool down ' resource_state=2>\n",
      "No such attribute display_hide_heartrate_option on entity <Activity id=1891821133 name='Cool down ' resource_state=2>\n",
      "No such attribute visibility on entity <Activity id=1894440736 name='Work to Hackney downs with Nick ' resource_state=2>\n",
      "No such attribute heartrate_opt_out on entity <Activity id=1894440736 name='Work to Hackney downs with Nick ' resource_state=2>\n",
      "No such attribute display_hide_heartrate_option on entity <Activity id=1894440736 name='Work to Hackney downs with Nick ' resource_state=2>\n",
      "No such attribute visibility on entity <Activity id=1894440607 name='Station to home' resource_state=2>\n",
      "No such attribute heartrate_opt_out on entity <Activity id=1894440607 name='Station to home' resource_state=2>\n",
      "No such attribute display_hide_heartrate_option on entity <Activity id=1894440607 name='Station to home' resource_state=2>\n",
      "No such attribute visibility on entity <Activity id=1901556462 name='Very slow hilly trails Epping forest ' resource_state=2>\n",
      "No such attribute heartrate_opt_out on entity <Activity id=1901556462 name='Very slow hilly trails Epping forest ' resource_state=2>\n",
      "No such attribute display_hide_heartrate_option on entity <Activity id=1901556462 name='Very slow hilly trails Epping forest ' resource_state=2>\n",
      "No such attribute visibility on entity <Activity id=1909139304 name='Work to hackney downs station' resource_state=2>\n",
      "No such attribute heartrate_opt_out on entity <Activity id=1909139304 name='Work to hackney downs station' resource_state=2>\n",
      "No such attribute display_hide_heartrate_option on entity <Activity id=1909139304 name='Work to hackney downs station' resource_state=2>\n",
      "No such attribute visibility on entity <Activity id=1909139245 name='Station to home ' resource_state=2>\n",
      "No such attribute heartrate_opt_out on entity <Activity id=1909139245 name='Station to home ' resource_state=2>\n",
      "No such attribute display_hide_heartrate_option on entity <Activity id=1909139245 name='Station to home ' resource_state=2>\n",
      "No such attribute visibility on entity <Activity id=1918975708 name='Warm up for CRUK to tough 10' resource_state=2>\n",
      "No such attribute heartrate_opt_out on entity <Activity id=1918975708 name='Warm up for CRUK to tough 10' resource_state=2>\n",
      "No such attribute display_hide_heartrate_option on entity <Activity id=1918975708 name='Warm up for CRUK to tough 10' resource_state=2>\n",
      "No such attribute visibility on entity <Activity id=1918975765 name='CRUK Tough 10  -not quite 10K ' resource_state=2>\n",
      "No such attribute heartrate_opt_out on entity <Activity id=1918975765 name='CRUK Tough 10  -not quite 10K ' resource_state=2>\n",
      "No such attribute display_hide_heartrate_option on entity <Activity id=1918975765 name='CRUK Tough 10  -not quite 10K ' resource_state=2>\n",
      "No such attribute visibility on entity <Activity id=1918975794 name='Cool down to home' resource_state=2>\n",
      "No such attribute heartrate_opt_out on entity <Activity id=1918975794 name='Cool down to home' resource_state=2>\n",
      "No such attribute display_hide_heartrate_option on entity <Activity id=1918975794 name='Cool down to home' resource_state=2>\n",
      "No such attribute visibility on entity <Activity id=1921184170 name='South to north Chingford via Mansfield hill' resource_state=2>\n",
      "No such attribute heartrate_opt_out on entity <Activity id=1921184170 name='South to north Chingford via Mansfield hill' resource_state=2>\n",
      "No such attribute display_hide_heartrate_option on entity <Activity id=1921184170 name='South to north Chingford via Mansfield hill' resource_state=2>\n",
      "No such attribute visibility on entity <Activity id=1927958313 name='Warm up to try Helens 3 mins @ 5k pace by five reps in Epping Forest' resource_state=2>\n",
      "No such attribute heartrate_opt_out on entity <Activity id=1927958313 name='Warm up to try Helens 3 mins @ 5k pace by five reps in Epping Forest' resource_state=2>\n",
      "No such attribute display_hide_heartrate_option on entity <Activity id=1927958313 name='Warm up to try Helens 3 mins @ 5k pace by five reps in Epping Forest' resource_state=2>\n",
      "No such attribute visibility on entity <Activity id=1927958315 name='Lap 1 of 3 mins at 5k pace ' resource_state=2>\n",
      "No such attribute heartrate_opt_out on entity <Activity id=1927958315 name='Lap 1 of 3 mins at 5k pace ' resource_state=2>\n",
      "No such attribute display_hide_heartrate_option on entity <Activity id=1927958315 name='Lap 1 of 3 mins at 5k pace ' resource_state=2>\n",
      "No such attribute visibility on entity <Activity id=1927958318 name='Lap 2 of 3 mins at 5k pace ' resource_state=2>\n",
      "No such attribute heartrate_opt_out on entity <Activity id=1927958318 name='Lap 2 of 3 mins at 5k pace ' resource_state=2>\n",
      "No such attribute display_hide_heartrate_option on entity <Activity id=1927958318 name='Lap 2 of 3 mins at 5k pace ' resource_state=2>\n",
      "No such attribute visibility on entity <Activity id=1927958333 name='Lap 3 of 3 mins at 5k pace ' resource_state=2>\n",
      "No such attribute heartrate_opt_out on entity <Activity id=1927958333 name='Lap 3 of 3 mins at 5k pace ' resource_state=2>\n",
      "No such attribute display_hide_heartrate_option on entity <Activity id=1927958333 name='Lap 3 of 3 mins at 5k pace ' resource_state=2>\n",
      "No such attribute visibility on entity <Activity id=1927958339 name='Lap 4 of 3 mins at 5k pace ' resource_state=2>\n",
      "No such attribute heartrate_opt_out on entity <Activity id=1927958339 name='Lap 4 of 3 mins at 5k pace ' resource_state=2>\n",
      "No such attribute display_hide_heartrate_option on entity <Activity id=1927958339 name='Lap 4 of 3 mins at 5k pace ' resource_state=2>\n",
      "No such attribute visibility on entity <Activity id=1927958346 name='Lap 5 of 3mins at 5k pace ' resource_state=2>\n",
      "No such attribute heartrate_opt_out on entity <Activity id=1927958346 name='Lap 5 of 3mins at 5k pace ' resource_state=2>\n",
      "No such attribute display_hide_heartrate_option on entity <Activity id=1927958346 name='Lap 5 of 3mins at 5k pace ' resource_state=2>\n",
      "No such attribute visibility on entity <Activity id=1927958355 name='Cool down to home' resource_state=2>\n",
      "No such attribute heartrate_opt_out on entity <Activity id=1927958355 name='Cool down to home' resource_state=2>\n",
      "No such attribute display_hide_heartrate_option on entity <Activity id=1927958355 name='Cool down to home' resource_state=2>\n",
      "No such attribute visibility on entity <Activity id=1929849124 name='Hills and trails Epping forest long run' resource_state=2>\n",
      "No such attribute heartrate_opt_out on entity <Activity id=1929849124 name='Hills and trails Epping forest long run' resource_state=2>\n",
      "No such attribute display_hide_heartrate_option on entity <Activity id=1929849124 name='Hills and trails Epping forest long run' resource_state=2>\n",
      "No such attribute visibility on entity <Activity id=1933935671 name='Around shadwell basin' resource_state=2>\n",
      "No such attribute heartrate_opt_out on entity <Activity id=1933935671 name='Around shadwell basin' resource_state=2>\n",
      "No such attribute display_hide_heartrate_option on entity <Activity id=1933935671 name='Around shadwell basin' resource_state=2>\n",
      "No such attribute visibility on entity <Activity id=1943113852 name='Long trail Epping forest run with a few Poll hill repeats ' resource_state=2>\n",
      "No such attribute heartrate_opt_out on entity <Activity id=1943113852 name='Long trail Epping forest run with a few Poll hill repeats ' resource_state=2>\n",
      "No such attribute display_hide_heartrate_option on entity <Activity id=1943113852 name='Long trail Epping forest run with a few Poll hill repeats ' resource_state=2>\n",
      "No such attribute visibility on entity <Activity id=1947406411 name='Shadwell basin ' resource_state=2>\n",
      "No such attribute heartrate_opt_out on entity <Activity id=1947406411 name='Shadwell basin ' resource_state=2>\n",
      "No such attribute display_hide_heartrate_option on entity <Activity id=1947406411 name='Shadwell basin ' resource_state=2>\n",
      "No such attribute visibility on entity <Activity id=1947406386 name='Cool down to office' resource_state=2>\n",
      "No such attribute heartrate_opt_out on entity <Activity id=1947406386 name='Cool down to office' resource_state=2>\n",
      "No such attribute display_hide_heartrate_option on entity <Activity id=1947406386 name='Cool down to office' resource_state=2>\n",
      "No such attribute visibility on entity <Activity id=1954576178 name='Poll hill' resource_state=2>\n",
      "No such attribute heartrate_opt_out on entity <Activity id=1954576178 name='Poll hill' resource_state=2>\n",
      "No such attribute display_hide_heartrate_option on entity <Activity id=1954576178 name='Poll hill' resource_state=2>\n",
      "No such attribute visibility on entity <Activity id=1973266195 name='Glendalough trail race' resource_state=2>\n",
      "No such attribute heartrate_opt_out on entity <Activity id=1973266195 name='Glendalough trail race' resource_state=2>\n",
      "No such attribute display_hide_heartrate_option on entity <Activity id=1973266195 name='Glendalough trail race' resource_state=2>\n",
      "No such attribute visibility on entity <Activity id=1980186230 name=\"Run from Lizzie's work to start the day\" resource_state=2>\n",
      "No such attribute heartrate_opt_out on entity <Activity id=1980186230 name=\"Run from Lizzie's work to start the day\" resource_state=2>\n",
      "No such attribute display_hide_heartrate_option on entity <Activity id=1980186230 name=\"Run from Lizzie's work to start the day\" resource_state=2>\n",
      "No such attribute visibility on entity <Activity id=1985887851 name='Lunch run Shadwell Basin ' resource_state=2>\n",
      "No such attribute heartrate_opt_out on entity <Activity id=1985887851 name='Lunch run Shadwell Basin ' resource_state=2>\n",
      "No such attribute display_hide_heartrate_option on entity <Activity id=1985887851 name='Lunch run Shadwell Basin ' resource_state=2>\n",
      "No such attribute visibility on entity <Activity id=1990003092 name='Work to Hackney Downs with Nick' resource_state=2>\n",
      "No such attribute heartrate_opt_out on entity <Activity id=1990003092 name='Work to Hackney Downs with Nick' resource_state=2>\n",
      "No such attribute display_hide_heartrate_option on entity <Activity id=1990003092 name='Work to Hackney Downs with Nick' resource_state=2>\n",
      "No such attribute visibility on entity <Activity id=1990003013 name='Station to home' resource_state=2>\n",
      "No such attribute heartrate_opt_out on entity <Activity id=1990003013 name='Station to home' resource_state=2>\n",
      "No such attribute display_hide_heartrate_option on entity <Activity id=1990003013 name='Station to home' resource_state=2>\n",
      "No such attribute visibility on entity <Activity id=1989268901 name='Easy warm up for half mile lap repeats' resource_state=2>\n",
      "No such attribute heartrate_opt_out on entity <Activity id=1989268901 name='Easy warm up for half mile lap repeats' resource_state=2>\n",
      "No such attribute display_hide_heartrate_option on entity <Activity id=1989268901 name='Easy warm up for half mile lap repeats' resource_state=2>\n",
      "No such attribute visibility on entity <Activity id=1989278514 name='Lap 1 of half mile at 5k+ pace Shadwell basin' resource_state=2>\n",
      "No such attribute heartrate_opt_out on entity <Activity id=1989278514 name='Lap 1 of half mile at 5k+ pace Shadwell basin' resource_state=2>\n",
      "No such attribute display_hide_heartrate_option on entity <Activity id=1989278514 name='Lap 1 of half mile at 5k+ pace Shadwell basin' resource_state=2>\n",
      "No such attribute visibility on entity <Activity id=1989284532 name='Lap 2 of half mile at 5k+ pace Shadwell basin ' resource_state=2>\n",
      "No such attribute heartrate_opt_out on entity <Activity id=1989284532 name='Lap 2 of half mile at 5k+ pace Shadwell basin ' resource_state=2>\n",
      "No such attribute display_hide_heartrate_option on entity <Activity id=1989284532 name='Lap 2 of half mile at 5k+ pace Shadwell basin ' resource_state=2>\n",
      "No such attribute visibility on entity <Activity id=1989301988 name='Cool down to office' resource_state=2>\n",
      "No such attribute heartrate_opt_out on entity <Activity id=1989301988 name='Cool down to office' resource_state=2>\n",
      "No such attribute display_hide_heartrate_option on entity <Activity id=1989301988 name='Cool down to office' resource_state=2>\n",
      "No such attribute visibility on entity <Activity id=1992358509 name='Lizzie’s work to home via Mansfield hill and park' resource_state=2>\n",
      "No such attribute heartrate_opt_out on entity <Activity id=1992358509 name='Lizzie’s work to home via Mansfield hill and park' resource_state=2>\n",
      "No such attribute display_hide_heartrate_option on entity <Activity id=1992358509 name='Lizzie’s work to home via Mansfield hill and park' resource_state=2>\n",
      "No such attribute visibility on entity <Activity id=1999662746 name='Oops intended 3 to 4 mile run turned into 7 mile run' resource_state=2>\n",
      "No such attribute heartrate_opt_out on entity <Activity id=1999662746 name='Oops intended 3 to 4 mile run turned into 7 mile run' resource_state=2>\n",
      "No such attribute display_hide_heartrate_option on entity <Activity id=1999662746 name='Oops intended 3 to 4 mile run turned into 7 mile run' resource_state=2>\n"
     ]
    }
   ],
   "source": [
    "# people = (({\"name\": activity.name},{\"distance\":activity.distance}) for activity in client.get_activities(after = \"2018-01-01T00:00:00Z\",  limit=100))\n",
    "activities_list = [(activity.start_date,activity.name,activity.distance) for activity in client.get_activities(after = \"2018-01-01T00:00:00Z\",  limit=700)]\n"
   ]
  },
  {
   "cell_type": "code",
   "execution_count": 16,
   "metadata": {},
   "outputs": [],
   "source": [
    "df = pd.DataFrame.from_dict(activities_list)"
   ]
  },
  {
   "cell_type": "code",
   "execution_count": 17,
   "metadata": {},
   "outputs": [
    {
     "data": {
      "text/plain": [
       "188"
      ]
     },
     "execution_count": 17,
     "metadata": {},
     "output_type": "execute_result"
    }
   ],
   "source": [
    "len(df)"
   ]
  },
  {
   "cell_type": "code",
   "execution_count": 18,
   "metadata": {},
   "outputs": [],
   "source": [
    "metres_to_convert = 1609.344"
   ]
  },
  {
   "cell_type": "code",
   "execution_count": 19,
   "metadata": {},
   "outputs": [],
   "source": [
    "df['metres_conversion'] = metres_to_convert"
   ]
  },
  {
   "cell_type": "code",
   "execution_count": 20,
   "metadata": {},
   "outputs": [
    {
     "data": {
      "text/html": [
       "<div>\n",
       "<style>\n",
       "    .dataframe thead tr:only-child th {\n",
       "        text-align: right;\n",
       "    }\n",
       "\n",
       "    .dataframe thead th {\n",
       "        text-align: left;\n",
       "    }\n",
       "\n",
       "    .dataframe tbody tr th {\n",
       "        vertical-align: top;\n",
       "    }\n",
       "</style>\n",
       "<table border=\"1\" class=\"dataframe\">\n",
       "  <thead>\n",
       "    <tr style=\"text-align: right;\">\n",
       "      <th></th>\n",
       "      <th>0</th>\n",
       "      <th>1</th>\n",
       "      <th>2</th>\n",
       "      <th>metres_conversion</th>\n",
       "    </tr>\n",
       "  </thead>\n",
       "  <tbody>\n",
       "    <tr>\n",
       "      <th>0</th>\n",
       "      <td>2018-01-01 14:32:09+00:00</td>\n",
       "      <td>Day 1 RED Jan - Muddy Connaught water</td>\n",
       "      <td>5569.80 m</td>\n",
       "      <td>1609.344</td>\n",
       "    </tr>\n",
       "    <tr>\n",
       "      <th>1</th>\n",
       "      <td>2018-01-02 15:55:37+00:00</td>\n",
       "      <td>Day 2 RED Jan - Bury Road and back</td>\n",
       "      <td>5774.50 m</td>\n",
       "      <td>1609.344</td>\n",
       "    </tr>\n",
       "    <tr>\n",
       "      <th>2</th>\n",
       "      <td>2018-01-03 12:20:11+00:00</td>\n",
       "      <td>Day 3 RED Jan - Shawell basin</td>\n",
       "      <td>4947.70 m</td>\n",
       "      <td>1609.344</td>\n",
       "    </tr>\n",
       "    <tr>\n",
       "      <th>3</th>\n",
       "      <td>2018-01-04 12:13:09+00:00</td>\n",
       "      <td>Day 4 RED Jan - Run to circuits</td>\n",
       "      <td>409.20 m</td>\n",
       "      <td>1609.344</td>\n",
       "    </tr>\n",
       "    <tr>\n",
       "      <th>4</th>\n",
       "      <td>2018-01-04 12:39:50+00:00</td>\n",
       "      <td>Day 4 RED Jan - Run back from circuits</td>\n",
       "      <td>338.60 m</td>\n",
       "      <td>1609.344</td>\n",
       "    </tr>\n",
       "  </tbody>\n",
       "</table>\n",
       "</div>"
      ],
      "text/plain": [
       "                          0                                       1  \\\n",
       "0 2018-01-01 14:32:09+00:00   Day 1 RED Jan - Muddy Connaught water   \n",
       "1 2018-01-02 15:55:37+00:00      Day 2 RED Jan - Bury Road and back   \n",
       "2 2018-01-03 12:20:11+00:00           Day 3 RED Jan - Shawell basin   \n",
       "3 2018-01-04 12:13:09+00:00         Day 4 RED Jan - Run to circuits   \n",
       "4 2018-01-04 12:39:50+00:00  Day 4 RED Jan - Run back from circuits   \n",
       "\n",
       "           2  metres_conversion  \n",
       "0  5569.80 m           1609.344  \n",
       "1  5774.50 m           1609.344  \n",
       "2  4947.70 m           1609.344  \n",
       "3   409.20 m           1609.344  \n",
       "4   338.60 m           1609.344  "
      ]
     },
     "execution_count": 20,
     "metadata": {},
     "output_type": "execute_result"
    }
   ],
   "source": [
    "df.head()"
   ]
  },
  {
   "cell_type": "code",
   "execution_count": 21,
   "metadata": {},
   "outputs": [],
   "source": [
    "df.rename(columns={0:'date', 1:'activity_name', 2:'metres'}, inplace=True)"
   ]
  },
  {
   "cell_type": "code",
   "execution_count": 22,
   "metadata": {},
   "outputs": [],
   "source": [
    "df['km'] = df['metres']/1000"
   ]
  },
  {
   "cell_type": "code",
   "execution_count": 23,
   "metadata": {},
   "outputs": [],
   "source": [
    "df['miles'] = df['metres']/df['metres_conversion']"
   ]
  },
  {
   "cell_type": "code",
   "execution_count": null,
   "metadata": {},
   "outputs": [],
   "source": []
  },
  {
   "cell_type": "code",
   "execution_count": 24,
   "metadata": {},
   "outputs": [],
   "source": [
    "# for activity in client.get_activities(after = \"2018-01-01T00:00:00Z\",  limit=5):\n",
    "#     activity_returned.update({\"activity_name\":activity.name,\n",
    "#                                                       \"distance\": activity.distance})\n",
    "# #     activities_returned = activities_returned.append(activity_returned)\n",
    "#     print(\"{0.name} {0.distance}\".format(activity))"
   ]
  },
  {
   "cell_type": "code",
   "execution_count": 25,
   "metadata": {},
   "outputs": [],
   "source": [
    "# activity.start_date"
   ]
  },
  {
   "cell_type": "code",
   "execution_count": 26,
   "metadata": {},
   "outputs": [],
   "source": [
    "df.index = df['date']"
   ]
  },
  {
   "cell_type": "code",
   "execution_count": 27,
   "metadata": {},
   "outputs": [
    {
     "data": {
      "text/html": [
       "<div>\n",
       "<style>\n",
       "    .dataframe thead tr:only-child th {\n",
       "        text-align: right;\n",
       "    }\n",
       "\n",
       "    .dataframe thead th {\n",
       "        text-align: left;\n",
       "    }\n",
       "\n",
       "    .dataframe tbody tr th {\n",
       "        vertical-align: top;\n",
       "    }\n",
       "</style>\n",
       "<table border=\"1\" class=\"dataframe\">\n",
       "  <thead>\n",
       "    <tr style=\"text-align: right;\">\n",
       "      <th></th>\n",
       "      <th>date</th>\n",
       "      <th>activity_name</th>\n",
       "      <th>metres</th>\n",
       "      <th>metres_conversion</th>\n",
       "      <th>km</th>\n",
       "      <th>miles</th>\n",
       "    </tr>\n",
       "    <tr>\n",
       "      <th>date</th>\n",
       "      <th></th>\n",
       "      <th></th>\n",
       "      <th></th>\n",
       "      <th></th>\n",
       "      <th></th>\n",
       "      <th></th>\n",
       "    </tr>\n",
       "  </thead>\n",
       "  <tbody>\n",
       "    <tr>\n",
       "      <th>2018-01-01 14:32:09+00:00</th>\n",
       "      <td>2018-01-01 14:32:09+00:00</td>\n",
       "      <td>Day 1 RED Jan - Muddy Connaught water</td>\n",
       "      <td>5569.80 m</td>\n",
       "      <td>1609.344</td>\n",
       "      <td>5.57 m</td>\n",
       "      <td>3.46 m</td>\n",
       "    </tr>\n",
       "    <tr>\n",
       "      <th>2018-01-02 15:55:37+00:00</th>\n",
       "      <td>2018-01-02 15:55:37+00:00</td>\n",
       "      <td>Day 2 RED Jan - Bury Road and back</td>\n",
       "      <td>5774.50 m</td>\n",
       "      <td>1609.344</td>\n",
       "      <td>5.77 m</td>\n",
       "      <td>3.59 m</td>\n",
       "    </tr>\n",
       "    <tr>\n",
       "      <th>2018-01-03 12:20:11+00:00</th>\n",
       "      <td>2018-01-03 12:20:11+00:00</td>\n",
       "      <td>Day 3 RED Jan - Shawell basin</td>\n",
       "      <td>4947.70 m</td>\n",
       "      <td>1609.344</td>\n",
       "      <td>4.95 m</td>\n",
       "      <td>3.07 m</td>\n",
       "    </tr>\n",
       "    <tr>\n",
       "      <th>2018-01-04 12:13:09+00:00</th>\n",
       "      <td>2018-01-04 12:13:09+00:00</td>\n",
       "      <td>Day 4 RED Jan - Run to circuits</td>\n",
       "      <td>409.20 m</td>\n",
       "      <td>1609.344</td>\n",
       "      <td>0.41 m</td>\n",
       "      <td>0.25 m</td>\n",
       "    </tr>\n",
       "    <tr>\n",
       "      <th>2018-01-04 12:39:50+00:00</th>\n",
       "      <td>2018-01-04 12:39:50+00:00</td>\n",
       "      <td>Day 4 RED Jan - Run back from circuits</td>\n",
       "      <td>338.60 m</td>\n",
       "      <td>1609.344</td>\n",
       "      <td>0.34 m</td>\n",
       "      <td>0.21 m</td>\n",
       "    </tr>\n",
       "  </tbody>\n",
       "</table>\n",
       "</div>"
      ],
      "text/plain": [
       "                                               date  \\\n",
       "date                                                  \n",
       "2018-01-01 14:32:09+00:00 2018-01-01 14:32:09+00:00   \n",
       "2018-01-02 15:55:37+00:00 2018-01-02 15:55:37+00:00   \n",
       "2018-01-03 12:20:11+00:00 2018-01-03 12:20:11+00:00   \n",
       "2018-01-04 12:13:09+00:00 2018-01-04 12:13:09+00:00   \n",
       "2018-01-04 12:39:50+00:00 2018-01-04 12:39:50+00:00   \n",
       "\n",
       "                                                    activity_name     metres  \\\n",
       "date                                                                           \n",
       "2018-01-01 14:32:09+00:00   Day 1 RED Jan - Muddy Connaught water  5569.80 m   \n",
       "2018-01-02 15:55:37+00:00      Day 2 RED Jan - Bury Road and back  5774.50 m   \n",
       "2018-01-03 12:20:11+00:00           Day 3 RED Jan - Shawell basin  4947.70 m   \n",
       "2018-01-04 12:13:09+00:00         Day 4 RED Jan - Run to circuits   409.20 m   \n",
       "2018-01-04 12:39:50+00:00  Day 4 RED Jan - Run back from circuits   338.60 m   \n",
       "\n",
       "                           metres_conversion      km   miles  \n",
       "date                                                          \n",
       "2018-01-01 14:32:09+00:00           1609.344  5.57 m  3.46 m  \n",
       "2018-01-02 15:55:37+00:00           1609.344  5.77 m  3.59 m  \n",
       "2018-01-03 12:20:11+00:00           1609.344  4.95 m  3.07 m  \n",
       "2018-01-04 12:13:09+00:00           1609.344  0.41 m  0.25 m  \n",
       "2018-01-04 12:39:50+00:00           1609.344  0.34 m  0.21 m  "
      ]
     },
     "execution_count": 27,
     "metadata": {},
     "output_type": "execute_result"
    }
   ],
   "source": [
    "df.head()"
   ]
  },
  {
   "cell_type": "code",
   "execution_count": 28,
   "metadata": {},
   "outputs": [],
   "source": [
    "df = df[['activity_name', 'metres', 'metres_conversion', 'miles', 'km']]\n",
    "df2 = df.resample('D')['miles'].sum()\n"
   ]
  },
  {
   "cell_type": "code",
   "execution_count": 29,
   "metadata": {},
   "outputs": [],
   "source": [
    "df_k = df.copy(deep=True)"
   ]
  },
  {
   "cell_type": "code",
   "execution_count": 30,
   "metadata": {},
   "outputs": [],
   "source": [
    "df_km_runs = pd.DataFrame(df_k.resample('D')['km'].sum())"
   ]
  },
  {
   "cell_type": "code",
   "execution_count": 31,
   "metadata": {
    "scrolled": true
   },
   "outputs": [],
   "source": [
    "daily_runs_df = pd.DataFrame(df2)"
   ]
  },
  {
   "cell_type": "code",
   "execution_count": 32,
   "metadata": {},
   "outputs": [],
   "source": [
    "def to_float(number):\n",
    "    return float(number)\n"
   ]
  },
  {
   "cell_type": "code",
   "execution_count": 33,
   "metadata": {},
   "outputs": [],
   "source": [
    "daily_runs_df['miles'] = daily_runs_df.apply(lambda row: to_float(row['miles']), axis=1)"
   ]
  },
  {
   "cell_type": "code",
   "execution_count": 34,
   "metadata": {},
   "outputs": [],
   "source": [
    "daily_runs_df['cumulative_miles'] = daily_runs_df['miles'].cumsum()"
   ]
  },
  {
   "cell_type": "code",
   "execution_count": 35,
   "metadata": {
    "scrolled": true
   },
   "outputs": [],
   "source": [
    "daily_runs_df['daily_miles'] = 20/7"
   ]
  },
  {
   "cell_type": "code",
   "execution_count": 36,
   "metadata": {},
   "outputs": [],
   "source": [
    "daily_runs_df['cumulative_daily_miles'] = daily_runs_df['daily_miles'].cumsum()"
   ]
  },
  {
   "cell_type": "code",
   "execution_count": 37,
   "metadata": {},
   "outputs": [
    {
     "data": {
      "text/html": [
       "<div>\n",
       "<style>\n",
       "    .dataframe thead tr:only-child th {\n",
       "        text-align: right;\n",
       "    }\n",
       "\n",
       "    .dataframe thead th {\n",
       "        text-align: left;\n",
       "    }\n",
       "\n",
       "    .dataframe tbody tr th {\n",
       "        vertical-align: top;\n",
       "    }\n",
       "</style>\n",
       "<table border=\"1\" class=\"dataframe\">\n",
       "  <thead>\n",
       "    <tr style=\"text-align: right;\">\n",
       "      <th></th>\n",
       "      <th>miles</th>\n",
       "      <th>cumulative_miles</th>\n",
       "      <th>daily_miles</th>\n",
       "      <th>cumulative_daily_miles</th>\n",
       "    </tr>\n",
       "    <tr>\n",
       "      <th>date</th>\n",
       "      <th></th>\n",
       "      <th></th>\n",
       "      <th></th>\n",
       "      <th></th>\n",
       "    </tr>\n",
       "  </thead>\n",
       "  <tbody>\n",
       "    <tr>\n",
       "      <th>2018-01-01 00:00:00+00:00</th>\n",
       "      <td>3.460913</td>\n",
       "      <td>3.460913</td>\n",
       "      <td>2.857143</td>\n",
       "      <td>2.857143</td>\n",
       "    </tr>\n",
       "    <tr>\n",
       "      <th>2018-01-02 00:00:00+00:00</th>\n",
       "      <td>3.588108</td>\n",
       "      <td>7.049021</td>\n",
       "      <td>2.857143</td>\n",
       "      <td>5.714286</td>\n",
       "    </tr>\n",
       "    <tr>\n",
       "      <th>2018-01-03 00:00:00+00:00</th>\n",
       "      <td>3.074358</td>\n",
       "      <td>10.123379</td>\n",
       "      <td>2.857143</td>\n",
       "      <td>8.571429</td>\n",
       "    </tr>\n",
       "    <tr>\n",
       "      <th>2018-01-04 00:00:00+00:00</th>\n",
       "      <td>0.464661</td>\n",
       "      <td>10.588041</td>\n",
       "      <td>2.857143</td>\n",
       "      <td>11.428571</td>\n",
       "    </tr>\n",
       "    <tr>\n",
       "      <th>2018-01-05 00:00:00+00:00</th>\n",
       "      <td>3.509318</td>\n",
       "      <td>14.097359</td>\n",
       "      <td>2.857143</td>\n",
       "      <td>14.285714</td>\n",
       "    </tr>\n",
       "  </tbody>\n",
       "</table>\n",
       "</div>"
      ],
      "text/plain": [
       "                              miles  cumulative_miles  daily_miles  \\\n",
       "date                                                                 \n",
       "2018-01-01 00:00:00+00:00  3.460913          3.460913     2.857143   \n",
       "2018-01-02 00:00:00+00:00  3.588108          7.049021     2.857143   \n",
       "2018-01-03 00:00:00+00:00  3.074358         10.123379     2.857143   \n",
       "2018-01-04 00:00:00+00:00  0.464661         10.588041     2.857143   \n",
       "2018-01-05 00:00:00+00:00  3.509318         14.097359     2.857143   \n",
       "\n",
       "                           cumulative_daily_miles  \n",
       "date                                               \n",
       "2018-01-01 00:00:00+00:00                2.857143  \n",
       "2018-01-02 00:00:00+00:00                5.714286  \n",
       "2018-01-03 00:00:00+00:00                8.571429  \n",
       "2018-01-04 00:00:00+00:00               11.428571  \n",
       "2018-01-05 00:00:00+00:00               14.285714  "
      ]
     },
     "execution_count": 37,
     "metadata": {},
     "output_type": "execute_result"
    }
   ],
   "source": [
    "daily_runs_df.head()"
   ]
  },
  {
   "cell_type": "code",
   "execution_count": 38,
   "metadata": {
    "scrolled": true
   },
   "outputs": [],
   "source": [
    "daily_runs_df['daily_miles_difference'] = daily_runs_df['miles']/daily_runs_df['daily_miles']\n",
    "daily_runs_df['daily_miles_cumulative_difference'] = daily_runs_df['cumulative_miles']/daily_runs_df['cumulative_daily_miles']"
   ]
  },
  {
   "cell_type": "code",
   "execution_count": 39,
   "metadata": {},
   "outputs": [],
   "source": [
    "daily_runs_df.to_csv('strava_runs_2018.csv')"
   ]
  },
  {
   "cell_type": "code",
   "execution_count": 40,
   "metadata": {},
   "outputs": [],
   "source": [
    "weekly_df = daily_runs_df.resample('W-MON', closed='Right', label='Right').sum()"
   ]
  },
  {
   "cell_type": "code",
   "execution_count": 41,
   "metadata": {},
   "outputs": [
    {
     "data": {
      "text/html": [
       "<div>\n",
       "<style>\n",
       "    .dataframe thead tr:only-child th {\n",
       "        text-align: right;\n",
       "    }\n",
       "\n",
       "    .dataframe thead th {\n",
       "        text-align: left;\n",
       "    }\n",
       "\n",
       "    .dataframe tbody tr th {\n",
       "        vertical-align: top;\n",
       "    }\n",
       "</style>\n",
       "<table border=\"1\" class=\"dataframe\">\n",
       "  <thead>\n",
       "    <tr style=\"text-align: right;\">\n",
       "      <th></th>\n",
       "      <th>miles</th>\n",
       "      <th>cumulative_miles</th>\n",
       "      <th>daily_miles</th>\n",
       "      <th>cumulative_daily_miles</th>\n",
       "      <th>daily_miles_difference</th>\n",
       "      <th>daily_miles_cumulative_difference</th>\n",
       "    </tr>\n",
       "    <tr>\n",
       "      <th>date</th>\n",
       "      <th></th>\n",
       "      <th></th>\n",
       "      <th></th>\n",
       "      <th></th>\n",
       "      <th></th>\n",
       "      <th></th>\n",
       "    </tr>\n",
       "  </thead>\n",
       "  <tbody>\n",
       "    <tr>\n",
       "      <th>2017-12-25 00:00:00+00:00</th>\n",
       "      <td>NaN</td>\n",
       "      <td>NaN</td>\n",
       "      <td>NaN</td>\n",
       "      <td>NaN</td>\n",
       "      <td>NaN</td>\n",
       "      <td>NaN</td>\n",
       "    </tr>\n",
       "    <tr>\n",
       "      <th>2018-01-01 00:00:00+00:00</th>\n",
       "      <td>20.263722</td>\n",
       "      <td>83.419455</td>\n",
       "      <td>20.0</td>\n",
       "      <td>80.0</td>\n",
       "      <td>7.092303</td>\n",
       "      <td>7.592907</td>\n",
       "    </tr>\n",
       "    <tr>\n",
       "      <th>2018-01-08 00:00:00+00:00</th>\n",
       "      <td>21.047271</td>\n",
       "      <td>225.917206</td>\n",
       "      <td>20.0</td>\n",
       "      <td>220.0</td>\n",
       "      <td>7.366545</td>\n",
       "      <td>7.139054</td>\n",
       "    </tr>\n",
       "    <tr>\n",
       "      <th>2018-01-15 00:00:00+00:00</th>\n",
       "      <td>23.312853</td>\n",
       "      <td>382.311613</td>\n",
       "      <td>20.0</td>\n",
       "      <td>360.0</td>\n",
       "      <td>8.159499</td>\n",
       "      <td>7.426264</td>\n",
       "    </tr>\n",
       "    <tr>\n",
       "      <th>2018-01-22 00:00:00+00:00</th>\n",
       "      <td>16.101902</td>\n",
       "      <td>521.549836</td>\n",
       "      <td>20.0</td>\n",
       "      <td>500.0</td>\n",
       "      <td>5.635666</td>\n",
       "      <td>7.313564</td>\n",
       "    </tr>\n",
       "  </tbody>\n",
       "</table>\n",
       "</div>"
      ],
      "text/plain": [
       "                               miles  cumulative_miles  daily_miles  \\\n",
       "date                                                                  \n",
       "2017-12-25 00:00:00+00:00        NaN               NaN          NaN   \n",
       "2018-01-01 00:00:00+00:00  20.263722         83.419455         20.0   \n",
       "2018-01-08 00:00:00+00:00  21.047271        225.917206         20.0   \n",
       "2018-01-15 00:00:00+00:00  23.312853        382.311613         20.0   \n",
       "2018-01-22 00:00:00+00:00  16.101902        521.549836         20.0   \n",
       "\n",
       "                           cumulative_daily_miles  daily_miles_difference  \\\n",
       "date                                                                        \n",
       "2017-12-25 00:00:00+00:00                     NaN                     NaN   \n",
       "2018-01-01 00:00:00+00:00                    80.0                7.092303   \n",
       "2018-01-08 00:00:00+00:00                   220.0                7.366545   \n",
       "2018-01-15 00:00:00+00:00                   360.0                8.159499   \n",
       "2018-01-22 00:00:00+00:00                   500.0                5.635666   \n",
       "\n",
       "                           daily_miles_cumulative_difference  \n",
       "date                                                          \n",
       "2017-12-25 00:00:00+00:00                                NaN  \n",
       "2018-01-01 00:00:00+00:00                           7.592907  \n",
       "2018-01-08 00:00:00+00:00                           7.139054  \n",
       "2018-01-15 00:00:00+00:00                           7.426264  \n",
       "2018-01-22 00:00:00+00:00                           7.313564  "
      ]
     },
     "execution_count": 41,
     "metadata": {},
     "output_type": "execute_result"
    }
   ],
   "source": [
    "weekly_df.head()"
   ]
  },
  {
   "cell_type": "code",
   "execution_count": 42,
   "metadata": {
    "scrolled": true
   },
   "outputs": [],
   "source": [
    "weekly_df = weekly_df.copy()\n",
    "weekly_df = weekly_df[['miles', 'daily_miles']]"
   ]
  },
  {
   "cell_type": "code",
   "execution_count": 43,
   "metadata": {},
   "outputs": [
    {
     "data": {
      "text/html": [
       "<div>\n",
       "<style>\n",
       "    .dataframe thead tr:only-child th {\n",
       "        text-align: right;\n",
       "    }\n",
       "\n",
       "    .dataframe thead th {\n",
       "        text-align: left;\n",
       "    }\n",
       "\n",
       "    .dataframe tbody tr th {\n",
       "        vertical-align: top;\n",
       "    }\n",
       "</style>\n",
       "<table border=\"1\" class=\"dataframe\">\n",
       "  <thead>\n",
       "    <tr style=\"text-align: right;\">\n",
       "      <th></th>\n",
       "      <th>miles</th>\n",
       "      <th>daily_miles</th>\n",
       "    </tr>\n",
       "    <tr>\n",
       "      <th>date</th>\n",
       "      <th></th>\n",
       "      <th></th>\n",
       "    </tr>\n",
       "  </thead>\n",
       "  <tbody>\n",
       "    <tr>\n",
       "      <th>2017-12-25 00:00:00+00:00</th>\n",
       "      <td>NaN</td>\n",
       "      <td>NaN</td>\n",
       "    </tr>\n",
       "    <tr>\n",
       "      <th>2018-01-01 00:00:00+00:00</th>\n",
       "      <td>20.263722</td>\n",
       "      <td>20.0</td>\n",
       "    </tr>\n",
       "    <tr>\n",
       "      <th>2018-01-08 00:00:00+00:00</th>\n",
       "      <td>21.047271</td>\n",
       "      <td>20.0</td>\n",
       "    </tr>\n",
       "    <tr>\n",
       "      <th>2018-01-15 00:00:00+00:00</th>\n",
       "      <td>23.312853</td>\n",
       "      <td>20.0</td>\n",
       "    </tr>\n",
       "    <tr>\n",
       "      <th>2018-01-22 00:00:00+00:00</th>\n",
       "      <td>16.101902</td>\n",
       "      <td>20.0</td>\n",
       "    </tr>\n",
       "  </tbody>\n",
       "</table>\n",
       "</div>"
      ],
      "text/plain": [
       "                               miles  daily_miles\n",
       "date                                             \n",
       "2017-12-25 00:00:00+00:00        NaN          NaN\n",
       "2018-01-01 00:00:00+00:00  20.263722         20.0\n",
       "2018-01-08 00:00:00+00:00  21.047271         20.0\n",
       "2018-01-15 00:00:00+00:00  23.312853         20.0\n",
       "2018-01-22 00:00:00+00:00  16.101902         20.0"
      ]
     },
     "execution_count": 43,
     "metadata": {},
     "output_type": "execute_result"
    }
   ],
   "source": [
    "weekly_df.head()"
   ]
  },
  {
   "cell_type": "code",
   "execution_count": 44,
   "metadata": {},
   "outputs": [
    {
     "data": {
      "text/html": [
       "<div>\n",
       "<style>\n",
       "    .dataframe thead tr:only-child th {\n",
       "        text-align: right;\n",
       "    }\n",
       "\n",
       "    .dataframe thead th {\n",
       "        text-align: left;\n",
       "    }\n",
       "\n",
       "    .dataframe tbody tr th {\n",
       "        vertical-align: top;\n",
       "    }\n",
       "</style>\n",
       "<table border=\"1\" class=\"dataframe\">\n",
       "  <thead>\n",
       "    <tr style=\"text-align: right;\">\n",
       "      <th></th>\n",
       "      <th>miles_run</th>\n",
       "      <th>weekly_miles_to_run</th>\n",
       "      <th>cumulative_weekly_miles</th>\n",
       "    </tr>\n",
       "    <tr>\n",
       "      <th>date</th>\n",
       "      <th></th>\n",
       "      <th></th>\n",
       "      <th></th>\n",
       "    </tr>\n",
       "  </thead>\n",
       "  <tbody>\n",
       "    <tr>\n",
       "      <th>2017-12-25 00:00:00+00:00</th>\n",
       "      <td>NaN</td>\n",
       "      <td>NaN</td>\n",
       "      <td>NaN</td>\n",
       "    </tr>\n",
       "    <tr>\n",
       "      <th>2018-01-01 00:00:00+00:00</th>\n",
       "      <td>20.263722</td>\n",
       "      <td>20.0</td>\n",
       "      <td>20.263722</td>\n",
       "    </tr>\n",
       "    <tr>\n",
       "      <th>2018-01-08 00:00:00+00:00</th>\n",
       "      <td>21.047271</td>\n",
       "      <td>20.0</td>\n",
       "      <td>41.310994</td>\n",
       "    </tr>\n",
       "    <tr>\n",
       "      <th>2018-01-15 00:00:00+00:00</th>\n",
       "      <td>23.312853</td>\n",
       "      <td>20.0</td>\n",
       "      <td>64.623847</td>\n",
       "    </tr>\n",
       "    <tr>\n",
       "      <th>2018-01-22 00:00:00+00:00</th>\n",
       "      <td>16.101902</td>\n",
       "      <td>20.0</td>\n",
       "      <td>80.725749</td>\n",
       "    </tr>\n",
       "  </tbody>\n",
       "</table>\n",
       "</div>"
      ],
      "text/plain": [
       "                           miles_run  weekly_miles_to_run  \\\n",
       "date                                                        \n",
       "2017-12-25 00:00:00+00:00        NaN                  NaN   \n",
       "2018-01-01 00:00:00+00:00  20.263722                 20.0   \n",
       "2018-01-08 00:00:00+00:00  21.047271                 20.0   \n",
       "2018-01-15 00:00:00+00:00  23.312853                 20.0   \n",
       "2018-01-22 00:00:00+00:00  16.101902                 20.0   \n",
       "\n",
       "                           cumulative_weekly_miles  \n",
       "date                                                \n",
       "2017-12-25 00:00:00+00:00                      NaN  \n",
       "2018-01-01 00:00:00+00:00                20.263722  \n",
       "2018-01-08 00:00:00+00:00                41.310994  \n",
       "2018-01-15 00:00:00+00:00                64.623847  \n",
       "2018-01-22 00:00:00+00:00                80.725749  "
      ]
     },
     "execution_count": 44,
     "metadata": {},
     "output_type": "execute_result"
    }
   ],
   "source": [
    "weekly_df['cumulative_weekly_miles'] = weekly_df['miles'].cumsum()\n",
    "weekly_df = weekly_df.rename(columns={\"miles\":\"miles_run\",\n",
    "                                      'daily_miles':\"weekly_miles_to_run\"})\n",
    "weekly_df.head()"
   ]
  },
  {
   "cell_type": "code",
   "execution_count": 45,
   "metadata": {},
   "outputs": [],
   "source": [
    "weekly_df['cumulative_intended_miles'] = weekly_df['weekly_miles_to_run'].cumsum()"
   ]
  },
  {
   "cell_type": "code",
   "execution_count": 46,
   "metadata": {},
   "outputs": [],
   "source": [
    "weekly_df['miles_difference'] = weekly_df['miles_run']/weekly_df['weekly_miles_to_run']\n",
    "weekly_df['cumulative_miles_difference'] = weekly_df['cumulative_intended_miles']/weekly_df['cumulative_weekly_miles']\n"
   ]
  },
  {
   "cell_type": "code",
   "execution_count": 47,
   "metadata": {},
   "outputs": [],
   "source": [
    "weekly_df = weekly_df[['miles_run', 'weekly_miles_to_run', 'miles_difference', 'cumulative_weekly_miles',\n",
    "       'cumulative_intended_miles', 'cumulative_miles_difference']]"
   ]
  },
  {
   "cell_type": "code",
   "execution_count": 48,
   "metadata": {},
   "outputs": [],
   "source": [
    "weekly_km_df = df_km_runs.resample('W-MON', closed='Right', label='Right').sum()"
   ]
  },
  {
   "cell_type": "code",
   "execution_count": 49,
   "metadata": {},
   "outputs": [],
   "source": [
    "output_file('strava_chart.html')"
   ]
  },
  {
   "cell_type": "code",
   "execution_count": 50,
   "metadata": {},
   "outputs": [],
   "source": [
    "df_km_runs['km'] = df_km_runs.astype(float)"
   ]
  },
  {
   "cell_type": "code",
   "execution_count": 51,
   "metadata": {},
   "outputs": [],
   "source": [
    "df_km_runs['total_kms'] = df_km_runs['km'].sum()"
   ]
  },
  {
   "cell_type": "code",
   "execution_count": 52,
   "metadata": {},
   "outputs": [],
   "source": [
    "df_km_runs['km_goal'] = 20/7"
   ]
  },
  {
   "cell_type": "code",
   "execution_count": 53,
   "metadata": {},
   "outputs": [],
   "source": [
    "df_km_runs['daily_km_difference'] = df_km_runs['km'] - df_km_runs['km_goal']"
   ]
  },
  {
   "cell_type": "code",
   "execution_count": 54,
   "metadata": {},
   "outputs": [],
   "source": [
    "df_km_runs['total_km_todate'] = df_km_runs['km_goal'].sum()"
   ]
  },
  {
   "cell_type": "code",
   "execution_count": null,
   "metadata": {},
   "outputs": [],
   "source": []
  },
  {
   "cell_type": "code",
   "execution_count": 55,
   "metadata": {},
   "outputs": [],
   "source": [
    "# weekly_km_df = weekly_km_df[['km',  'km_goal', 'daily_km_difference',\n",
    "#        'total_km_todate']]"
   ]
  },
  {
   "cell_type": "code",
   "execution_count": 56,
   "metadata": {},
   "outputs": [],
   "source": [
    "# weekly_km_df['total_km_goal_todate'] = weekly_km_df['km_goal'].sum()"
   ]
  },
  {
   "cell_type": "code",
   "execution_count": 57,
   "metadata": {},
   "outputs": [],
   "source": [
    "# weekly_km_df['cumulative_km'] = weekly_km_df['km'].cumsum()"
   ]
  },
  {
   "cell_type": "code",
   "execution_count": 58,
   "metadata": {},
   "outputs": [],
   "source": [
    "# weekly_km_df['cumulative_km_goal'] = weekly_km_df['km_goal'].cumsum()\n",
    "# weekly_km_df['total_aim_km'] = 1000\n",
    "# weekly_km_df['km_left_to_goal'] = weekly_km_df['total_aim_km'] - weekly_km_df['cumulative_km']\n",
    "# weekly_km_df['km_goal_left_to_goal'] = weekly_km_df['total_aim_km'] - weekly_km_df['cumulative_km_goal']"
   ]
  },
  {
   "cell_type": "code",
   "execution_count": 59,
   "metadata": {},
   "outputs": [],
   "source": [
    "df_km_runs.reset_index(inplace=True)"
   ]
  },
  {
   "cell_type": "code",
   "execution_count": 60,
   "metadata": {},
   "outputs": [],
   "source": [
    "df_km_runs['weeks'] = df_km_runs['date'].dt.week"
   ]
  },
  {
   "cell_type": "code",
   "execution_count": 61,
   "metadata": {},
   "outputs": [],
   "source": [
    "# weekly_km_df['total_km_todate'] = weekly_km_df['km'].sum()"
   ]
  },
  {
   "cell_type": "code",
   "execution_count": 62,
   "metadata": {},
   "outputs": [],
   "source": [
    "weeks = list(set(df_km_runs['weeks']))"
   ]
  },
  {
   "cell_type": "code",
   "execution_count": 63,
   "metadata": {},
   "outputs": [],
   "source": [
    "def cumulative_per_week(df, week_number):\n",
    "    df = df.copy(deep=True)\n",
    "    df_week = df[df['weeks']==week_number]\n",
    "    df_week['weekly_actual_total'] = df_week['km'].sum()\n",
    "    df_week['weekly_actual_cumulative'] = df_week['km'].cumsum()\n",
    "    df_week['percentage_to_total_weekly'] = df_week['weekly_actual_cumulative']/df_week['weekly_actual_total']\n",
    "    df_week['weekly_goal_total'] = df_week['km_goal'].sum()\n",
    "    df_week['weekly_goal_cumulative'] = df_week['km'].cumsum()\n",
    "    df_week['percentage_to_total_weekly_goal'] = df_week['weekly_goal_cumulative']/df_week['weekly_goal_total']\n",
    "    return df_week"
   ]
  },
  {
   "cell_type": "code",
   "execution_count": 64,
   "metadata": {},
   "outputs": [],
   "source": [
    "daily_weekly_df = pd.DataFrame()"
   ]
  },
  {
   "cell_type": "code",
   "execution_count": 65,
   "metadata": {},
   "outputs": [
    {
     "name": "stderr",
     "output_type": "stream",
     "text": [
      "c:\\users\\johnnieb\\appdata\\local\\programs\\python\\python36-32\\lib\\site-packages\\ipykernel_launcher.py:4: SettingWithCopyWarning: \n",
      "A value is trying to be set on a copy of a slice from a DataFrame.\n",
      "Try using .loc[row_indexer,col_indexer] = value instead\n",
      "\n",
      "See the caveats in the documentation: http://pandas.pydata.org/pandas-docs/stable/indexing.html#indexing-view-versus-copy\n",
      "  after removing the cwd from sys.path.\n",
      "c:\\users\\johnnieb\\appdata\\local\\programs\\python\\python36-32\\lib\\site-packages\\ipykernel_launcher.py:5: SettingWithCopyWarning: \n",
      "A value is trying to be set on a copy of a slice from a DataFrame.\n",
      "Try using .loc[row_indexer,col_indexer] = value instead\n",
      "\n",
      "See the caveats in the documentation: http://pandas.pydata.org/pandas-docs/stable/indexing.html#indexing-view-versus-copy\n",
      "  \"\"\"\n",
      "c:\\users\\johnnieb\\appdata\\local\\programs\\python\\python36-32\\lib\\site-packages\\ipykernel_launcher.py:6: SettingWithCopyWarning: \n",
      "A value is trying to be set on a copy of a slice from a DataFrame.\n",
      "Try using .loc[row_indexer,col_indexer] = value instead\n",
      "\n",
      "See the caveats in the documentation: http://pandas.pydata.org/pandas-docs/stable/indexing.html#indexing-view-versus-copy\n",
      "  \n",
      "c:\\users\\johnnieb\\appdata\\local\\programs\\python\\python36-32\\lib\\site-packages\\ipykernel_launcher.py:7: SettingWithCopyWarning: \n",
      "A value is trying to be set on a copy of a slice from a DataFrame.\n",
      "Try using .loc[row_indexer,col_indexer] = value instead\n",
      "\n",
      "See the caveats in the documentation: http://pandas.pydata.org/pandas-docs/stable/indexing.html#indexing-view-versus-copy\n",
      "  import sys\n",
      "c:\\users\\johnnieb\\appdata\\local\\programs\\python\\python36-32\\lib\\site-packages\\ipykernel_launcher.py:8: SettingWithCopyWarning: \n",
      "A value is trying to be set on a copy of a slice from a DataFrame.\n",
      "Try using .loc[row_indexer,col_indexer] = value instead\n",
      "\n",
      "See the caveats in the documentation: http://pandas.pydata.org/pandas-docs/stable/indexing.html#indexing-view-versus-copy\n",
      "  \n",
      "c:\\users\\johnnieb\\appdata\\local\\programs\\python\\python36-32\\lib\\site-packages\\ipykernel_launcher.py:9: SettingWithCopyWarning: \n",
      "A value is trying to be set on a copy of a slice from a DataFrame.\n",
      "Try using .loc[row_indexer,col_indexer] = value instead\n",
      "\n",
      "See the caveats in the documentation: http://pandas.pydata.org/pandas-docs/stable/indexing.html#indexing-view-versus-copy\n",
      "  if __name__ == '__main__':\n"
     ]
    }
   ],
   "source": [
    "for week in weeks:\n",
    "    transition_df = cumulative_per_week(df_km_runs, week)\n",
    "    daily_weekly_df = daily_weekly_df.append(transition_df)"
   ]
  },
  {
   "cell_type": "code",
   "execution_count": 66,
   "metadata": {},
   "outputs": [
    {
     "data": {
      "text/html": [
       "<div>\n",
       "<style>\n",
       "    .dataframe thead tr:only-child th {\n",
       "        text-align: right;\n",
       "    }\n",
       "\n",
       "    .dataframe thead th {\n",
       "        text-align: left;\n",
       "    }\n",
       "\n",
       "    .dataframe tbody tr th {\n",
       "        vertical-align: top;\n",
       "    }\n",
       "</style>\n",
       "<table border=\"1\" class=\"dataframe\">\n",
       "  <thead>\n",
       "    <tr style=\"text-align: right;\">\n",
       "      <th></th>\n",
       "      <th>date</th>\n",
       "      <th>km</th>\n",
       "      <th>total_kms</th>\n",
       "      <th>km_goal</th>\n",
       "      <th>daily_km_difference</th>\n",
       "      <th>total_km_todate</th>\n",
       "      <th>weeks</th>\n",
       "      <th>weekly_actual_total</th>\n",
       "      <th>weekly_actual_cumulative</th>\n",
       "      <th>percentage_to_total_weekly</th>\n",
       "      <th>weekly_goal_total</th>\n",
       "      <th>weekly_goal_cumulative</th>\n",
       "      <th>percentage_to_total_weekly_goal</th>\n",
       "    </tr>\n",
       "  </thead>\n",
       "  <tbody>\n",
       "    <tr>\n",
       "      <th>0</th>\n",
       "      <td>2018-01-01 00:00:00+00:00</td>\n",
       "      <td>5.5698</td>\n",
       "      <td>958.7202</td>\n",
       "      <td>2.857143</td>\n",
       "      <td>2.712657</td>\n",
       "      <td>965.714286</td>\n",
       "      <td>1</td>\n",
       "      <td>32.6113</td>\n",
       "      <td>5.5698</td>\n",
       "      <td>0.170794</td>\n",
       "      <td>20.0</td>\n",
       "      <td>5.5698</td>\n",
       "      <td>0.278490</td>\n",
       "    </tr>\n",
       "    <tr>\n",
       "      <th>1</th>\n",
       "      <td>2018-01-02 00:00:00+00:00</td>\n",
       "      <td>5.7745</td>\n",
       "      <td>958.7202</td>\n",
       "      <td>2.857143</td>\n",
       "      <td>2.917357</td>\n",
       "      <td>965.714286</td>\n",
       "      <td>1</td>\n",
       "      <td>32.6113</td>\n",
       "      <td>11.3443</td>\n",
       "      <td>0.347864</td>\n",
       "      <td>20.0</td>\n",
       "      <td>11.3443</td>\n",
       "      <td>0.567215</td>\n",
       "    </tr>\n",
       "    <tr>\n",
       "      <th>2</th>\n",
       "      <td>2018-01-03 00:00:00+00:00</td>\n",
       "      <td>4.9477</td>\n",
       "      <td>958.7202</td>\n",
       "      <td>2.857143</td>\n",
       "      <td>2.090557</td>\n",
       "      <td>965.714286</td>\n",
       "      <td>1</td>\n",
       "      <td>32.6113</td>\n",
       "      <td>16.2920</td>\n",
       "      <td>0.499581</td>\n",
       "      <td>20.0</td>\n",
       "      <td>16.2920</td>\n",
       "      <td>0.814600</td>\n",
       "    </tr>\n",
       "    <tr>\n",
       "      <th>3</th>\n",
       "      <td>2018-01-04 00:00:00+00:00</td>\n",
       "      <td>0.7478</td>\n",
       "      <td>958.7202</td>\n",
       "      <td>2.857143</td>\n",
       "      <td>-2.109343</td>\n",
       "      <td>965.714286</td>\n",
       "      <td>1</td>\n",
       "      <td>32.6113</td>\n",
       "      <td>17.0398</td>\n",
       "      <td>0.522512</td>\n",
       "      <td>20.0</td>\n",
       "      <td>17.0398</td>\n",
       "      <td>0.851990</td>\n",
       "    </tr>\n",
       "    <tr>\n",
       "      <th>4</th>\n",
       "      <td>2018-01-05 00:00:00+00:00</td>\n",
       "      <td>5.6477</td>\n",
       "      <td>958.7202</td>\n",
       "      <td>2.857143</td>\n",
       "      <td>2.790557</td>\n",
       "      <td>965.714286</td>\n",
       "      <td>1</td>\n",
       "      <td>32.6113</td>\n",
       "      <td>22.6875</td>\n",
       "      <td>0.695694</td>\n",
       "      <td>20.0</td>\n",
       "      <td>22.6875</td>\n",
       "      <td>1.134375</td>\n",
       "    </tr>\n",
       "  </tbody>\n",
       "</table>\n",
       "</div>"
      ],
      "text/plain": [
       "                       date      km  total_kms   km_goal  daily_km_difference  \\\n",
       "0 2018-01-01 00:00:00+00:00  5.5698   958.7202  2.857143             2.712657   \n",
       "1 2018-01-02 00:00:00+00:00  5.7745   958.7202  2.857143             2.917357   \n",
       "2 2018-01-03 00:00:00+00:00  4.9477   958.7202  2.857143             2.090557   \n",
       "3 2018-01-04 00:00:00+00:00  0.7478   958.7202  2.857143            -2.109343   \n",
       "4 2018-01-05 00:00:00+00:00  5.6477   958.7202  2.857143             2.790557   \n",
       "\n",
       "   total_km_todate  weeks  weekly_actual_total  weekly_actual_cumulative  \\\n",
       "0       965.714286      1              32.6113                    5.5698   \n",
       "1       965.714286      1              32.6113                   11.3443   \n",
       "2       965.714286      1              32.6113                   16.2920   \n",
       "3       965.714286      1              32.6113                   17.0398   \n",
       "4       965.714286      1              32.6113                   22.6875   \n",
       "\n",
       "   percentage_to_total_weekly  weekly_goal_total  weekly_goal_cumulative  \\\n",
       "0                    0.170794               20.0                  5.5698   \n",
       "1                    0.347864               20.0                 11.3443   \n",
       "2                    0.499581               20.0                 16.2920   \n",
       "3                    0.522512               20.0                 17.0398   \n",
       "4                    0.695694               20.0                 22.6875   \n",
       "\n",
       "   percentage_to_total_weekly_goal  \n",
       "0                         0.278490  \n",
       "1                         0.567215  \n",
       "2                         0.814600  \n",
       "3                         0.851990  \n",
       "4                         1.134375  "
      ]
     },
     "execution_count": 66,
     "metadata": {},
     "output_type": "execute_result"
    }
   ],
   "source": [
    "daily_weekly_df.head()"
   ]
  },
  {
   "cell_type": "code",
   "execution_count": 67,
   "metadata": {},
   "outputs": [],
   "source": [
    "source = ColumnDataSource(data=weekly_df)"
   ]
  },
  {
   "cell_type": "code",
   "execution_count": 68,
   "metadata": {},
   "outputs": [],
   "source": [
    "p = figure(plot_width=400, plot_height=400)"
   ]
  },
  {
   "cell_type": "code",
   "execution_count": 69,
   "metadata": {},
   "outputs": [
    {
     "data": {
      "text/html": [
       "<div style=\"display: table;\"><div style=\"display: table-row;\"><div style=\"display: table-cell;\"><b title=\"bokeh.models.sources.ColumnDataSource\">ColumnDataSource</b>(</div><div style=\"display: table-cell;\">id&nbsp;=&nbsp;'1001', <span id=\"1037\" style=\"cursor: pointer;\">&hellip;)</span></div></div><div class=\"1036\" style=\"display: none;\"><div style=\"display: table-cell;\"></div><div style=\"display: table-cell;\">callback&nbsp;=&nbsp;None,</div></div><div class=\"1036\" style=\"display: none;\"><div style=\"display: table-cell;\"></div><div style=\"display: table-cell;\">data&nbsp;=&nbsp;{'cumulative_intended_miles': {'__ndarray__': 'AAAAAAAA+H8AAAAAAAA0QAAAAAAAAERAAAAAAAAATkAAAAAAAABUQAAAAAAAAFlAAAAAAAAAXkAAAAAAAIBhQAAAAAAAAGRAAAAAAACAZkAAAAAAAABpQAAAAAAAgGtAAAAAAAAAbkAAAAAAAEBwQAAAAAAAgHFAAAAAAADAckAAAAAAAAB0QAAAAAAAQHVAAAAAAACAdkAAAAAAAMB3QAAAAAAAAHlAAAAAAABAekAAAAAAAIB7QAAAAAAAwHxAAAAAAAAAfkAAAAAAAEB/QAAAAAAAQIBAAAAAAADggEAAAAAAAICBQAAAAAAAIIJAAAAAAADAgkAAAAAAAGCDQAAAAAAAAIRAAAAAAACghEAAAAAAAECFQAAAAAAA4IVAAAAAAACAhkAAAAAAACCHQAAAAAAAwIdAAAAAAABgiEAAAAAAAACJQAAAAAAAoIlAAAAAAABAikAAAAAAAOCKQAAAAAAAgItAAAAAAAAgjEAAAAAAAMCMQAAAAAAAYI1AAAAAAAAAjkDbtm3bti2OQA==', 'shape': (50,), 'dtype': 'float64'}, 'miles_run': {'__ndarray__': 'AAAAAAAA+H8legVPg0M0QPWWEvsZDDVAY8NUIRdQN0CEnWhGFhowQIGqUnQ7GC9AeAcF3a2JNEA4HemzrC40QICJ6xD1lDRAvuojzE4iNUC+xwYPNkUwQAAAAAAAAAAAAAAAAAAAAADoDnTsv3YkQFiq+j3MZSFAHAUJSWFeNEDYpODTor80QK8VgyIVEjVAg62u4UT9FUCwwzmnp04DQCNS1sqOF/A/JosmF5tLAEC1Cho1EDQAQHYvaXpUpxRAZGHFCnspHEBsR7yVfgMcQNDUHNiSJBRAAAAAAAAAAACa63GpFhMpQNQds7/N2zBAS/MvcR0CEEB7HhOZih0bQJSDKrhnYh1A8Z0PNXpGGkA8Sir/fKknQDyjO5uYTRJAWDZvMi+KMECGFSvspac0QNxPBtJ5jTdAavTMBtpcK0C7ulH6wuAzQIuhasdWSjZAOuKt9BuvLUAdXGSLquAzQGB2UoY33S5ADP7fc8liHUAOWyiq1yAjQKfB7X85WA1AqK07MWaRMUD4OLp+cAccQA==', 'shape': (50,), 'dtype': 'float64'}, 'cumulative_weekly_miles': {'__ndarray__': 'AAAAAAAA+H8legVPg0M0QI0IDKXOp0RAHzXbGu0nUECAXHWsci5UQNCx/xp6EVhArvNAkuUzXUB+nZ1fyB9hQK4OuwFnsmNABow/27BWZkD+ZCCdV19oQP5kIJ1XX2hA/mQgnVdfaEDspeebw6ZpQJJQx18gvWpANnHoiOxIbUDRhWTj4OBvQEN02sORQXFA+S5h14aZcUCAoq8mJMBxQNJ4erU70HFA6MWo69LwcUD9+RIMOxFyQLue/F3YY3JAQbQnSn7UckBfpX5EjERzQLIY348elXNAshjfjx6Vc0APqCpFt110QOzZJSF0a3VAuZnqlnyrdUAz5k7B8hd2QEGQL2B8jXZAuc4DSZb2dkALIf0w4rN3QJgPapMY/XdA/gKRhrsFeUBWtFPlNVB6QFQZdIINyXtA94CqUvSjfECjnE+CAOJ9QLxGxu6lRn9A59o1Zw8agEDI/ZC7FLmAQKJHqpmJNIFAngeSLE9vgUAKqTqL0ruBQMyWusQq2YFAOXRE9rVlgkCr6EHXxJ2CQA==', 'shape': (50,), 'dtype': 'float64'}, 'weekly_miles_to_run': {'__ndarray__': 'AAAAAAAA+H8AAAAAAAA0QAAAAAAAADRAAAAAAAAANEAAAAAAAAA0QAAAAAAAADRAAAAAAAAANEAAAAAAAAA0QAAAAAAAADRAAAAAAAAANEAAAAAAAAA0QAAAAAAAADRAAAAAAAAANEAAAAAAAAA0QAAAAAAAADRAAAAAAAAANEAAAAAAAAA0QAAAAAAAADRAAAAAAAAANEAAAAAAAAA0QAAAAAAAADRAAAAAAAAANEAAAAAAAAA0QAAAAAAAADRAAAAAAAAANEAAAAAAAAA0QAAAAAAAADRAAAAAAAAANEAAAAAAAAA0QAAAAAAAADRAAAAAAAAANEAAAAAAAAA0QAAAAAAAADRAAAAAAAAANEAAAAAAAAA0QAAAAAAAADRAAAAAAAAANEAAAAAAAAA0QAAAAAAAADRAAAAAAAAANEAAAAAAAAA0QAAAAAAAADRAAAAAAAAANEAAAAAAAAA0QAAAAAAAADRAAAAAAAAANEAAAAAAAAA0QAAAAAAAADRAAAAAAAAANEC3bdu2bdsWQA==', 'shape': (50,), 'dtype': 'float64'}, 'miles_difference': {'__ndarray__': 'AAAAAAAA+H9R+52lAjbwP14SQi971vA/tgJ353im8j/TyA3XVsPpPwEiQpAv4Og/xtLQsCRu8D9gF1T2ViXwPzOh73Mqd/A/ZVW2CT/o8D+WP3F+VgjqPwAAAAAAAAAAAAAAAAAAAAC62Fzw/17gP1rdXZYT1ts/fWo6B4FL8D9G6uYPT5nwP1kRnBtE2/A/nFclTmqX0T/mBfZxP+S+P562I95Kv6k/1hGkvpESuj/u3Vy75uy5P16Mui7dhdA/HYE3opWH1j9WbGMRMmnWPw13fUZCHdA/AAAAAAAAAADiIltURQ/kP7ovuDJJ+eo/eLhM6PucyT8v5aitO7HVPxA2VZPsgdc/J0vZkC4F1T/Koe6Y/e3iP8aekiv0SM0/JopL6rF26j8F3ohWHobwP7AMBaiU1/I/Il0Kn+Hj5T+S97XDBM7vP9YaIjkS1fE/YhuLkEm/5z+VxtOr3c3vP034QTj5sOg/CpgZwzqC1z9KK9qp8preP1IBi5nHecc/DUkstdYb7D+t9Bu/zp7zPw==', 'shape': (50,), 'dtype': 'float64'}, 'date': {'__ndarray__': 'AADAgK8IdkIAAABJ8Ap2QgAAQBExDXZCAACA2XEPdkIAAMChshF2QgAAAGrzE3ZCAABAMjQWdkIAAID6dBh2QgAAwMK1GnZCAAAAi/YcdkIAAEBTNx92QgAAgBt4IXZCAADA47gjdkIAAACs+SV2QgAAQHQ6KHZCAACAPHsqdkIAAMAEvCx2QgAAAM38LnZCAABAlT0xdkIAAIBdfjN2QgAAwCW/NXZCAAAA7v83dkIAAEC2QDp2QgAAgH6BPHZCAADARsI+dkIAAAAPA0F2QgAAQNdDQ3ZCAACAn4RFdkIAAMBnxUd2QgAAADAGSnZCAABA+EZMdkIAAIDAh052QgAAwIjIUHZCAAAAUQlTdkIAAEAZSlV2QgAAgOGKV3ZCAADAqctZdkIAAAByDFx2QgAAQDpNXnZCAACAAo5gdkIAAMDKzmJ2QgAAAJMPZXZCAABAW1BndkIAAIAjkWl2QgAAwOvRa3ZCAAAAtBJudkIAAEB8U3B2QgAAgESUcnZCAADADNV0dkIAAADVFXd2Qg==', 'shape': (50,), 'dtype': 'float64'}, 'cumulative_miles_difference': {'__ndarray__': 'AAAAAAAA+H9fy6CZYpXvP9wYQmsH/O4/j60Bb9y17T/z2aD2WbbvP+JdRnaQnvA/KbYYtNNv8D8I8pOh5lnwP+Emi44IP/A/CPh9bJYd8D8a+Mvwd2nwP7Zd4IidDfI/U8P0IMOx8z/aiCxnk0X0P1RfmoqA8fQ/VH3j+wd99D80fBhvhhP0P5ESTigBtPM/KNZ05HJ09D9rWN6fZGj1PzHe11d6dPY/VCBKMBJp9z96XsAdd1r4P5XmJB15A/k/kCIYHr19+T9/WLZEOPP5P4+luTnojfo/xbUFd12T+z85jjn1J3/7P5TniF3sE/s/0gwV0C6w+z9JPU1x/w/8PzENJ9LEYPw/LCM6htm9/D/jtcb6UbD8P90ijo8yLv0/VqUuuTPG/D+VlrUaZR/8P18AHoE/Wvs/+1wCUfU7+z/LbQemb8X6Pyx+bL/cN/o/RpUw7YMV+j9/so3Pj7b5P5w3SjvZkvk/s1JYWHnP+T8YXXWeePD5P9UqHUNBVfo/Bde29zwX+j8YOeBW9u/5Pw==', 'shape': (50,), 'dtype': 'float64'}},</div></div><div class=\"1036\" style=\"display: none;\"><div style=\"display: table-cell;\"></div><div style=\"display: table-cell;\">js_event_callbacks&nbsp;=&nbsp;{},</div></div><div class=\"1036\" style=\"display: none;\"><div style=\"display: table-cell;\"></div><div style=\"display: table-cell;\">js_property_callbacks&nbsp;=&nbsp;{},</div></div><div class=\"1036\" style=\"display: none;\"><div style=\"display: table-cell;\"></div><div style=\"display: table-cell;\">name&nbsp;=&nbsp;None,</div></div><div class=\"1036\" style=\"display: none;\"><div style=\"display: table-cell;\"></div><div style=\"display: table-cell;\">selected&nbsp;=&nbsp;Selection(id='1038', ...),</div></div><div class=\"1036\" style=\"display: none;\"><div style=\"display: table-cell;\"></div><div style=\"display: table-cell;\">selection_policy&nbsp;=&nbsp;UnionRenderers(id='1039', ...),</div></div><div class=\"1036\" style=\"display: none;\"><div style=\"display: table-cell;\"></div><div style=\"display: table-cell;\">subscribed_events&nbsp;=&nbsp;[],</div></div><div class=\"1036\" style=\"display: none;\"><div style=\"display: table-cell;\"></div><div style=\"display: table-cell;\">tags&nbsp;=&nbsp;[])</div></div></div>\n",
       "<script>\n",
       "(function() {\n",
       "  var expanded = false;\n",
       "  var ellipsis = document.getElementById(\"1037\");\n",
       "  ellipsis.addEventListener(\"click\", function() {\n",
       "    var rows = document.getElementsByClassName(\"1036\");\n",
       "    for (var i = 0; i < rows.length; i++) {\n",
       "      var el = rows[i];\n",
       "      el.style.display = expanded ? \"none\" : \"table-row\";\n",
       "    }\n",
       "    ellipsis.innerHTML = expanded ? \"&hellip;)\" : \"&lsaquo;&lsaquo;&lsaquo;\";\n",
       "    expanded = !expanded;\n",
       "  });\n",
       "})();\n",
       "</script>\n"
      ],
      "text/plain": [
       "ColumnDataSource(id='1001', ...)"
      ]
     },
     "execution_count": 69,
     "metadata": {},
     "output_type": "execute_result"
    }
   ],
   "source": [
    "source"
   ]
  },
  {
   "cell_type": "code",
   "execution_count": 70,
   "metadata": {},
   "outputs": [
    {
     "data": {
      "text/html": [
       "<div style=\"display: table;\"><div style=\"display: table-row;\"><div style=\"display: table-cell;\"><b title=\"bokeh.models.renderers.GlyphRenderer\">GlyphRenderer</b>(</div><div style=\"display: table-cell;\">id&nbsp;=&nbsp;'1043', <span id=\"1046\" style=\"cursor: pointer;\">&hellip;)</span></div></div><div class=\"1045\" style=\"display: none;\"><div style=\"display: table-cell;\"></div><div style=\"display: table-cell;\">data_source&nbsp;=&nbsp;ColumnDataSource(id='1001', ...),</div></div><div class=\"1045\" style=\"display: none;\"><div style=\"display: table-cell;\"></div><div style=\"display: table-cell;\">glyph&nbsp;=&nbsp;Line(id='1041', ...),</div></div><div class=\"1045\" style=\"display: none;\"><div style=\"display: table-cell;\"></div><div style=\"display: table-cell;\">hover_glyph&nbsp;=&nbsp;None,</div></div><div class=\"1045\" style=\"display: none;\"><div style=\"display: table-cell;\"></div><div style=\"display: table-cell;\">js_event_callbacks&nbsp;=&nbsp;{},</div></div><div class=\"1045\" style=\"display: none;\"><div style=\"display: table-cell;\"></div><div style=\"display: table-cell;\">js_property_callbacks&nbsp;=&nbsp;{},</div></div><div class=\"1045\" style=\"display: none;\"><div style=\"display: table-cell;\"></div><div style=\"display: table-cell;\">level&nbsp;=&nbsp;'glyph',</div></div><div class=\"1045\" style=\"display: none;\"><div style=\"display: table-cell;\"></div><div style=\"display: table-cell;\">muted&nbsp;=&nbsp;False,</div></div><div class=\"1045\" style=\"display: none;\"><div style=\"display: table-cell;\"></div><div style=\"display: table-cell;\">muted_glyph&nbsp;=&nbsp;None,</div></div><div class=\"1045\" style=\"display: none;\"><div style=\"display: table-cell;\"></div><div style=\"display: table-cell;\">name&nbsp;=&nbsp;None,</div></div><div class=\"1045\" style=\"display: none;\"><div style=\"display: table-cell;\"></div><div style=\"display: table-cell;\">nonselection_glyph&nbsp;=&nbsp;Line(id='1042', ...),</div></div><div class=\"1045\" style=\"display: none;\"><div style=\"display: table-cell;\"></div><div style=\"display: table-cell;\">selection_glyph&nbsp;=&nbsp;None,</div></div><div class=\"1045\" style=\"display: none;\"><div style=\"display: table-cell;\"></div><div style=\"display: table-cell;\">subscribed_events&nbsp;=&nbsp;[],</div></div><div class=\"1045\" style=\"display: none;\"><div style=\"display: table-cell;\"></div><div style=\"display: table-cell;\">tags&nbsp;=&nbsp;[],</div></div><div class=\"1045\" style=\"display: none;\"><div style=\"display: table-cell;\"></div><div style=\"display: table-cell;\">view&nbsp;=&nbsp;CDSView(id='1044', ...),</div></div><div class=\"1045\" style=\"display: none;\"><div style=\"display: table-cell;\"></div><div style=\"display: table-cell;\">visible&nbsp;=&nbsp;True,</div></div><div class=\"1045\" style=\"display: none;\"><div style=\"display: table-cell;\"></div><div style=\"display: table-cell;\">x_range_name&nbsp;=&nbsp;'default',</div></div><div class=\"1045\" style=\"display: none;\"><div style=\"display: table-cell;\"></div><div style=\"display: table-cell;\">y_range_name&nbsp;=&nbsp;'default')</div></div></div>\n",
       "<script>\n",
       "(function() {\n",
       "  var expanded = false;\n",
       "  var ellipsis = document.getElementById(\"1046\");\n",
       "  ellipsis.addEventListener(\"click\", function() {\n",
       "    var rows = document.getElementsByClassName(\"1045\");\n",
       "    for (var i = 0; i < rows.length; i++) {\n",
       "      var el = rows[i];\n",
       "      el.style.display = expanded ? \"none\" : \"table-row\";\n",
       "    }\n",
       "    ellipsis.innerHTML = expanded ? \"&hellip;)\" : \"&lsaquo;&lsaquo;&lsaquo;\";\n",
       "    expanded = !expanded;\n",
       "  });\n",
       "})();\n",
       "</script>\n"
      ],
      "text/plain": [
       "GlyphRenderer(id='1043', ...)"
      ]
     },
     "execution_count": 70,
     "metadata": {},
     "output_type": "execute_result"
    }
   ],
   "source": [
    "p.line(x='date',y='cumulative_weekly_miles',source=source)"
   ]
  },
  {
   "cell_type": "code",
   "execution_count": 71,
   "metadata": {},
   "outputs": [],
   "source": [
    "show(p)"
   ]
  },
  {
   "cell_type": "code",
   "execution_count": 72,
   "metadata": {},
   "outputs": [],
   "source": [
    "numlines=len(weekly_df.columns)\n",
    "mypalette=Spectral11[0:2]\n"
   ]
  },
  {
   "cell_type": "code",
   "execution_count": 73,
   "metadata": {},
   "outputs": [],
   "source": [
    "\n",
    "# p = figure(width=500, height=300, x_axis_type=\"datetime\") \n"
   ]
  },
  {
   "cell_type": "code",
   "execution_count": 74,
   "metadata": {},
   "outputs": [],
   "source": [
    "# p.multi_line(xs=[weekly_df.index.values]*2,\n",
    "#                 ys=[weekly_df[name].values for name in weekly_df[['cumulative_weekly_miles','cumulative_intended_miles']]],\n",
    "#                 line_color=mypalette,\n",
    "#                 line_width=5)"
   ]
  },
  {
   "cell_type": "code",
   "execution_count": 75,
   "metadata": {},
   "outputs": [],
   "source": [
    "# show(p)"
   ]
  },
  {
   "cell_type": "code",
   "execution_count": 76,
   "metadata": {},
   "outputs": [],
   "source": [
    "# output_file('strava_km_chart.html')"
   ]
  },
  {
   "cell_type": "code",
   "execution_count": 77,
   "metadata": {},
   "outputs": [],
   "source": [
    "# source_km = ColumnDataSource(data=weekly_km_df)"
   ]
  },
  {
   "cell_type": "code",
   "execution_count": 78,
   "metadata": {},
   "outputs": [],
   "source": [
    "# p_km = figure(plot_width=400, plot_height=400)"
   ]
  },
  {
   "cell_type": "code",
   "execution_count": 79,
   "metadata": {},
   "outputs": [],
   "source": [
    "# p_km.line(x='date',y='cumulative_km',source=source_km)"
   ]
  },
  {
   "cell_type": "code",
   "execution_count": 80,
   "metadata": {},
   "outputs": [],
   "source": [
    "# numlines=len(weekly_km_df.columns)\n",
    "# mypalette=Spectral11[0:2]"
   ]
  },
  {
   "cell_type": "code",
   "execution_count": 81,
   "metadata": {},
   "outputs": [],
   "source": [
    "# p_km = figure(width=500, height=300, x_axis_type=\"datetime\") "
   ]
  },
  {
   "cell_type": "code",
   "execution_count": 82,
   "metadata": {},
   "outputs": [],
   "source": [
    "# p_km.multi_line(xs=[weekly_km_df.index.values]*2,\n",
    "#                 ys=[weekly_km_df[name].values for name in weekly_km_df[['cumulative_km','cumulative_km_goal']]],\n",
    "#                 line_color=mypalette,\n",
    "#                 line_width=3)"
   ]
  },
  {
   "cell_type": "code",
   "execution_count": 83,
   "metadata": {},
   "outputs": [],
   "source": [
    "# p_km.multi_line(xs=[weekly_km_df.index.values]*2,\n",
    "#                 ys=[weekly_km_df[name].values for name in weekly_km_df[['km_left_to_goal','km_goal_left_to_goal']]],\n",
    "#                 line_color=mypalette,\n",
    "#                 line_width=3)"
   ]
  },
  {
   "cell_type": "code",
   "execution_count": 84,
   "metadata": {},
   "outputs": [],
   "source": [
    "# show(p_km)"
   ]
  },
  {
   "cell_type": "code",
   "execution_count": 85,
   "metadata": {},
   "outputs": [],
   "source": [
    "# Create a ColumnDataSource\n",
    "run_cds = ColumnDataSource(weekly_km_df)\n"
   ]
  },
  {
   "cell_type": "code",
   "execution_count": 86,
   "metadata": {},
   "outputs": [],
   "source": [
    "weekly_km_df.reset_index(inplace=True)"
   ]
  },
  {
   "cell_type": "code",
   "execution_count": 87,
   "metadata": {},
   "outputs": [
    {
     "data": {
      "text/plain": [
       "Index(['date', 'km'], dtype='object')"
      ]
     },
     "execution_count": 87,
     "metadata": {},
     "output_type": "execute_result"
    }
   ],
   "source": [
    "weekly_km_df.columns"
   ]
  },
  {
   "cell_type": "code",
   "execution_count": 93,
   "metadata": {},
   "outputs": [
    {
     "data": {
      "text/html": [
       "<div>\n",
       "<style>\n",
       "    .dataframe thead tr:only-child th {\n",
       "        text-align: right;\n",
       "    }\n",
       "\n",
       "    .dataframe thead th {\n",
       "        text-align: left;\n",
       "    }\n",
       "\n",
       "    .dataframe tbody tr th {\n",
       "        vertical-align: top;\n",
       "    }\n",
       "</style>\n",
       "<table border=\"1\" class=\"dataframe\">\n",
       "  <thead>\n",
       "    <tr style=\"text-align: right;\">\n",
       "      <th></th>\n",
       "      <th>date</th>\n",
       "      <th>km</th>\n",
       "    </tr>\n",
       "  </thead>\n",
       "  <tbody>\n",
       "    <tr>\n",
       "      <th>0</th>\n",
       "      <td>2017-12-25 00:00:00+00:00</td>\n",
       "      <td>0.0000</td>\n",
       "    </tr>\n",
       "    <tr>\n",
       "      <th>1</th>\n",
       "      <td>2018-01-01 00:00:00+00:00</td>\n",
       "      <td>32.6113</td>\n",
       "    </tr>\n",
       "    <tr>\n",
       "      <th>2</th>\n",
       "      <td>2018-01-08 00:00:00+00:00</td>\n",
       "      <td>33.8723</td>\n",
       "    </tr>\n",
       "    <tr>\n",
       "      <th>3</th>\n",
       "      <td>2018-01-15 00:00:00+00:00</td>\n",
       "      <td>37.5184</td>\n",
       "    </tr>\n",
       "    <tr>\n",
       "      <th>4</th>\n",
       "      <td>2018-01-22 00:00:00+00:00</td>\n",
       "      <td>25.9135</td>\n",
       "    </tr>\n",
       "  </tbody>\n",
       "</table>\n",
       "</div>"
      ],
      "text/plain": [
       "                       date       km\n",
       "0 2017-12-25 00:00:00+00:00   0.0000\n",
       "1 2018-01-01 00:00:00+00:00  32.6113\n",
       "2 2018-01-08 00:00:00+00:00  33.8723\n",
       "3 2018-01-15 00:00:00+00:00  37.5184\n",
       "4 2018-01-22 00:00:00+00:00  25.9135"
      ]
     },
     "execution_count": 93,
     "metadata": {},
     "output_type": "execute_result"
    }
   ],
   "source": [
    "\n",
    "# Create views for each team\n",
    "# rockets_view = CDSView(source=west_cds,\n",
    "#                        filters=[GroupFilter(column_name='teamAbbr', group='HOU')])\n",
    "# warriors_view = CDSView(source=west_cds,\n",
    "#                         filters=[GroupFilter(column_name='teamAbbr', group='GS')])\n",
    "\n",
    "weekly_km_df.head()"
   ]
  },
  {
   "cell_type": "code",
   "execution_count": 89,
   "metadata": {},
   "outputs": [
    {
     "name": "stderr",
     "output_type": "stream",
     "text": [
      "ERROR:bokeh.core.validation.check:E-1001 (BAD_COLUMN_NAME): Glyph refers to nonexistent column name: cumulative_km [renderer: GlyphRenderer(id='1160', ...)]\n",
      "ERROR:bokeh.core.validation.check:E-1001 (BAD_COLUMN_NAME): Glyph refers to nonexistent column name: cumulative_km_goal [renderer: GlyphRenderer(id='1185', ...)]\n"
     ]
    }
   ],
   "source": [
    "# Create and configure the figure\n",
    "km_fig = figure(x_axis_type='datetime',\n",
    "                  plot_height=300, plot_width=600,\n",
    "                  title='cumulative actual distance vs goal actual distance',\n",
    "                  x_axis_label='Date', y_axis_label='Kms',\n",
    "                  toolbar_location=None)\n",
    "\n",
    "\n",
    "km_fig.line(x='date', y='cumulative_km', \n",
    "         color='blue', line_width=1,\n",
    "         legend='Cumulative',source=run_cds)\n",
    "\n",
    "km_fig.line(x='date', y='cumulative_km_goal', \n",
    "         color='red', line_width=1,\n",
    "         legend='Cumulative goal',source=run_cds)\n",
    "\n",
    "# Render the race as step lines\n",
    "# west_fig.step('stDate', 'gameWon',\n",
    "#               source=west_cds, view=rockets_view,\n",
    "#               color='#CE1141', legend='Rockets')\n",
    "# west_fig.step('stDate', 'gameWon',\n",
    "#               source=west_cds, view=warriors_view,\n",
    "#               color='#006BB6', legend='Warriors')\n",
    "\n",
    "# Move the legend to the upper left corner\n",
    "km_fig.legend.location = 'top_left'\n",
    "\n",
    "# Show the plot\n",
    "show(km_fig)"
   ]
  },
  {
   "cell_type": "code",
   "execution_count": 90,
   "metadata": {},
   "outputs": [
    {
     "data": {
      "text/html": [
       "<div>\n",
       "<style>\n",
       "    .dataframe thead tr:only-child th {\n",
       "        text-align: right;\n",
       "    }\n",
       "\n",
       "    .dataframe thead th {\n",
       "        text-align: left;\n",
       "    }\n",
       "\n",
       "    .dataframe tbody tr th {\n",
       "        vertical-align: top;\n",
       "    }\n",
       "</style>\n",
       "<table border=\"1\" class=\"dataframe\">\n",
       "  <thead>\n",
       "    <tr style=\"text-align: right;\">\n",
       "      <th></th>\n",
       "      <th>date</th>\n",
       "      <th>km</th>\n",
       "    </tr>\n",
       "  </thead>\n",
       "  <tbody>\n",
       "    <tr>\n",
       "      <th>0</th>\n",
       "      <td>2017-12-25 00:00:00+00:00</td>\n",
       "      <td>0.0000</td>\n",
       "    </tr>\n",
       "    <tr>\n",
       "      <th>1</th>\n",
       "      <td>2018-01-01 00:00:00+00:00</td>\n",
       "      <td>32.6113</td>\n",
       "    </tr>\n",
       "    <tr>\n",
       "      <th>2</th>\n",
       "      <td>2018-01-08 00:00:00+00:00</td>\n",
       "      <td>33.8723</td>\n",
       "    </tr>\n",
       "    <tr>\n",
       "      <th>3</th>\n",
       "      <td>2018-01-15 00:00:00+00:00</td>\n",
       "      <td>37.5184</td>\n",
       "    </tr>\n",
       "    <tr>\n",
       "      <th>4</th>\n",
       "      <td>2018-01-22 00:00:00+00:00</td>\n",
       "      <td>25.9135</td>\n",
       "    </tr>\n",
       "  </tbody>\n",
       "</table>\n",
       "</div>"
      ],
      "text/plain": [
       "                       date       km\n",
       "0 2017-12-25 00:00:00+00:00   0.0000\n",
       "1 2018-01-01 00:00:00+00:00  32.6113\n",
       "2 2018-01-08 00:00:00+00:00  33.8723\n",
       "3 2018-01-15 00:00:00+00:00  37.5184\n",
       "4 2018-01-22 00:00:00+00:00  25.9135"
      ]
     },
     "execution_count": 90,
     "metadata": {},
     "output_type": "execute_result"
    }
   ],
   "source": [
    "weekly_km_df.head()"
   ]
  },
  {
   "cell_type": "code",
   "execution_count": null,
   "metadata": {},
   "outputs": [],
   "source": []
  },
  {
   "cell_type": "code",
   "execution_count": 91,
   "metadata": {},
   "outputs": [
    {
     "data": {
      "text/html": [
       "<div>\n",
       "<style>\n",
       "    .dataframe thead tr:only-child th {\n",
       "        text-align: right;\n",
       "    }\n",
       "\n",
       "    .dataframe thead th {\n",
       "        text-align: left;\n",
       "    }\n",
       "\n",
       "    .dataframe tbody tr th {\n",
       "        vertical-align: top;\n",
       "    }\n",
       "</style>\n",
       "<table border=\"1\" class=\"dataframe\">\n",
       "  <thead>\n",
       "    <tr style=\"text-align: right;\">\n",
       "      <th></th>\n",
       "      <th>date</th>\n",
       "      <th>km</th>\n",
       "      <th>total_kms</th>\n",
       "      <th>km_goal</th>\n",
       "      <th>daily_km_difference</th>\n",
       "      <th>total_km_todate</th>\n",
       "      <th>weeks</th>\n",
       "      <th>weekly_actual_total</th>\n",
       "      <th>weekly_actual_cumulative</th>\n",
       "      <th>percentage_to_total_weekly</th>\n",
       "      <th>weekly_goal_total</th>\n",
       "      <th>weekly_goal_cumulative</th>\n",
       "      <th>percentage_to_total_weekly_goal</th>\n",
       "    </tr>\n",
       "  </thead>\n",
       "  <tbody>\n",
       "    <tr>\n",
       "      <th>0</th>\n",
       "      <td>2018-01-01 00:00:00+00:00</td>\n",
       "      <td>5.5698</td>\n",
       "      <td>958.7202</td>\n",
       "      <td>2.857143</td>\n",
       "      <td>2.712657</td>\n",
       "      <td>965.714286</td>\n",
       "      <td>1</td>\n",
       "      <td>32.6113</td>\n",
       "      <td>5.5698</td>\n",
       "      <td>0.170794</td>\n",
       "      <td>20.0</td>\n",
       "      <td>5.5698</td>\n",
       "      <td>0.278490</td>\n",
       "    </tr>\n",
       "    <tr>\n",
       "      <th>1</th>\n",
       "      <td>2018-01-02 00:00:00+00:00</td>\n",
       "      <td>5.7745</td>\n",
       "      <td>958.7202</td>\n",
       "      <td>2.857143</td>\n",
       "      <td>2.917357</td>\n",
       "      <td>965.714286</td>\n",
       "      <td>1</td>\n",
       "      <td>32.6113</td>\n",
       "      <td>11.3443</td>\n",
       "      <td>0.347864</td>\n",
       "      <td>20.0</td>\n",
       "      <td>11.3443</td>\n",
       "      <td>0.567215</td>\n",
       "    </tr>\n",
       "    <tr>\n",
       "      <th>2</th>\n",
       "      <td>2018-01-03 00:00:00+00:00</td>\n",
       "      <td>4.9477</td>\n",
       "      <td>958.7202</td>\n",
       "      <td>2.857143</td>\n",
       "      <td>2.090557</td>\n",
       "      <td>965.714286</td>\n",
       "      <td>1</td>\n",
       "      <td>32.6113</td>\n",
       "      <td>16.2920</td>\n",
       "      <td>0.499581</td>\n",
       "      <td>20.0</td>\n",
       "      <td>16.2920</td>\n",
       "      <td>0.814600</td>\n",
       "    </tr>\n",
       "    <tr>\n",
       "      <th>3</th>\n",
       "      <td>2018-01-04 00:00:00+00:00</td>\n",
       "      <td>0.7478</td>\n",
       "      <td>958.7202</td>\n",
       "      <td>2.857143</td>\n",
       "      <td>-2.109343</td>\n",
       "      <td>965.714286</td>\n",
       "      <td>1</td>\n",
       "      <td>32.6113</td>\n",
       "      <td>17.0398</td>\n",
       "      <td>0.522512</td>\n",
       "      <td>20.0</td>\n",
       "      <td>17.0398</td>\n",
       "      <td>0.851990</td>\n",
       "    </tr>\n",
       "    <tr>\n",
       "      <th>4</th>\n",
       "      <td>2018-01-05 00:00:00+00:00</td>\n",
       "      <td>5.6477</td>\n",
       "      <td>958.7202</td>\n",
       "      <td>2.857143</td>\n",
       "      <td>2.790557</td>\n",
       "      <td>965.714286</td>\n",
       "      <td>1</td>\n",
       "      <td>32.6113</td>\n",
       "      <td>22.6875</td>\n",
       "      <td>0.695694</td>\n",
       "      <td>20.0</td>\n",
       "      <td>22.6875</td>\n",
       "      <td>1.134375</td>\n",
       "    </tr>\n",
       "  </tbody>\n",
       "</table>\n",
       "</div>"
      ],
      "text/plain": [
       "                       date      km  total_kms   km_goal  daily_km_difference  \\\n",
       "0 2018-01-01 00:00:00+00:00  5.5698   958.7202  2.857143             2.712657   \n",
       "1 2018-01-02 00:00:00+00:00  5.7745   958.7202  2.857143             2.917357   \n",
       "2 2018-01-03 00:00:00+00:00  4.9477   958.7202  2.857143             2.090557   \n",
       "3 2018-01-04 00:00:00+00:00  0.7478   958.7202  2.857143            -2.109343   \n",
       "4 2018-01-05 00:00:00+00:00  5.6477   958.7202  2.857143             2.790557   \n",
       "\n",
       "   total_km_todate  weeks  weekly_actual_total  weekly_actual_cumulative  \\\n",
       "0       965.714286      1              32.6113                    5.5698   \n",
       "1       965.714286      1              32.6113                   11.3443   \n",
       "2       965.714286      1              32.6113                   16.2920   \n",
       "3       965.714286      1              32.6113                   17.0398   \n",
       "4       965.714286      1              32.6113                   22.6875   \n",
       "\n",
       "   percentage_to_total_weekly  weekly_goal_total  weekly_goal_cumulative  \\\n",
       "0                    0.170794               20.0                  5.5698   \n",
       "1                    0.347864               20.0                 11.3443   \n",
       "2                    0.499581               20.0                 16.2920   \n",
       "3                    0.522512               20.0                 17.0398   \n",
       "4                    0.695694               20.0                 22.6875   \n",
       "\n",
       "   percentage_to_total_weekly_goal  \n",
       "0                         0.278490  \n",
       "1                         0.567215  \n",
       "2                         0.814600  \n",
       "3                         0.851990  \n",
       "4                         1.134375  "
      ]
     },
     "execution_count": 91,
     "metadata": {},
     "output_type": "execute_result"
    }
   ],
   "source": [
    "daily_weekly_df.head()"
   ]
  },
  {
   "cell_type": "code",
   "execution_count": 92,
   "metadata": {},
   "outputs": [
    {
     "ename": "RuntimeError",
     "evalue": "Models must be owned by only a single document, Selection(id='1454', ...) is already in a doc",
     "output_type": "error",
     "traceback": [
      "\u001b[1;31m---------------------------------------------------------------------------\u001b[0m",
      "\u001b[1;31mRuntimeError\u001b[0m                              Traceback (most recent call last)",
      "\u001b[1;32m<ipython-input-92-1a49c4426405>\u001b[0m in \u001b[0;36m<module>\u001b[1;34m()\u001b[0m\n\u001b[0;32m     25\u001b[0m \u001b[1;33m\u001b[0m\u001b[0m\n\u001b[0;32m     26\u001b[0m \u001b[1;31m# Show the plot\u001b[0m\u001b[1;33m\u001b[0m\u001b[1;33m\u001b[0m\u001b[0m\n\u001b[1;32m---> 27\u001b[1;33m \u001b[0mshow\u001b[0m\u001b[1;33m(\u001b[0m\u001b[0mkm_week_fig\u001b[0m\u001b[1;33m)\u001b[0m\u001b[1;33m\u001b[0m\u001b[0m\n\u001b[0m",
      "\u001b[1;32mc:\\users\\johnnieb\\appdata\\local\\programs\\python\\python36-32\\lib\\site-packages\\bokeh\\io\\showing.py\u001b[0m in \u001b[0;36mshow\u001b[1;34m(obj, browser, new, notebook_handle, notebook_url)\u001b[0m\n\u001b[0;32m    133\u001b[0m         \u001b[1;32mreturn\u001b[0m \u001b[0mrun_notebook_hook\u001b[0m\u001b[1;33m(\u001b[0m\u001b[0mstate\u001b[0m\u001b[1;33m.\u001b[0m\u001b[0mnotebook_type\u001b[0m\u001b[1;33m,\u001b[0m \u001b[1;34m'app'\u001b[0m\u001b[1;33m,\u001b[0m \u001b[0mobj\u001b[0m\u001b[1;33m,\u001b[0m \u001b[0mstate\u001b[0m\u001b[1;33m,\u001b[0m \u001b[0mnotebook_url\u001b[0m\u001b[1;33m)\u001b[0m\u001b[1;33m\u001b[0m\u001b[0m\n\u001b[0;32m    134\u001b[0m \u001b[1;33m\u001b[0m\u001b[0m\n\u001b[1;32m--> 135\u001b[1;33m     \u001b[1;32mreturn\u001b[0m \u001b[0m_show_with_state\u001b[0m\u001b[1;33m(\u001b[0m\u001b[0mobj\u001b[0m\u001b[1;33m,\u001b[0m \u001b[0mstate\u001b[0m\u001b[1;33m,\u001b[0m \u001b[0mbrowser\u001b[0m\u001b[1;33m,\u001b[0m \u001b[0mnew\u001b[0m\u001b[1;33m,\u001b[0m \u001b[0mnotebook_handle\u001b[0m\u001b[1;33m=\u001b[0m\u001b[0mnotebook_handle\u001b[0m\u001b[1;33m)\u001b[0m\u001b[1;33m\u001b[0m\u001b[0m\n\u001b[0m\u001b[0;32m    136\u001b[0m \u001b[1;33m\u001b[0m\u001b[0m\n\u001b[0;32m    137\u001b[0m \u001b[1;31m#-----------------------------------------------------------------------------\u001b[0m\u001b[1;33m\u001b[0m\u001b[1;33m\u001b[0m\u001b[0m\n",
      "\u001b[1;32mc:\\users\\johnnieb\\appdata\\local\\programs\\python\\python36-32\\lib\\site-packages\\bokeh\\io\\showing.py\u001b[0m in \u001b[0;36m_show_with_state\u001b[1;34m(obj, state, browser, new, notebook_handle)\u001b[0m\n\u001b[0;32m    171\u001b[0m \u001b[1;33m\u001b[0m\u001b[0m\n\u001b[0;32m    172\u001b[0m     \u001b[1;32mif\u001b[0m \u001b[0mstate\u001b[0m\u001b[1;33m.\u001b[0m\u001b[0mfile\u001b[0m \u001b[1;32mor\u001b[0m \u001b[1;32mnot\u001b[0m \u001b[0mshown\u001b[0m\u001b[1;33m:\u001b[0m\u001b[1;33m\u001b[0m\u001b[0m\n\u001b[1;32m--> 173\u001b[1;33m         \u001b[0m_show_file_with_state\u001b[0m\u001b[1;33m(\u001b[0m\u001b[0mobj\u001b[0m\u001b[1;33m,\u001b[0m \u001b[0mstate\u001b[0m\u001b[1;33m,\u001b[0m \u001b[0mnew\u001b[0m\u001b[1;33m,\u001b[0m \u001b[0mcontroller\u001b[0m\u001b[1;33m)\u001b[0m\u001b[1;33m\u001b[0m\u001b[0m\n\u001b[0m\u001b[0;32m    174\u001b[0m \u001b[1;33m\u001b[0m\u001b[0m\n\u001b[0;32m    175\u001b[0m     \u001b[1;32mreturn\u001b[0m \u001b[0mcomms_handle\u001b[0m\u001b[1;33m\u001b[0m\u001b[0m\n",
      "\u001b[1;32mc:\\users\\johnnieb\\appdata\\local\\programs\\python\\python36-32\\lib\\site-packages\\bokeh\\io\\showing.py\u001b[0m in \u001b[0;36m_show_file_with_state\u001b[1;34m(obj, state, new, controller)\u001b[0m\n\u001b[0;32m    154\u001b[0m \u001b[1;33m\u001b[0m\u001b[0m\n\u001b[0;32m    155\u001b[0m     '''\n\u001b[1;32m--> 156\u001b[1;33m     \u001b[0mfilename\u001b[0m \u001b[1;33m=\u001b[0m \u001b[0msave\u001b[0m\u001b[1;33m(\u001b[0m\u001b[0mobj\u001b[0m\u001b[1;33m,\u001b[0m \u001b[0mstate\u001b[0m\u001b[1;33m=\u001b[0m\u001b[0mstate\u001b[0m\u001b[1;33m)\u001b[0m\u001b[1;33m\u001b[0m\u001b[0m\n\u001b[0m\u001b[0;32m    157\u001b[0m     \u001b[0mcontroller\u001b[0m\u001b[1;33m.\u001b[0m\u001b[0mopen\u001b[0m\u001b[1;33m(\u001b[0m\u001b[1;34m\"file://\"\u001b[0m \u001b[1;33m+\u001b[0m \u001b[0mfilename\u001b[0m\u001b[1;33m,\u001b[0m \u001b[0mnew\u001b[0m\u001b[1;33m=\u001b[0m\u001b[0mNEW_PARAM\u001b[0m\u001b[1;33m[\u001b[0m\u001b[0mnew\u001b[0m\u001b[1;33m]\u001b[0m\u001b[1;33m)\u001b[0m\u001b[1;33m\u001b[0m\u001b[0m\n\u001b[0;32m    158\u001b[0m \u001b[1;33m\u001b[0m\u001b[0m\n",
      "\u001b[1;32mc:\\users\\johnnieb\\appdata\\local\\programs\\python\\python36-32\\lib\\site-packages\\bokeh\\io\\saving.py\u001b[0m in \u001b[0;36msave\u001b[1;34m(obj, filename, resources, title, template, state, **kwargs)\u001b[0m\n\u001b[0;32m     81\u001b[0m \u001b[1;33m\u001b[0m\u001b[0m\n\u001b[0;32m     82\u001b[0m     \u001b[0mfilename\u001b[0m\u001b[1;33m,\u001b[0m \u001b[0mresources\u001b[0m\u001b[1;33m,\u001b[0m \u001b[0mtitle\u001b[0m \u001b[1;33m=\u001b[0m \u001b[0m_get_save_args\u001b[0m\u001b[1;33m(\u001b[0m\u001b[0mstate\u001b[0m\u001b[1;33m,\u001b[0m \u001b[0mfilename\u001b[0m\u001b[1;33m,\u001b[0m \u001b[0mresources\u001b[0m\u001b[1;33m,\u001b[0m \u001b[0mtitle\u001b[0m\u001b[1;33m)\u001b[0m\u001b[1;33m\u001b[0m\u001b[0m\n\u001b[1;32m---> 83\u001b[1;33m     \u001b[0m_save_helper\u001b[0m\u001b[1;33m(\u001b[0m\u001b[0mobj\u001b[0m\u001b[1;33m,\u001b[0m \u001b[0mfilename\u001b[0m\u001b[1;33m,\u001b[0m \u001b[0mresources\u001b[0m\u001b[1;33m,\u001b[0m \u001b[0mtitle\u001b[0m\u001b[1;33m,\u001b[0m \u001b[0mtemplate\u001b[0m\u001b[1;33m)\u001b[0m\u001b[1;33m\u001b[0m\u001b[0m\n\u001b[0m\u001b[0;32m     84\u001b[0m     \u001b[1;32mreturn\u001b[0m \u001b[0mabspath\u001b[0m\u001b[1;33m(\u001b[0m\u001b[0mfilename\u001b[0m\u001b[1;33m)\u001b[0m\u001b[1;33m\u001b[0m\u001b[0m\n\u001b[0;32m     85\u001b[0m \u001b[1;33m\u001b[0m\u001b[0m\n",
      "\u001b[1;32mc:\\users\\johnnieb\\appdata\\local\\programs\\python\\python36-32\\lib\\site-packages\\bokeh\\io\\saving.py\u001b[0m in \u001b[0;36m_save_helper\u001b[1;34m(obj, filename, resources, title, template)\u001b[0m\n\u001b[0;32m    143\u001b[0m     '''\n\u001b[0;32m    144\u001b[0m     \u001b[1;32mfrom\u001b[0m \u001b[1;33m.\u001b[0m\u001b[1;33m.\u001b[0m\u001b[0membed\u001b[0m \u001b[1;32mimport\u001b[0m \u001b[0mfile_html\u001b[0m\u001b[1;33m\u001b[0m\u001b[0m\n\u001b[1;32m--> 145\u001b[1;33m     \u001b[0mhtml\u001b[0m \u001b[1;33m=\u001b[0m \u001b[0mfile_html\u001b[0m\u001b[1;33m(\u001b[0m\u001b[0mobj\u001b[0m\u001b[1;33m,\u001b[0m \u001b[0mresources\u001b[0m\u001b[1;33m,\u001b[0m \u001b[0mtitle\u001b[0m\u001b[1;33m=\u001b[0m\u001b[0mtitle\u001b[0m\u001b[1;33m,\u001b[0m \u001b[0mtemplate\u001b[0m\u001b[1;33m=\u001b[0m\u001b[0mtemplate\u001b[0m\u001b[1;33m)\u001b[0m\u001b[1;33m\u001b[0m\u001b[0m\n\u001b[0m\u001b[0;32m    146\u001b[0m \u001b[1;33m\u001b[0m\u001b[0m\n\u001b[0;32m    147\u001b[0m     \u001b[1;32mwith\u001b[0m \u001b[0mio\u001b[0m\u001b[1;33m.\u001b[0m\u001b[0mopen\u001b[0m\u001b[1;33m(\u001b[0m\u001b[0mfilename\u001b[0m\u001b[1;33m,\u001b[0m \u001b[0mmode\u001b[0m\u001b[1;33m=\u001b[0m\u001b[1;34m\"w\"\u001b[0m\u001b[1;33m,\u001b[0m \u001b[0mencoding\u001b[0m\u001b[1;33m=\u001b[0m\u001b[1;34m\"utf-8\"\u001b[0m\u001b[1;33m)\u001b[0m \u001b[1;32mas\u001b[0m \u001b[0mf\u001b[0m\u001b[1;33m:\u001b[0m\u001b[1;33m\u001b[0m\u001b[0m\n",
      "\u001b[1;32mc:\\users\\johnnieb\\appdata\\local\\programs\\python\\python36-32\\lib\\site-packages\\bokeh\\embed\\standalone.py\u001b[0m in \u001b[0;36mfile_html\u001b[1;34m(models, resources, title, template, template_variables, theme, suppress_callback_warning)\u001b[0m\n\u001b[0;32m    297\u001b[0m         \u001b[0mmodels\u001b[0m \u001b[1;33m=\u001b[0m \u001b[0mmodels\u001b[0m\u001b[1;33m.\u001b[0m\u001b[0mroots\u001b[0m\u001b[1;33m\u001b[0m\u001b[0m\n\u001b[0;32m    298\u001b[0m \u001b[1;33m\u001b[0m\u001b[0m\n\u001b[1;32m--> 299\u001b[1;33m     \u001b[1;32mwith\u001b[0m \u001b[0mOutputDocumentFor\u001b[0m\u001b[1;33m(\u001b[0m\u001b[0mmodels\u001b[0m\u001b[1;33m,\u001b[0m \u001b[0mapply_theme\u001b[0m\u001b[1;33m=\u001b[0m\u001b[0mtheme\u001b[0m\u001b[1;33m)\u001b[0m \u001b[1;32mas\u001b[0m \u001b[0mdoc\u001b[0m\u001b[1;33m:\u001b[0m\u001b[1;33m\u001b[0m\u001b[0m\n\u001b[0m\u001b[0;32m    300\u001b[0m         \u001b[1;33m(\u001b[0m\u001b[0mdocs_json\u001b[0m\u001b[1;33m,\u001b[0m \u001b[0mrender_items\u001b[0m\u001b[1;33m)\u001b[0m \u001b[1;33m=\u001b[0m \u001b[0mstandalone_docs_json_and_render_items\u001b[0m\u001b[1;33m(\u001b[0m\u001b[0mmodels\u001b[0m\u001b[1;33m,\u001b[0m \u001b[0msuppress_callback_warning\u001b[0m\u001b[1;33m=\u001b[0m\u001b[0msuppress_callback_warning\u001b[0m\u001b[1;33m)\u001b[0m\u001b[1;33m\u001b[0m\u001b[0m\n\u001b[0;32m    301\u001b[0m         \u001b[0mtitle\u001b[0m \u001b[1;33m=\u001b[0m \u001b[0m_title_from_models\u001b[0m\u001b[1;33m(\u001b[0m\u001b[0mmodels\u001b[0m\u001b[1;33m,\u001b[0m \u001b[0mtitle\u001b[0m\u001b[1;33m)\u001b[0m\u001b[1;33m\u001b[0m\u001b[0m\n",
      "\u001b[1;32mc:\\users\\johnnieb\\appdata\\local\\programs\\python\\python36-32\\lib\\contextlib.py\u001b[0m in \u001b[0;36m__enter__\u001b[1;34m(self)\u001b[0m\n\u001b[0;32m     79\u001b[0m     \u001b[1;32mdef\u001b[0m \u001b[0m__enter__\u001b[0m\u001b[1;33m(\u001b[0m\u001b[0mself\u001b[0m\u001b[1;33m)\u001b[0m\u001b[1;33m:\u001b[0m\u001b[1;33m\u001b[0m\u001b[0m\n\u001b[0;32m     80\u001b[0m         \u001b[1;32mtry\u001b[0m\u001b[1;33m:\u001b[0m\u001b[1;33m\u001b[0m\u001b[0m\n\u001b[1;32m---> 81\u001b[1;33m             \u001b[1;32mreturn\u001b[0m \u001b[0mnext\u001b[0m\u001b[1;33m(\u001b[0m\u001b[0mself\u001b[0m\u001b[1;33m.\u001b[0m\u001b[0mgen\u001b[0m\u001b[1;33m)\u001b[0m\u001b[1;33m\u001b[0m\u001b[0m\n\u001b[0m\u001b[0;32m     82\u001b[0m         \u001b[1;32mexcept\u001b[0m \u001b[0mStopIteration\u001b[0m\u001b[1;33m:\u001b[0m\u001b[1;33m\u001b[0m\u001b[0m\n\u001b[0;32m     83\u001b[0m             \u001b[1;32mraise\u001b[0m \u001b[0mRuntimeError\u001b[0m\u001b[1;33m(\u001b[0m\u001b[1;34m\"generator didn't yield\"\u001b[0m\u001b[1;33m)\u001b[0m \u001b[1;32mfrom\u001b[0m \u001b[1;32mNone\u001b[0m\u001b[1;33m\u001b[0m\u001b[0m\n",
      "\u001b[1;32mc:\\users\\johnnieb\\appdata\\local\\programs\\python\\python36-32\\lib\\site-packages\\bokeh\\embed\\util.py\u001b[0m in \u001b[0;36mOutputDocumentFor\u001b[1;34m(objs, apply_theme, always_new)\u001b[0m\n\u001b[0;32m    124\u001b[0m             \u001b[0mdoc\u001b[0m \u001b[1;33m=\u001b[0m \u001b[0mDocument\u001b[0m\u001b[1;33m(\u001b[0m\u001b[1;33m)\u001b[0m\u001b[1;33m\u001b[0m\u001b[0m\n\u001b[0;32m    125\u001b[0m             \u001b[1;32mfor\u001b[0m \u001b[0mmodel\u001b[0m \u001b[1;32min\u001b[0m \u001b[0mobjs\u001b[0m\u001b[1;33m:\u001b[0m\u001b[1;33m\u001b[0m\u001b[0m\n\u001b[1;32m--> 126\u001b[1;33m                 \u001b[0mdoc\u001b[0m\u001b[1;33m.\u001b[0m\u001b[0madd_root\u001b[0m\u001b[1;33m(\u001b[0m\u001b[0mmodel\u001b[0m\u001b[1;33m)\u001b[0m\u001b[1;33m\u001b[0m\u001b[0m\n\u001b[0m\u001b[0;32m    127\u001b[0m \u001b[1;33m\u001b[0m\u001b[0m\n\u001b[0;32m    128\u001b[0m         \u001b[1;31m# we are not using all the roots, make a quick clone for outputting purposes\u001b[0m\u001b[1;33m\u001b[0m\u001b[1;33m\u001b[0m\u001b[0m\n",
      "\u001b[1;32mc:\\users\\johnnieb\\appdata\\local\\programs\\python\\python36-32\\lib\\site-packages\\bokeh\\document\\document.py\u001b[0m in \u001b[0;36madd_root\u001b[1;34m(self, model, setter)\u001b[0m\n\u001b[0;32m    292\u001b[0m             \u001b[0mself\u001b[0m\u001b[1;33m.\u001b[0m\u001b[0m_roots\u001b[0m\u001b[1;33m.\u001b[0m\u001b[0mappend\u001b[0m\u001b[1;33m(\u001b[0m\u001b[0mmodel\u001b[0m\u001b[1;33m)\u001b[0m\u001b[1;33m\u001b[0m\u001b[0m\n\u001b[0;32m    293\u001b[0m         \u001b[1;32mfinally\u001b[0m\u001b[1;33m:\u001b[0m\u001b[1;33m\u001b[0m\u001b[0m\n\u001b[1;32m--> 294\u001b[1;33m             \u001b[0mself\u001b[0m\u001b[1;33m.\u001b[0m\u001b[0m_pop_all_models_freeze\u001b[0m\u001b[1;33m(\u001b[0m\u001b[1;33m)\u001b[0m\u001b[1;33m\u001b[0m\u001b[0m\n\u001b[0m\u001b[0;32m    295\u001b[0m         \u001b[0mself\u001b[0m\u001b[1;33m.\u001b[0m\u001b[0m_trigger_on_change\u001b[0m\u001b[1;33m(\u001b[0m\u001b[0mRootAddedEvent\u001b[0m\u001b[1;33m(\u001b[0m\u001b[0mself\u001b[0m\u001b[1;33m,\u001b[0m \u001b[0mmodel\u001b[0m\u001b[1;33m,\u001b[0m \u001b[0msetter\u001b[0m\u001b[1;33m)\u001b[0m\u001b[1;33m)\u001b[0m\u001b[1;33m\u001b[0m\u001b[0m\n\u001b[0;32m    296\u001b[0m \u001b[1;33m\u001b[0m\u001b[0m\n",
      "\u001b[1;32mc:\\users\\johnnieb\\appdata\\local\\programs\\python\\python36-32\\lib\\site-packages\\bokeh\\document\\document.py\u001b[0m in \u001b[0;36m_pop_all_models_freeze\u001b[1;34m(self)\u001b[0m\n\u001b[0;32m   1006\u001b[0m         \u001b[0mself\u001b[0m\u001b[1;33m.\u001b[0m\u001b[0m_all_models_freeze_count\u001b[0m \u001b[1;33m-=\u001b[0m \u001b[1;36m1\u001b[0m\u001b[1;33m\u001b[0m\u001b[0m\n\u001b[0;32m   1007\u001b[0m         \u001b[1;32mif\u001b[0m \u001b[0mself\u001b[0m\u001b[1;33m.\u001b[0m\u001b[0m_all_models_freeze_count\u001b[0m \u001b[1;33m==\u001b[0m \u001b[1;36m0\u001b[0m\u001b[1;33m:\u001b[0m\u001b[1;33m\u001b[0m\u001b[0m\n\u001b[1;32m-> 1008\u001b[1;33m             \u001b[0mself\u001b[0m\u001b[1;33m.\u001b[0m\u001b[0m_recompute_all_models\u001b[0m\u001b[1;33m(\u001b[0m\u001b[1;33m)\u001b[0m\u001b[1;33m\u001b[0m\u001b[0m\n\u001b[0m\u001b[0;32m   1009\u001b[0m \u001b[1;33m\u001b[0m\u001b[0m\n\u001b[0;32m   1010\u001b[0m     \u001b[1;32mdef\u001b[0m \u001b[0m_recompute_all_models\u001b[0m\u001b[1;33m(\u001b[0m\u001b[0mself\u001b[0m\u001b[1;33m)\u001b[0m\u001b[1;33m:\u001b[0m\u001b[1;33m\u001b[0m\u001b[0m\n",
      "\u001b[1;32mc:\\users\\johnnieb\\appdata\\local\\programs\\python\\python36-32\\lib\\site-packages\\bokeh\\document\\document.py\u001b[0m in \u001b[0;36m_recompute_all_models\u001b[1;34m(self)\u001b[0m\n\u001b[0;32m   1029\u001b[0m             \u001b[0md\u001b[0m\u001b[1;33m.\u001b[0m\u001b[0m_detach_document\u001b[0m\u001b[1;33m(\u001b[0m\u001b[1;33m)\u001b[0m\u001b[1;33m\u001b[0m\u001b[0m\n\u001b[0;32m   1030\u001b[0m         \u001b[1;32mfor\u001b[0m \u001b[0ma\u001b[0m \u001b[1;32min\u001b[0m \u001b[0mto_attach\u001b[0m\u001b[1;33m:\u001b[0m\u001b[1;33m\u001b[0m\u001b[0m\n\u001b[1;32m-> 1031\u001b[1;33m             \u001b[0ma\u001b[0m\u001b[1;33m.\u001b[0m\u001b[0m_attach_document\u001b[0m\u001b[1;33m(\u001b[0m\u001b[0mself\u001b[0m\u001b[1;33m)\u001b[0m\u001b[1;33m\u001b[0m\u001b[0m\n\u001b[0m\u001b[0;32m   1032\u001b[0m         \u001b[0mself\u001b[0m\u001b[1;33m.\u001b[0m\u001b[0m_all_models\u001b[0m \u001b[1;33m=\u001b[0m \u001b[0mrecomputed\u001b[0m\u001b[1;33m\u001b[0m\u001b[0m\n\u001b[0;32m   1033\u001b[0m         \u001b[0mself\u001b[0m\u001b[1;33m.\u001b[0m\u001b[0m_all_models_by_name\u001b[0m \u001b[1;33m=\u001b[0m \u001b[0mrecomputed_by_name\u001b[0m\u001b[1;33m\u001b[0m\u001b[0m\n",
      "\u001b[1;32mc:\\users\\johnnieb\\appdata\\local\\programs\\python\\python36-32\\lib\\site-packages\\bokeh\\model.py\u001b[0m in \u001b[0;36m_attach_document\u001b[1;34m(self, doc)\u001b[0m\n\u001b[0;32m    604\u001b[0m         '''\n\u001b[0;32m    605\u001b[0m         \u001b[1;32mif\u001b[0m \u001b[0mself\u001b[0m\u001b[1;33m.\u001b[0m\u001b[0m_document\u001b[0m \u001b[1;32mis\u001b[0m \u001b[1;32mnot\u001b[0m \u001b[1;32mNone\u001b[0m \u001b[1;32mand\u001b[0m \u001b[0mself\u001b[0m\u001b[1;33m.\u001b[0m\u001b[0m_document\u001b[0m \u001b[1;32mis\u001b[0m \u001b[1;32mnot\u001b[0m \u001b[0mdoc\u001b[0m\u001b[1;33m:\u001b[0m\u001b[1;33m\u001b[0m\u001b[0m\n\u001b[1;32m--> 606\u001b[1;33m             \u001b[1;32mraise\u001b[0m \u001b[0mRuntimeError\u001b[0m\u001b[1;33m(\u001b[0m\u001b[1;34m\"Models must be owned by only a single document, %r is already in a doc\"\u001b[0m \u001b[1;33m%\u001b[0m \u001b[1;33m(\u001b[0m\u001b[0mself\u001b[0m\u001b[1;33m)\u001b[0m\u001b[1;33m)\u001b[0m\u001b[1;33m\u001b[0m\u001b[0m\n\u001b[0m\u001b[0;32m    607\u001b[0m         \u001b[0mdoc\u001b[0m\u001b[1;33m.\u001b[0m\u001b[0mtheme\u001b[0m\u001b[1;33m.\u001b[0m\u001b[0mapply_to_model\u001b[0m\u001b[1;33m(\u001b[0m\u001b[0mself\u001b[0m\u001b[1;33m)\u001b[0m\u001b[1;33m\u001b[0m\u001b[0m\n\u001b[0;32m    608\u001b[0m         \u001b[0mself\u001b[0m\u001b[1;33m.\u001b[0m\u001b[0m_document\u001b[0m \u001b[1;33m=\u001b[0m \u001b[0mdoc\u001b[0m\u001b[1;33m\u001b[0m\u001b[0m\n",
      "\u001b[1;31mRuntimeError\u001b[0m: Models must be owned by only a single document, Selection(id='1454', ...) is already in a doc"
     ]
    }
   ],
   "source": [
    "day_week_cds = ColumnDataSource(daily_weekly_df)\n",
    "\n",
    "\n",
    "km_week_fig = figure(x_axis_type='datetime',\n",
    "                  plot_height=300, plot_width=600,\n",
    "                  title='cumulative actual distance vs goal actual distance',\n",
    "                  x_axis_label='Date', y_axis_label='Kms',\n",
    "                  toolbar_location=None)\n",
    "\n",
    "week_1_view = CDSView(source=day_week_cds,\n",
    "                       filters=[GroupFilter(column_name='weeks', group='1')])\n",
    "week_2_view = CDSView(source=day_week_cds,\n",
    "                        filters=[GroupFilter(column_name='weeks', group='2')])\n",
    "\n",
    "km_fig.line(x='date', y='weekly_actual_cumulative', \n",
    "         color='blue', line_width=1,\n",
    "         legend='Cumulative',  source=day_week_cds, view=week_1_view)\n",
    "\n",
    "km_week_fig.line(x='date', y='weekly_goal_cumulative', \n",
    "         color='red', line_width=1,\n",
    "         legend='Cumulative goal', source=day_week_cds, view=week_1_view)\n",
    "\n",
    "# Move the legend to the upper left corner\n",
    "km_week_fig.legend.location = 'top_left'\n",
    "\n",
    "# Show the plot\n",
    "show(km_week_fig)"
   ]
  },
  {
   "cell_type": "code",
   "execution_count": null,
   "metadata": {},
   "outputs": [],
   "source": []
  }
 ],
 "metadata": {
  "kernelspec": {
   "display_name": "Python 3",
   "language": "python",
   "name": "python3"
  },
  "language_info": {
   "codemirror_mode": {
    "name": "ipython",
    "version": 3
   },
   "file_extension": ".py",
   "mimetype": "text/x-python",
   "name": "python",
   "nbconvert_exporter": "python",
   "pygments_lexer": "ipython3",
   "version": "3.6.2"
  }
 },
 "nbformat": 4,
 "nbformat_minor": 2
}
