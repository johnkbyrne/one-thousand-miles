{
 "cells": [
  {
   "cell_type": "code",
   "execution_count": null,
   "metadata": {},
   "outputs": [],
   "source": [
    "import pandas as pd\n",
    "\n",
    "# import stravalib\n",
    "import flask\n",
    "from flask import request\n",
    "from stravalib import Client\n",
    "import requests\n",
    "import json\n",
    "import webbrowser\n",
    "import pandas as pd\n",
    "import datetime\n",
    "\n",
    "from bokeh.plotting import figure, output_file, show, output_notebook, ColumnDataSource\n",
    "from bokeh.palettes import Spectral11\n",
    "from bokeh.models import ColumnDataSource, CDSView, GroupFilter, HoverTool\n",
    "from bokeh.layouts import gridplot\n",
    "from bokeh.core.properties import value\n",
    "# from ... import strava_creds\n",
    "\n",
    "import warnings\n",
    "warnings.simplefilter('ignore')"
   ]
  },
  {
   "cell_type": "code",
   "execution_count": null,
   "metadata": {},
   "outputs": [],
   "source": [
    "with open('../strava_creds/strava_creds.json') as scr:\n",
    "    strava_creds = json.load(scr)"
   ]
  },
  {
   "cell_type": "code",
   "execution_count": null,
   "metadata": {},
   "outputs": [],
   "source": [
    "strava_creds"
   ]
  },
  {
   "cell_type": "code",
   "execution_count": null,
   "metadata": {},
   "outputs": [],
   "source": [
    "client = Client()\n",
    "# authorize_url = client.authorization_url(client_id=24706, redirect_uri='http://localhost:8282/authorized')\n",
    "\n",
    "# url = client.authorization_url(client_id=24706,redirect_uri='http://127.0.0.1:5000/authorization')\n",
    "client_id = strava_creds['CLIENT_ID']\n",
    "\n",
    "access_token = strava_creds['ACCESS_TOKEN']\n",
    "port = 5000\n",
    "url = 'http://localhost:%d/authorized' % port\n",
    "authorize_url = client.authorization_url(client_id=client_id, redirect_uri=url)\n",
    "\n",
    "webbrowser.open(authorize_url)\n",
    "\n",
    "code = strava_creds['CODE_MAC']\n",
    "\n",
    "access_token = client.exchange_code_for_token(client_id=client_id, client_secret=access_token, code=code)\n"
   ]
  },
  {
   "cell_type": "code",
   "execution_count": null,
   "metadata": {},
   "outputs": [],
   "source": [
    "# activities_returned = []\n",
    "# activity_returned = dict()"
   ]
  },
  {
   "cell_type": "code",
   "execution_count": null,
   "metadata": {},
   "outputs": [],
   "source": [
    "activities_list = [(activity.start_date,activity.name,activity.distance) for activity in client.get_activities(after = \"2018-01-01T00:00:00Z\",  limit=800)]\n"
   ]
  },
  {
   "cell_type": "code",
   "execution_count": null,
   "metadata": {},
   "outputs": [],
   "source": [
    "extract_df = pd.DataFrame.from_dict(activities_list)\n",
    "len(extract_df)"
   ]
  },
  {
   "cell_type": "code",
   "execution_count": null,
   "metadata": {},
   "outputs": [],
   "source": [
    "extract_df = extract_df.rename(columns={0: 'run_date',\n",
    "                          1: 'run_title',\n",
    "                          2: 'run_distance_m'})"
   ]
  },
  {
   "cell_type": "code",
   "execution_count": null,
   "metadata": {},
   "outputs": [],
   "source": [
    "extract_df['kms'] = extract_df['run_distance_m']/1000"
   ]
  },
  {
   "cell_type": "code",
   "execution_count": null,
   "metadata": {},
   "outputs": [],
   "source": [
    "extract_df.index = extract_df['run_date']"
   ]
  },
  {
   "cell_type": "code",
   "execution_count": null,
   "metadata": {},
   "outputs": [],
   "source": [
    "extract_df = extract_df[['run_title', 'run_distance_m', 'kms']]"
   ]
  },
  {
   "cell_type": "code",
   "execution_count": null,
   "metadata": {},
   "outputs": [],
   "source": [
    "daily_runs_series = extract_df.resample('D')['kms'].sum()"
   ]
  },
  {
   "cell_type": "code",
   "execution_count": null,
   "metadata": {},
   "outputs": [],
   "source": [
    "daily_runs_df = pd.DataFrame(daily_runs_series)"
   ]
  },
  {
   "cell_type": "code",
   "execution_count": null,
   "metadata": {},
   "outputs": [],
   "source": [
    "def to_float(number):\n",
    "    return float(number)"
   ]
  },
  {
   "cell_type": "code",
   "execution_count": null,
   "metadata": {},
   "outputs": [],
   "source": [
    "def convert_week_number(week_number):\n",
    "    return f'week {week_number}'"
   ]
  },
  {
   "cell_type": "code",
   "execution_count": null,
   "metadata": {},
   "outputs": [],
   "source": [
    "def cumulative_per_week(df, week_number):\n",
    "    df = df.copy(deep=True)\n",
    "    df_week = df[df['week_number']==week_number]\n",
    "    \n",
    "    df_week['weekly_actual_total'] = df_week['kms'].sum()\n",
    "    df_week['weekly_actual_cumulative'] = df_week['kms'].cumsum()\n",
    "    df_week['percentage_to_total_weekly'] = df_week['weekly_actual_cumulative']/df_week['weekly_actual_total']\n",
    "    df_week['weekly_goal_total'] = df_week['daily_goal'].sum()\n",
    "    df_week['weekly_goal_cumulative'] = df_week['daily_goal'].cumsum()\n",
    "    df_week['percentage_to_total_weekly_goal'] = df_week['weekly_goal_cumulative']/df_week['weekly_goal_total']\n",
    "#     df_week['weekly_goal_left'] = df_week['weekly_goal_total'] - df_week['weekly_actual_cumulative']\n",
    "    \n",
    "    day_number_range = range(1, len(df_week)+1)\n",
    "    if len(df_week) == 7:\n",
    "        day_of_week = ['Mon', 'Tue', 'Wed', 'Thu', 'Fri', 'Sat', 'Sun']\n",
    "        df_week['day_of_week'] = day_of_week\n",
    "    else:\n",
    "        df_week['day_of_week'] = None\n",
    "        \n",
    "    df_week['day_number'] = day_number_range\n",
    "    \n",
    "    return df_week"
   ]
  },
  {
   "cell_type": "code",
   "execution_count": null,
   "metadata": {},
   "outputs": [],
   "source": [
    "daily_runs_df['kms'] = daily_runs_df.apply(lambda row: to_float(row['kms']), axis=1)"
   ]
  },
  {
   "cell_type": "code",
   "execution_count": null,
   "metadata": {},
   "outputs": [],
   "source": [
    "daily_runs_df['cumulative_daily_actual_kms'] = daily_runs_df['kms'].cumsum()\n",
    "daily_runs_df['daily_goal'] = 20/7\n",
    "daily_runs_df['cumulative_daily_goal'] = daily_runs_df['daily_goal'].cumsum()\n",
    "# daily_runs_df['daily_km_difference'] = "
   ]
  },
  {
   "cell_type": "code",
   "execution_count": null,
   "metadata": {},
   "outputs": [],
   "source": [
    "daily_runs_df['daily_kms_difference'] = daily_runs_df['kms']/daily_runs_df['daily_goal']\n",
    "daily_runs_df['daily_kms_cumulative_difference'] = daily_runs_df['cumulative_daily_actual_kms']/daily_runs_df['cumulative_daily_goal']"
   ]
  },
  {
   "cell_type": "code",
   "execution_count": null,
   "metadata": {},
   "outputs": [],
   "source": [
    "daily_runs_df.to_csv('strava_kms_runs_2018.csv')"
   ]
  },
  {
   "cell_type": "code",
   "execution_count": null,
   "metadata": {},
   "outputs": [],
   "source": [
    "weekly_kms_df = daily_runs_df.resample('W-MON', closed='Right', label='Right').sum()"
   ]
  },
  {
   "cell_type": "code",
   "execution_count": null,
   "metadata": {},
   "outputs": [],
   "source": [
    "weekly_kms_df = weekly_kms_df[['kms', 'daily_goal']]"
   ]
  },
  {
   "cell_type": "code",
   "execution_count": null,
   "metadata": {},
   "outputs": [],
   "source": [
    "weekly_kms_df = weekly_kms_df.rename(columns={'daily_goal': 'weekly_goal'})"
   ]
  },
  {
   "cell_type": "code",
   "execution_count": null,
   "metadata": {},
   "outputs": [],
   "source": [
    "weekly_kms_df['cumulative_weekly_kms'] = weekly_kms_df['kms'].cumsum()\n",
    "weekly_kms_df['cumulative_weekly_goal_kms'] = weekly_kms_df['weekly_goal'].cumsum()"
   ]
  },
  {
   "cell_type": "code",
   "execution_count": null,
   "metadata": {},
   "outputs": [],
   "source": [
    "weekly_kms_df['week_number'] = weekly_kms_df.index.week\n",
    "daily_runs_df['week_number'] = daily_runs_df.index.week"
   ]
  },
  {
   "cell_type": "code",
   "execution_count": null,
   "metadata": {},
   "outputs": [],
   "source": [
    "weekly_kms_df['week'] = weekly_kms_df.apply(lambda row: convert_week_number(row['week_number']), axis=1)\n",
    "daily_runs_df['week'] = daily_runs_df.apply(lambda row: convert_week_number(row['week_number']), axis=1)"
   ]
  },
  {
   "cell_type": "code",
   "execution_count": null,
   "metadata": {},
   "outputs": [],
   "source": [
    "weekly_kms_df = weekly_kms_df.round(2)\n",
    "daily_runs_df = daily_runs_df.round(2)"
   ]
  },
  {
   "cell_type": "code",
   "execution_count": null,
   "metadata": {},
   "outputs": [],
   "source": [
    "weekly_num = list(set(list(daily_runs_df['week_number'])))"
   ]
  },
  {
   "cell_type": "code",
   "execution_count": null,
   "metadata": {},
   "outputs": [],
   "source": [
    "daily_weekly_kms_df = pd.DataFrame()"
   ]
  },
  {
   "cell_type": "code",
   "execution_count": null,
   "metadata": {},
   "outputs": [],
   "source": [
    "for week in weekly_num:\n",
    "    transition_df = cumulative_per_week(daily_runs_df, week)\n",
    "    daily_weekly_kms_df = daily_weekly_kms_df.append(transition_df)\n",
    "    "
   ]
  },
  {
   "cell_type": "code",
   "execution_count": null,
   "metadata": {},
   "outputs": [],
   "source": [
    "daily_weekly_kms_df['daily_kms_cumulative_difference'] = daily_weekly_kms_df['cumulative_daily_actual_kms'] - daily_weekly_kms_df['weekly_goal_total']"
   ]
  },
  {
   "cell_type": "code",
   "execution_count": null,
   "metadata": {},
   "outputs": [],
   "source": [
    "daily_weekly_kms_df"
   ]
  },
  {
   "cell_type": "code",
   "execution_count": null,
   "metadata": {},
   "outputs": [],
   "source": []
  },
  {
   "cell_type": "code",
   "execution_count": null,
   "metadata": {},
   "outputs": [],
   "source": [
    "daily_weekly_kms_df.to_csv('strava_data.csv')"
   ]
  },
  {
   "cell_type": "code",
   "execution_count": null,
   "metadata": {},
   "outputs": [],
   "source": [
    "output_file('grid_plot.html')"
   ]
  },
  {
   "cell_type": "code",
   "execution_count": null,
   "metadata": {},
   "outputs": [],
   "source": [
    "# output_file('strava_chart3.html')\n",
    "\n",
    "source = ColumnDataSource(data=weekly_kms_df)\n",
    "\n",
    "km_fig = figure(\n",
    "                  plot_height=300, plot_width=600,\n",
    "                  title='cumulative actual distance vs goal actual distance',\n",
    "                  x_axis_label='week', y_axis_label='Kms',\n",
    "                  toolbar_location=None)\n",
    "\n",
    "\n",
    "km_fig.line(x='week_number', y='cumulative_weekly_kms', \n",
    "         color='blue', line_width=1,\n",
    "         legend='Cumulative weekly kms',source=source)\n",
    "\n",
    "km_fig.vbar(x='week_number', bottom=0, top='cumulative_weekly_kms', \n",
    "         color='blue', width=0.75, \n",
    "         legend='Actual', source=source)\n",
    "\n",
    "\n",
    "km_fig.line(x='week_number', y='cumulative_weekly_goal_kms', \n",
    "         color='red', line_width=1,\n",
    "         legend='Cumulative goal kms',source=source)\n",
    "\n",
    "km_fig.legend.location = 'top_left'\n",
    "\n",
    "# show(km_fig)"
   ]
  },
  {
   "cell_type": "code",
   "execution_count": null,
   "metadata": {},
   "outputs": [],
   "source": [
    "x_axis = ['Mon', 'Tue', 'Wed', 'Thu', 'Fri', 'Sat', 'Sun']"
   ]
  },
  {
   "cell_type": "code",
   "execution_count": null,
   "metadata": {},
   "outputs": [],
   "source": [
    "day_week_cds = ColumnDataSource(daily_weekly_kms_df)\n",
    "\n",
    "\n",
    "km_week_comp_fig = figure(plot_height=300, plot_width=600,\n",
    "                  title='cumulative actual distance vs goal actual distance',\n",
    "                  x_axis_label='Day of the week 1.0', y_axis_label='Kms',\n",
    "                  x_range=x_axis,\n",
    "                  toolbar_location=None, y_range=(0, 50))\n",
    "\n",
    "week_1_view = CDSView(source=day_week_cds,\n",
    "                       filters=[GroupFilter(column_name='week', group='week 1.0')])\n",
    "week_2_view = CDSView(source=day_week_cds,\n",
    "                        filters=[GroupFilter(column_name='week', group='week 1.0')])\n",
    "\n",
    "km_week_comp_fig.line(x='day_of_week', y='cumulative_daily_actual_kms', \n",
    "         color='blue', line_width=1,\n",
    "         legend='Cumulative',  source=day_week_cds, view=week_1_view)\n",
    "\n",
    "km_week_comp_fig.line(x='day_of_week', y='cumulative_daily_goal', \n",
    "         color='red', line_width=1,\n",
    "         legend='Cumulative goal', source=day_week_cds, view=week_2_view)\n",
    "\n",
    "# Move the legend to the upper left corner\n",
    "km_week_comp_fig.legend.location = 'top_left'\n",
    "\n",
    "# Show the plot\n",
    "# show(km_week_comp_fig)"
   ]
  },
  {
   "cell_type": "code",
   "execution_count": null,
   "metadata": {},
   "outputs": [],
   "source": [
    "weekly_kms_df['number'] = range(1, len(weekly_kms_df)+1)"
   ]
  },
  {
   "cell_type": "code",
   "execution_count": null,
   "metadata": {},
   "outputs": [],
   "source": [
    "# output_file('strava_chart3.html')\n",
    "\n",
    "cds_bar = ColumnDataSource(data=weekly_kms_df)\n",
    "\n",
    "# Create a figure with a datetime type x-axis\n",
    "fig = figure(title='actual versus goals',\n",
    "             plot_height=300, plot_width=600,\n",
    "             x_axis_label='Week Number', y_axis_label='KMs',\n",
    "             x_minor_ticks=2, y_range=(0, 50),\n",
    "             toolbar_location=None)\n",
    "\n",
    "# The daily words will be represented as vertical bars (columns)\n",
    "fig.vbar(x='number', bottom=0, top='kms', \n",
    "         color='blue', width=0.75, \n",
    "         legend='Actual', source=cds_bar)\n",
    "\n",
    "# The cumulative sum will be a trend line\n",
    "fig.line(x='number', y='weekly_goal', \n",
    "         color='gray', line_width=1,\n",
    "         legend='Goal', source=cds_bar)\n",
    "\n",
    "# Put the legend in the upper left corner\n",
    "fig.legend.location = 'top_left'\n",
    "\n",
    "tooltips = [\n",
    "            ('Kilometers','@kms'),\n",
    "            ('Week number', '@week'),\n",
    "           ]\n",
    "\n",
    "# Add the HoverTool to the figure\n",
    "fig.add_tools(HoverTool(tooltips=tooltips))\n"
   ]
  },
  {
   "cell_type": "markdown",
   "metadata": {},
   "source": [
    "### Weekly bar line to show atual vs goal kms\n"
   ]
  },
  {
   "cell_type": "code",
   "execution_count": null,
   "metadata": {},
   "outputs": [],
   "source": [
    "# output_file('strava_chart_grid.html')\n",
    "\n",
    "cds_bar = ColumnDataSource(data=daily_weekly_kms_df)\n",
    "\n",
    "week_1_view = CDSView(source=cds_bar,\n",
    "                       filters=[GroupFilter(column_name='week', group='week 1.0')])\n",
    "\n",
    "# Create a figure with a datetime type x-axis\n",
    "km_week_fig = figure(title='actual versus goals',\n",
    "             plot_height=300, plot_width=600,\n",
    "             x_axis_label='Day of the week 1.0', y_axis_label='KMs',\n",
    "             x_range=x_axis,\n",
    "             x_minor_ticks=2, y_range=(0, 50),\n",
    "             toolbar_location=None)\n",
    "\n",
    "# The daily words will be represented as vertical bars (columns)\n",
    "km_week_fig.vbar(x='day_of_week', bottom=0, top='weekly_actual_cumulative', \n",
    "         color='blue', width=0.75, \n",
    "         legend='Actual', source=cds_bar, view=week_1_view)\n",
    "\n",
    "# The cumulative sum will be a trend line\n",
    "km_week_fig.line(x='day_of_week', y='weekly_goal_cumulative', \n",
    "         color='gray', line_width=1,\n",
    "         legend='Goal', source=cds_bar, view=week_1_view)\n",
    "\n",
    "# Put the legend in the upper left corner\n",
    "km_week_fig.legend.location = 'top_left'\n",
    "\n",
    "tooltips = [\n",
    "            ('Cumulative Kilometers','@weekly_actual_cumulative'),\n",
    "            ('Week number', '@week'),\n",
    "           ]\n",
    "# Add the HoverTool to the figure\n",
    "km_week_fig.add_tools(HoverTool(tooltips=tooltips))\n",
    "\n",
    "# Let's check it out\n",
    "\n",
    "# all_week_gridplot = gridplot([[fig, km_fig], [km_week_comp_fig, km_week_fig]], \n",
    "#                               toolbar_location='right')\n",
    "# # show(km_week_fig)\n",
    "# # show(km_fig)\n",
    "# # show(fig)\n",
    "# show(all_week_gridplot)"
   ]
  },
  {
   "cell_type": "code",
   "execution_count": null,
   "metadata": {},
   "outputs": [],
   "source": [
    "day_week_cds = ColumnDataSource(daily_weekly_kms_df)\n",
    "\n",
    "\n",
    "weeks_comp_fig = figure(plot_height=300, plot_width=600,\n",
    "                  title='Week 1 vs Week 2',\n",
    "                  x_axis_label='Day of the week 1.0', y_axis_label='Kms',\n",
    "                  x_range=x_axis,\n",
    "                  toolbar_location=None, y_range=(0, 20))\n",
    "\n",
    "week_1_view = CDSView(source=day_week_cds,\n",
    "                       filters=[GroupFilter(column_name='week', group='week 1.0')])\n",
    "week_2_view = CDSView(source=day_week_cds,\n",
    "                       filters=[GroupFilter(column_name='week', group='week 2.0')])\n",
    "\n",
    "weeks_comp_fig.line(x='day_of_week', y='kms', \n",
    "         color='blue', line_width=1,\n",
    "         legend='Week 1',  source=day_week_cds, view=week_1_view)\n",
    "\n",
    "weeks_comp_fig.line(x='day_of_week', y='kms', \n",
    "         color='red', line_width=1,\n",
    "         legend='Week 2', source=day_week_cds, view=week_2_view)\n",
    "\n",
    "# Move the legend to the upper left corner\n",
    "weeks_comp_fig.legend.location = 'top_left'\n",
    "\n",
    "tooltips = [\n",
    "            (' Kilometers','@kms'),\n",
    "           ]\n",
    "# Add the HoverTool to the figure\n",
    "weeks_comp_fig.add_tools(HoverTool(tooltips=tooltips))\n",
    "\n"
   ]
  },
  {
   "cell_type": "code",
   "execution_count": null,
   "metadata": {},
   "outputs": [],
   "source": [
    "stacked_bar = figure"
   ]
  },
  {
   "cell_type": "code",
   "execution_count": null,
   "metadata": {},
   "outputs": [],
   "source": [
    "all_week_gridplot = gridplot([[fig, km_fig], [weeks_comp_fig, km_week_fig], [None, km_week_comp_fig]], \n",
    "                              toolbar_location='right')\n",
    "# show(km_week_fig)\n",
    "# show(km_fig)\n",
    "# show(fig)\n",
    "show(all_week_gridplot)"
   ]
  },
  {
   "cell_type": "code",
   "execution_count": null,
   "metadata": {},
   "outputs": [],
   "source": [
    "output_file('select_week.html')"
   ]
  },
  {
   "cell_type": "code",
   "execution_count": null,
   "metadata": {},
   "outputs": [],
   "source": [
    "daily_weekly_kms_df['daily_kms_cumulative_difference_abs'] = daily_weekly_kms_df['daily_kms_cumulative_difference'].abs()"
   ]
  },
  {
   "cell_type": "code",
   "execution_count": null,
   "metadata": {},
   "outputs": [],
   "source": [
    "df4 = daily_weekly_kms_df[daily_weekly_kms_df['week']=='week 2.0']\n"
   ]
  },
  {
   "cell_type": "code",
   "execution_count": null,
   "metadata": {},
   "outputs": [],
   "source": [
    "df4 = df4[['daily_kms_cumulative_difference_abs',\n",
    "              'weekly_actual_cumulative', 'day_of_week']]"
   ]
  },
  {
   "cell_type": "code",
   "execution_count": null,
   "metadata": {},
   "outputs": [],
   "source": [
    "output_file(\"stacked.html\")\n",
    "\n",
    "source = ColumnDataSource(df4)\n",
    "\n",
    "# week_2_view = CDSView(source=source,\n",
    "#                         filters=[GroupFilter(column_name='week', group='week 2.0')])\n",
    "\n",
    "p = figure(x_range=x_axis, plot_height=250, title=\"runs by day\",\n",
    "           toolbar_location=None, tools=\"\")\n",
    "\n",
    "colors = ['red', 'blue']\n",
    "km_type = ['daily_kms_cumulative_difference_abs', 'weekly_actual_cumulative']\n",
    "\n",
    "p.vbar_stack(km_type, x='day_of_week', width=0.9, color=colors, \n",
    "              source=source)\n",
    "#               view=week_2_view)\n",
    "\n",
    "p.y_range.start = 0\n",
    "p.x_range.range_padding = 0.1\n",
    "p.xgrid.grid_line_color = None\n",
    "p.axis.minor_tick_line_color = None\n",
    "p.outline_line_color = None\n",
    "p.legend.location = \"top_left\"\n",
    "p.legend.orientation = \"horizontal\"\n"
   ]
  },
  {
   "cell_type": "code",
   "execution_count": null,
   "metadata": {},
   "outputs": [],
   "source": [
    "show(p)"
   ]
  },
  {
   "cell_type": "code",
   "execution_count": null,
   "metadata": {},
   "outputs": [],
   "source": []
  },
  {
   "cell_type": "code",
   "execution_count": null,
   "metadata": {},
   "outputs": [],
   "source": []
  },
  {
   "cell_type": "code",
   "execution_count": null,
   "metadata": {},
   "outputs": [],
   "source": []
  },
  {
   "cell_type": "code",
   "execution_count": null,
   "metadata": {},
   "outputs": [],
   "source": []
  },
  {
   "cell_type": "code",
   "execution_count": null,
   "metadata": {},
   "outputs": [],
   "source": [
    "categories = [\"Cat 1\", \"Cat 2\"]\n",
    "sub_categories = [\"Sub 1\", \"Sub 2\"]\n",
    "\n",
    "data = {'Categories' : categories,\n",
    "        'Sub 1'   : [1, 3],\n",
    "        'Sub 2'   : [2, 2]}"
   ]
  },
  {
   "cell_type": "code",
   "execution_count": null,
   "metadata": {},
   "outputs": [],
   "source": [
    "datadf = pd.DataFrame(data)"
   ]
  },
  {
   "cell_type": "code",
   "execution_count": null,
   "metadata": {},
   "outputs": [],
   "source": [
    "datadf"
   ]
  },
  {
   "cell_type": "code",
   "execution_count": null,
   "metadata": {},
   "outputs": [],
   "source": [
    " p.hbar_stack(sub_categories, y='Categories', height=0.9, color=['red', 'green'], source=ColumnDataSource(data))"
   ]
  }
 ],
 "metadata": {
  "kernelspec": {
   "display_name": "Python 3",
   "language": "python",
   "name": "python3"
  },
  "language_info": {
   "codemirror_mode": {
    "name": "ipython",
    "version": 3
   },
   "file_extension": ".py",
   "mimetype": "text/x-python",
   "name": "python",
   "nbconvert_exporter": "python",
   "pygments_lexer": "ipython3",
   "version": "3.6.2"
  }
 },
 "nbformat": 4,
 "nbformat_minor": 2
}
