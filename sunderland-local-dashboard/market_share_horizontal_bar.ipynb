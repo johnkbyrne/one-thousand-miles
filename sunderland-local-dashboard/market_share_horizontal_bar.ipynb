{
 "cells": [
  {
   "cell_type": "code",
   "execution_count": 1,
   "metadata": {},
   "outputs": [],
   "source": [
    "import pandas as pd\n",
    "from bokeh.io import output_notebook\n",
    "from bokeh.core.properties import value\n",
    "from bokeh.io import show, output_file\n",
    "from bokeh.models import ColumnDataSource\n",
    "from bokeh.plotting import figure"
   ]
  },
  {
   "cell_type": "code",
   "execution_count": null,
   "metadata": {},
   "outputs": [],
   "source": [
    "output_notebook()"
   ]
  },
  {
   "cell_type": "code",
   "execution_count": 2,
   "metadata": {},
   "outputs": [],
   "source": [
    "def getDataFrame():\n",
    "    df = pd.read_csv(\"pipeline_test_data_bokeh.csv\", index_col=None)\n",
    "    df[\"week_number\"] = df[\"week\"].str.extract(\"week-(\\d+)\").astype(int)\n",
    "    return df"
   ]
  },
  {
   "cell_type": "code",
   "execution_count": 5,
   "metadata": {},
   "outputs": [],
   "source": [
    "def groupMarketShareBySegment(df, week):\n",
    "    df.copy()\n",
    "    \n",
    "    df = df[['idp', 'segment_name', 'market_share', 'week']]\n",
    "    df = df[df[\"week\"] == week]\n",
    "    \n",
    "    df = df[['idp', 'segment_name', 'market_share']]\n",
    "    \n",
    "    df = pd.pivot_table(df, values = 'market_share', columns = 'idp', index = 'segment_name', fill_value = 0)\n",
    "    \n",
    "    df.reset_index(inplace=True)\n",
    "    \n",
    "    return df"
   ]
  },
  {
   "cell_type": "code",
   "execution_count": null,
   "metadata": {},
   "outputs": [],
   "source": [
    "df = getDataFrame()"
   ]
  },
  {
   "cell_type": "code",
   "execution_count": 6,
   "metadata": {
    "scrolled": true
   },
   "outputs": [],
   "source": [
    "week = 'week-1'\n",
    "\n",
    "df_week = groupMarketShareBySegment(df, week)"
   ]
  },
  {
   "cell_type": "code",
   "execution_count": 7,
   "metadata": {},
   "outputs": [
    {
     "data": {
      "text/html": [
       "<div>\n",
       "<style scoped>\n",
       "    .dataframe tbody tr th:only-of-type {\n",
       "        vertical-align: middle;\n",
       "    }\n",
       "\n",
       "    .dataframe tbody tr th {\n",
       "        vertical-align: top;\n",
       "    }\n",
       "\n",
       "    .dataframe thead th {\n",
       "        text-align: right;\n",
       "    }\n",
       "</style>\n",
       "<table border=\"1\" class=\"dataframe\">\n",
       "  <thead>\n",
       "    <tr style=\"text-align: right;\">\n",
       "      <th>idp</th>\n",
       "      <th>segment_name</th>\n",
       "      <th>idp-1</th>\n",
       "      <th>idp-2</th>\n",
       "      <th>idp-3</th>\n",
       "      <th>idp-4</th>\n",
       "      <th>idp-5</th>\n",
       "      <th>idp-6</th>\n",
       "      <th>idp-7</th>\n",
       "    </tr>\n",
       "  </thead>\n",
       "  <tbody>\n",
       "    <tr>\n",
       "      <th>0</th>\n",
       "      <td>one-doc</td>\n",
       "      <td>16.612466</td>\n",
       "      <td>3.184282</td>\n",
       "      <td>7.682927</td>\n",
       "      <td>37.940379</td>\n",
       "      <td>34.485095</td>\n",
       "      <td>0.000000</td>\n",
       "      <td>0.000000</td>\n",
       "    </tr>\n",
       "    <tr>\n",
       "      <th>1</th>\n",
       "      <td>two-docs</td>\n",
       "      <td>21.821486</td>\n",
       "      <td>6.805793</td>\n",
       "      <td>3.793844</td>\n",
       "      <td>17.146633</td>\n",
       "      <td>22.658444</td>\n",
       "      <td>22.322559</td>\n",
       "      <td>5.451242</td>\n",
       "    </tr>\n",
       "    <tr>\n",
       "      <th>2</th>\n",
       "      <td>zero-docs</td>\n",
       "      <td>0.000000</td>\n",
       "      <td>0.000000</td>\n",
       "      <td>11.163566</td>\n",
       "      <td>57.206332</td>\n",
       "      <td>31.602333</td>\n",
       "      <td>0.000000</td>\n",
       "      <td>0.000000</td>\n",
       "    </tr>\n",
       "  </tbody>\n",
       "</table>\n",
       "</div>"
      ],
      "text/plain": [
       "idp segment_name      idp-1     idp-2      idp-3      idp-4      idp-5  \\\n",
       "0        one-doc  16.612466  3.184282   7.682927  37.940379  34.485095   \n",
       "1       two-docs  21.821486  6.805793   3.793844  17.146633  22.658444   \n",
       "2      zero-docs   0.000000  0.000000  11.163566  57.206332  31.602333   \n",
       "\n",
       "idp      idp-6     idp-7  \n",
       "0     0.000000  0.000000  \n",
       "1    22.322559  5.451242  \n",
       "2     0.000000  0.000000  "
      ]
     },
     "execution_count": 7,
     "metadata": {},
     "output_type": "execute_result"
    }
   ],
   "source": [
    "df_week"
   ]
  },
  {
   "cell_type": "code",
   "execution_count": 9,
   "metadata": {},
   "outputs": [],
   "source": [
    "def plotHorizontalStackedBar(df):\n",
    "    \n",
    "    idp = ['idp-1', 'idp-2', 'idp-3', 'idp-4', 'idp-5', 'idp-6', 'idp-7']\n",
    "    segment = [\"zero-docs\", \"one-doc\", \"two-docs\"]\n",
    "    colors = [\"#c9d9d3\", \"#718dbf\", \"#e84d60\", \"orange\", \"red\", \"blue\", \"green\"]\n",
    "\n",
    "    source = ColumnDataSource.from_df(df)\n",
    "\n",
    "    p = figure(y_range=list(df[\"segment_name\"]), plot_height=500, title=\"IDP market share by segment\",\n",
    "               toolbar_location=None, tools=\"\")\n",
    "\n",
    "    p.hbar_stack(idp, y='segment_name', height=0.9, color=colors, source=source, legend=[value(x) for x in idp])\n",
    "\n",
    "    show(p)"
   ]
  },
  {
   "cell_type": "code",
   "execution_count": 12,
   "metadata": {},
   "outputs": [
    {
     "data": {
      "text/html": [
       "\n",
       "<div class=\"bk-root\">\n",
       "    <div class=\"bk-plotdiv\" id=\"efc64147-5250-458e-a721-d8bda7479de7\"></div>\n",
       "</div>"
      ]
     },
     "metadata": {},
     "output_type": "display_data"
    },
    {
     "data": {
      "application/javascript": [
       "(function(root) {\n",
       "  function embed_document(root) {\n",
       "    \n",
       "  var docs_json = {\"132abb53-907e-4fd8-8a6f-2d383dff788f\":{\"roots\":{\"references\":[{\"attributes\":{\"fields\":[\"idp-1\"]},\"id\":\"366f54c7-7442-4e05-8c6f-fcd6c62eeff3\",\"type\":\"Stack\"},{\"attributes\":{\"data_source\":{\"id\":\"95b7c595-26f7-4850-8386-37bc07f64027\",\"type\":\"ColumnDataSource\"},\"glyph\":{\"id\":\"278a9ca2-0c9e-4fe3-bff0-df77bde40f53\",\"type\":\"HBar\"},\"hover_glyph\":null,\"muted_glyph\":null,\"nonselection_glyph\":{\"id\":\"2ad6879d-bf51-4a5b-a49a-09188890323f\",\"type\":\"HBar\"},\"selection_glyph\":null,\"view\":{\"id\":\"295c382b-b18f-4f5f-ab9c-c2e575d53a3d\",\"type\":\"CDSView\"}},\"id\":\"f040fd74-0746-4434-9faa-f0b703f260f6\",\"type\":\"GlyphRenderer\"},{\"attributes\":{\"callback\":null,\"column_names\":[\"segment_name\",\"idp-1\",\"idp-2\",\"idp-3\",\"idp-4\",\"idp-5\",\"idp-6\",\"idp-7\",\"index\"],\"data\":{\"idp-1\":{\"__ndarray__\":\"2k5jlMqcMECMIlrhTNI1QAAAAAAAAAAA\",\"dtype\":\"float64\",\"shape\":[3]},\"idp-2\":{\"__ndarray__\":\"7nNHwmh5CUD0Xji0ITkbQAAAAAAAAAAA\",\"dtype\":\"float64\",\"shape\":[3]},\"idp-3\":{\"__ndarray__\":\"xHawK1G7HkAiYX3bylkOQC2yfOG+UyZA\",\"dtype\":\"float64\",\"shape\":[3]},\"idp-4\":{\"__ndarray__\":\"gmooWl74QkBmEau7iSUxQCSkqBJpmkxA\",\"dtype\":\"float64\",\"shape\":[3]},\"idp-5\":{\"__ndarray__\":\"oRqKlhc+QUBppt7Hj6g2QJncpHkymj9A\",\"dtype\":\"float64\",\"shape\":[3]},\"idp-6\":{\"__ndarray__\":\"AAAAAAAAAACjXo0/k1I2QAAAAAAAAAAA\",\"dtype\":\"float64\",\"shape\":[3]},\"idp-7\":{\"__ndarray__\":\"AAAAAAAAAABWVP9LEs4VQAAAAAAAAAAA\",\"dtype\":\"float64\",\"shape\":[3]},\"index\":[0,1,2],\"segment_name\":[\"one-doc\",\"two-docs\",\"zero-docs\"]}},\"id\":\"95b7c595-26f7-4850-8386-37bc07f64027\",\"type\":\"ColumnDataSource\"},{\"attributes\":{\"data_source\":{\"id\":\"1ee20f23-72e9-4793-b8dd-888f7059f6c5\",\"type\":\"ColumnDataSource\"},\"glyph\":{\"id\":\"4bec48a6-1143-48f6-b2d1-d1f072a0c30f\",\"type\":\"HBar\"},\"hover_glyph\":null,\"muted_glyph\":null,\"nonselection_glyph\":{\"id\":\"49f2a101-ede8-4b80-8fad-c31af74d4da3\",\"type\":\"HBar\"},\"selection_glyph\":null,\"view\":{\"id\":\"d11ff0fa-93a4-49c5-930f-a176bd5c383a\",\"type\":\"CDSView\"}},\"id\":\"71528b99-a83c-4227-bc47-0373942a5d07\",\"type\":\"GlyphRenderer\"},{\"attributes\":{\"fill_alpha\":{\"value\":0.1},\"fill_color\":{\"value\":\"#1f77b4\"},\"height\":{\"value\":0.9},\"left\":{\"expr\":{\"id\":\"403d25da-6d93-491f-bf93-5a5fd628587f\",\"type\":\"Stack\"}},\"line_alpha\":{\"value\":0.1},\"line_color\":{\"value\":\"#1f77b4\"},\"right\":{\"expr\":{\"id\":\"1add0ef9-b505-4a4b-a51f-e1299aa804d8\",\"type\":\"Stack\"}},\"y\":{\"field\":\"segment_name\"}},\"id\":\"4460728e-53fc-4f90-85fe-3563f638e80a\",\"type\":\"HBar\"},{\"attributes\":{\"below\":[{\"id\":\"67b57d30-b5f6-40ab-a671-72ff5fa03e36\",\"type\":\"LinearAxis\"}],\"left\":[{\"id\":\"901c7703-4546-4b0e-8ddb-255c6f1036f2\",\"type\":\"CategoricalAxis\"}],\"plot_height\":500,\"renderers\":[{\"id\":\"67b57d30-b5f6-40ab-a671-72ff5fa03e36\",\"type\":\"LinearAxis\"},{\"id\":\"52191c16-c3a5-4c21-a04d-77b4569decab\",\"type\":\"Grid\"},{\"id\":\"901c7703-4546-4b0e-8ddb-255c6f1036f2\",\"type\":\"CategoricalAxis\"},{\"id\":\"2a33a0ac-848f-49c4-98cd-0e873ddbc0ac\",\"type\":\"Grid\"},{\"id\":\"3842a48a-8fc1-4e74-8175-e9cff52888f4\",\"type\":\"Legend\"},{\"id\":\"d40e53c0-c670-4363-bb5d-0bf1d9c0b748\",\"type\":\"GlyphRenderer\"},{\"id\":\"71528b99-a83c-4227-bc47-0373942a5d07\",\"type\":\"GlyphRenderer\"},{\"id\":\"f040fd74-0746-4434-9faa-f0b703f260f6\",\"type\":\"GlyphRenderer\"},{\"id\":\"4b5d0c4f-fd97-427b-a4e7-0f0ba7225f71\",\"type\":\"GlyphRenderer\"},{\"id\":\"0fd77e3e-0495-4950-b188-eafabc770aec\",\"type\":\"GlyphRenderer\"},{\"id\":\"3e53b55c-e458-4af1-b635-a8db4c97ea70\",\"type\":\"GlyphRenderer\"},{\"id\":\"81dbe7cb-a5ff-454f-86cf-28e6ce5e53c1\",\"type\":\"GlyphRenderer\"}],\"title\":{\"id\":\"ffd7d497-04b3-4819-8c64-5a28bb4b8951\",\"type\":\"Title\"},\"toolbar\":{\"id\":\"a41f14aa-084b-41e3-9faa-438d699fe8d1\",\"type\":\"Toolbar\"},\"toolbar_location\":null,\"x_range\":{\"id\":\"2b91c053-4cd9-4e2e-ae7a-9e871790c749\",\"type\":\"DataRange1d\"},\"x_scale\":{\"id\":\"9ab424c1-2b02-4508-a91a-abb726f9291d\",\"type\":\"LinearScale\"},\"y_range\":{\"id\":\"24bbe4b5-8a2a-4dbe-ae15-2ab2e930cf26\",\"type\":\"FactorRange\"},\"y_scale\":{\"id\":\"ad1691d0-445c-4088-9786-7727eeb86cf7\",\"type\":\"CategoricalScale\"}},\"id\":\"2a66268c-c30e-4261-a05e-4ebca702b0a3\",\"subtype\":\"Figure\",\"type\":\"Plot\"},{\"attributes\":{\"fill_color\":{\"value\":\"orange\"},\"height\":{\"value\":0.9},\"left\":{\"expr\":{\"id\":\"65686dac-6176-45f2-ad4b-bb2bc7e4b743\",\"type\":\"Stack\"}},\"line_color\":{\"value\":\"orange\"},\"right\":{\"expr\":{\"id\":\"97a2ad65-974e-4b26-a544-e93b83bd7ad4\",\"type\":\"Stack\"}},\"y\":{\"field\":\"segment_name\"}},\"id\":\"d8e8b40d-d4da-4d3f-b740-948843afb187\",\"type\":\"HBar\"},{\"attributes\":{\"fill_alpha\":{\"value\":0.1},\"fill_color\":{\"value\":\"#1f77b4\"},\"height\":{\"value\":0.9},\"left\":{\"expr\":{\"id\":\"366f54c7-7442-4e05-8c6f-fcd6c62eeff3\",\"type\":\"Stack\"}},\"line_alpha\":{\"value\":0.1},\"line_color\":{\"value\":\"#1f77b4\"},\"right\":{\"expr\":{\"id\":\"0f581b98-5a41-4c12-8c37-e23a14bca09a\",\"type\":\"Stack\"}},\"y\":{\"field\":\"segment_name\"}},\"id\":\"49f2a101-ede8-4b80-8fad-c31af74d4da3\",\"type\":\"HBar\"},{\"attributes\":{\"callback\":null,\"column_names\":[\"segment_name\",\"idp-1\",\"idp-2\",\"idp-3\",\"idp-4\",\"idp-5\",\"idp-6\",\"idp-7\",\"index\"],\"data\":{\"idp-1\":{\"__ndarray__\":\"2k5jlMqcMECMIlrhTNI1QAAAAAAAAAAA\",\"dtype\":\"float64\",\"shape\":[3]},\"idp-2\":{\"__ndarray__\":\"7nNHwmh5CUD0Xji0ITkbQAAAAAAAAAAA\",\"dtype\":\"float64\",\"shape\":[3]},\"idp-3\":{\"__ndarray__\":\"xHawK1G7HkAiYX3bylkOQC2yfOG+UyZA\",\"dtype\":\"float64\",\"shape\":[3]},\"idp-4\":{\"__ndarray__\":\"gmooWl74QkBmEau7iSUxQCSkqBJpmkxA\",\"dtype\":\"float64\",\"shape\":[3]},\"idp-5\":{\"__ndarray__\":\"oRqKlhc+QUBppt7Hj6g2QJncpHkymj9A\",\"dtype\":\"float64\",\"shape\":[3]},\"idp-6\":{\"__ndarray__\":\"AAAAAAAAAACjXo0/k1I2QAAAAAAAAAAA\",\"dtype\":\"float64\",\"shape\":[3]},\"idp-7\":{\"__ndarray__\":\"AAAAAAAAAABWVP9LEs4VQAAAAAAAAAAA\",\"dtype\":\"float64\",\"shape\":[3]},\"index\":[0,1,2],\"segment_name\":[\"one-doc\",\"two-docs\",\"zero-docs\"]}},\"id\":\"716e07a7-fd28-4143-be42-6050a0147feb\",\"type\":\"ColumnDataSource\"},{\"attributes\":{\"source\":{\"id\":\"95b7c595-26f7-4850-8386-37bc07f64027\",\"type\":\"ColumnDataSource\"}},\"id\":\"295c382b-b18f-4f5f-ab9c-c2e575d53a3d\",\"type\":\"CDSView\"},{\"attributes\":{\"plot\":{\"id\":\"2a66268c-c30e-4261-a05e-4ebca702b0a3\",\"subtype\":\"Figure\",\"type\":\"Plot\"},\"ticker\":{\"id\":\"6466b13d-ec10-425d-bc51-a12564642739\",\"type\":\"BasicTicker\"}},\"id\":\"52191c16-c3a5-4c21-a04d-77b4569decab\",\"type\":\"Grid\"},{\"attributes\":{},\"id\":\"ad1691d0-445c-4088-9786-7727eeb86cf7\",\"type\":\"CategoricalScale\"},{\"attributes\":{\"callback\":null,\"factors\":[\"one-doc\",\"two-docs\",\"zero-docs\"]},\"id\":\"24bbe4b5-8a2a-4dbe-ae15-2ab2e930cf26\",\"type\":\"FactorRange\"},{\"attributes\":{\"fill_alpha\":{\"value\":0.1},\"fill_color\":{\"value\":\"#1f77b4\"},\"height\":{\"value\":0.9},\"left\":{\"expr\":{\"id\":\"33563572-e148-41ee-9ef2-46a857bf227f\",\"type\":\"Stack\"}},\"line_alpha\":{\"value\":0.1},\"line_color\":{\"value\":\"#1f77b4\"},\"right\":{\"expr\":{\"id\":\"851cc7f0-0c97-424b-a1de-afedc7272ec6\",\"type\":\"Stack\"}},\"y\":{\"field\":\"segment_name\"}},\"id\":\"2ad6879d-bf51-4a5b-a49a-09188890323f\",\"type\":\"HBar\"},{\"attributes\":{},\"id\":\"9ab424c1-2b02-4508-a91a-abb726f9291d\",\"type\":\"LinearScale\"},{\"attributes\":{\"fields\":[]},\"id\":\"74bd74d2-c1c3-4f3b-a9c2-e51cf3bff3d1\",\"type\":\"Stack\"},{\"attributes\":{\"active_drag\":\"auto\",\"active_inspect\":\"auto\",\"active_scroll\":\"auto\",\"active_tap\":\"auto\"},\"id\":\"a41f14aa-084b-41e3-9faa-438d699fe8d1\",\"type\":\"Toolbar\"},{\"attributes\":{\"callback\":null,\"column_names\":[\"segment_name\",\"idp-1\",\"idp-2\",\"idp-3\",\"idp-4\",\"idp-5\",\"idp-6\",\"idp-7\",\"index\"],\"data\":{\"idp-1\":{\"__ndarray__\":\"2k5jlMqcMECMIlrhTNI1QAAAAAAAAAAA\",\"dtype\":\"float64\",\"shape\":[3]},\"idp-2\":{\"__ndarray__\":\"7nNHwmh5CUD0Xji0ITkbQAAAAAAAAAAA\",\"dtype\":\"float64\",\"shape\":[3]},\"idp-3\":{\"__ndarray__\":\"xHawK1G7HkAiYX3bylkOQC2yfOG+UyZA\",\"dtype\":\"float64\",\"shape\":[3]},\"idp-4\":{\"__ndarray__\":\"gmooWl74QkBmEau7iSUxQCSkqBJpmkxA\",\"dtype\":\"float64\",\"shape\":[3]},\"idp-5\":{\"__ndarray__\":\"oRqKlhc+QUBppt7Hj6g2QJncpHkymj9A\",\"dtype\":\"float64\",\"shape\":[3]},\"idp-6\":{\"__ndarray__\":\"AAAAAAAAAACjXo0/k1I2QAAAAAAAAAAA\",\"dtype\":\"float64\",\"shape\":[3]},\"idp-7\":{\"__ndarray__\":\"AAAAAAAAAABWVP9LEs4VQAAAAAAAAAAA\",\"dtype\":\"float64\",\"shape\":[3]},\"index\":[0,1,2],\"segment_name\":[\"one-doc\",\"two-docs\",\"zero-docs\"]}},\"id\":\"9b2b765d-1526-4a96-b87e-9b8deba9c6c1\",\"type\":\"ColumnDataSource\"},{\"attributes\":{\"callback\":null},\"id\":\"2b91c053-4cd9-4e2e-ae7a-9e871790c749\",\"type\":\"DataRange1d\"},{\"attributes\":{\"plot\":null,\"text\":\"IDP market share by segment\"},\"id\":\"ffd7d497-04b3-4819-8c64-5a28bb4b8951\",\"type\":\"Title\"},{\"attributes\":{\"formatter\":{\"id\":\"c7ae79ce-55c5-4aae-98b7-9b1d33608a7b\",\"type\":\"BasicTickFormatter\"},\"plot\":{\"id\":\"2a66268c-c30e-4261-a05e-4ebca702b0a3\",\"subtype\":\"Figure\",\"type\":\"Plot\"},\"ticker\":{\"id\":\"6466b13d-ec10-425d-bc51-a12564642739\",\"type\":\"BasicTicker\"}},\"id\":\"67b57d30-b5f6-40ab-a671-72ff5fa03e36\",\"type\":\"LinearAxis\"},{\"attributes\":{\"callback\":null,\"column_names\":[\"segment_name\",\"idp-1\",\"idp-2\",\"idp-3\",\"idp-4\",\"idp-5\",\"idp-6\",\"idp-7\",\"index\"],\"data\":{\"idp-1\":{\"__ndarray__\":\"2k5jlMqcMECMIlrhTNI1QAAAAAAAAAAA\",\"dtype\":\"float64\",\"shape\":[3]},\"idp-2\":{\"__ndarray__\":\"7nNHwmh5CUD0Xji0ITkbQAAAAAAAAAAA\",\"dtype\":\"float64\",\"shape\":[3]},\"idp-3\":{\"__ndarray__\":\"xHawK1G7HkAiYX3bylkOQC2yfOG+UyZA\",\"dtype\":\"float64\",\"shape\":[3]},\"idp-4\":{\"__ndarray__\":\"gmooWl74QkBmEau7iSUxQCSkqBJpmkxA\",\"dtype\":\"float64\",\"shape\":[3]},\"idp-5\":{\"__ndarray__\":\"oRqKlhc+QUBppt7Hj6g2QJncpHkymj9A\",\"dtype\":\"float64\",\"shape\":[3]},\"idp-6\":{\"__ndarray__\":\"AAAAAAAAAACjXo0/k1I2QAAAAAAAAAAA\",\"dtype\":\"float64\",\"shape\":[3]},\"idp-7\":{\"__ndarray__\":\"AAAAAAAAAABWVP9LEs4VQAAAAAAAAAAA\",\"dtype\":\"float64\",\"shape\":[3]},\"index\":[0,1,2],\"segment_name\":[\"one-doc\",\"two-docs\",\"zero-docs\"]}},\"id\":\"1ee20f23-72e9-4793-b8dd-888f7059f6c5\",\"type\":\"ColumnDataSource\"},{\"attributes\":{},\"id\":\"6466b13d-ec10-425d-bc51-a12564642739\",\"type\":\"BasicTicker\"},{\"attributes\":{\"formatter\":{\"id\":\"38c5a73f-cc1d-45f3-adfb-96997d25fbc4\",\"type\":\"CategoricalTickFormatter\"},\"plot\":{\"id\":\"2a66268c-c30e-4261-a05e-4ebca702b0a3\",\"subtype\":\"Figure\",\"type\":\"Plot\"},\"ticker\":{\"id\":\"95759957-7019-467a-9d08-b0da1b054e5e\",\"type\":\"CategoricalTicker\"}},\"id\":\"901c7703-4546-4b0e-8ddb-255c6f1036f2\",\"type\":\"CategoricalAxis\"},{\"attributes\":{\"label\":{\"value\":\"idp-3\"},\"renderers\":[{\"id\":\"f040fd74-0746-4434-9faa-f0b703f260f6\",\"type\":\"GlyphRenderer\"}]},\"id\":\"687c815d-a680-49dc-b2d1-3a53589bc299\",\"type\":\"LegendItem\"},{\"attributes\":{},\"id\":\"95759957-7019-467a-9d08-b0da1b054e5e\",\"type\":\"CategoricalTicker\"},{\"attributes\":{\"dimension\":1,\"plot\":{\"id\":\"2a66268c-c30e-4261-a05e-4ebca702b0a3\",\"subtype\":\"Figure\",\"type\":\"Plot\"},\"ticker\":{\"id\":\"95759957-7019-467a-9d08-b0da1b054e5e\",\"type\":\"CategoricalTicker\"}},\"id\":\"2a33a0ac-848f-49c4-98cd-0e873ddbc0ac\",\"type\":\"Grid\"},{\"attributes\":{\"fields\":[\"idp-1\"]},\"id\":\"4d2de833-9071-4de6-bfb1-e6382f1a519a\",\"type\":\"Stack\"},{\"attributes\":{\"source\":{\"id\":\"1ee20f23-72e9-4793-b8dd-888f7059f6c5\",\"type\":\"ColumnDataSource\"}},\"id\":\"d11ff0fa-93a4-49c5-930f-a176bd5c383a\",\"type\":\"CDSView\"},{\"attributes\":{\"data_source\":{\"id\":\"bf384cb3-7687-42ea-bd25-4781e1a78150\",\"type\":\"ColumnDataSource\"},\"glyph\":{\"id\":\"9674130a-0b5b-4254-aadf-c8a99e626c7c\",\"type\":\"HBar\"},\"hover_glyph\":null,\"muted_glyph\":null,\"nonselection_glyph\":{\"id\":\"4460728e-53fc-4f90-85fe-3563f638e80a\",\"type\":\"HBar\"},\"selection_glyph\":null,\"view\":{\"id\":\"a948f6a5-6001-409d-9555-6fa18583b6b5\",\"type\":\"CDSView\"}},\"id\":\"81dbe7cb-a5ff-454f-86cf-28e6ce5e53c1\",\"type\":\"GlyphRenderer\"},{\"attributes\":{\"label\":{\"value\":\"idp-2\"},\"renderers\":[{\"id\":\"71528b99-a83c-4227-bc47-0373942a5d07\",\"type\":\"GlyphRenderer\"}]},\"id\":\"fa86e27f-ea57-4124-8cbc-f735af3021d5\",\"type\":\"LegendItem\"},{\"attributes\":{\"fill_color\":{\"value\":\"#e84d60\"},\"height\":{\"value\":0.9},\"left\":{\"expr\":{\"id\":\"33563572-e148-41ee-9ef2-46a857bf227f\",\"type\":\"Stack\"}},\"line_color\":{\"value\":\"#e84d60\"},\"right\":{\"expr\":{\"id\":\"851cc7f0-0c97-424b-a1de-afedc7272ec6\",\"type\":\"Stack\"}},\"y\":{\"field\":\"segment_name\"}},\"id\":\"278a9ca2-0c9e-4fe3-bff0-df77bde40f53\",\"type\":\"HBar\"},{\"attributes\":{\"fill_alpha\":{\"value\":0.1},\"fill_color\":{\"value\":\"#1f77b4\"},\"height\":{\"value\":0.9},\"left\":{\"expr\":{\"id\":\"65686dac-6176-45f2-ad4b-bb2bc7e4b743\",\"type\":\"Stack\"}},\"line_alpha\":{\"value\":0.1},\"line_color\":{\"value\":\"#1f77b4\"},\"right\":{\"expr\":{\"id\":\"97a2ad65-974e-4b26-a544-e93b83bd7ad4\",\"type\":\"Stack\"}},\"y\":{\"field\":\"segment_name\"}},\"id\":\"db17007e-2b15-415a-911d-349e09fc14f0\",\"type\":\"HBar\"},{\"attributes\":{\"callback\":null,\"column_names\":[\"segment_name\",\"idp-1\",\"idp-2\",\"idp-3\",\"idp-4\",\"idp-5\",\"idp-6\",\"idp-7\",\"index\"],\"data\":{\"idp-1\":{\"__ndarray__\":\"2k5jlMqcMECMIlrhTNI1QAAAAAAAAAAA\",\"dtype\":\"float64\",\"shape\":[3]},\"idp-2\":{\"__ndarray__\":\"7nNHwmh5CUD0Xji0ITkbQAAAAAAAAAAA\",\"dtype\":\"float64\",\"shape\":[3]},\"idp-3\":{\"__ndarray__\":\"xHawK1G7HkAiYX3bylkOQC2yfOG+UyZA\",\"dtype\":\"float64\",\"shape\":[3]},\"idp-4\":{\"__ndarray__\":\"gmooWl74QkBmEau7iSUxQCSkqBJpmkxA\",\"dtype\":\"float64\",\"shape\":[3]},\"idp-5\":{\"__ndarray__\":\"oRqKlhc+QUBppt7Hj6g2QJncpHkymj9A\",\"dtype\":\"float64\",\"shape\":[3]},\"idp-6\":{\"__ndarray__\":\"AAAAAAAAAACjXo0/k1I2QAAAAAAAAAAA\",\"dtype\":\"float64\",\"shape\":[3]},\"idp-7\":{\"__ndarray__\":\"AAAAAAAAAABWVP9LEs4VQAAAAAAAAAAA\",\"dtype\":\"float64\",\"shape\":[3]},\"index\":[0,1,2],\"segment_name\":[\"one-doc\",\"two-docs\",\"zero-docs\"]}},\"id\":\"bf384cb3-7687-42ea-bd25-4781e1a78150\",\"type\":\"ColumnDataSource\"},{\"attributes\":{\"data_source\":{\"id\":\"9b2b765d-1526-4a96-b87e-9b8deba9c6c1\",\"type\":\"ColumnDataSource\"},\"glyph\":{\"id\":\"d8e8b40d-d4da-4d3f-b740-948843afb187\",\"type\":\"HBar\"},\"hover_glyph\":null,\"muted_glyph\":null,\"nonselection_glyph\":{\"id\":\"db17007e-2b15-415a-911d-349e09fc14f0\",\"type\":\"HBar\"},\"selection_glyph\":null,\"view\":{\"id\":\"3cf1b748-51a0-488b-ad37-ced180dd7dfe\",\"type\":\"CDSView\"}},\"id\":\"4b5d0c4f-fd97-427b-a4e7-0f0ba7225f71\",\"type\":\"GlyphRenderer\"},{\"attributes\":{\"fill_color\":{\"value\":\"red\"},\"height\":{\"value\":0.9},\"left\":{\"expr\":{\"id\":\"62d13794-010b-40d7-88cd-09089d979f6d\",\"type\":\"Stack\"}},\"line_color\":{\"value\":\"red\"},\"right\":{\"expr\":{\"id\":\"7181bade-8c21-43d4-8de5-595987e6eef5\",\"type\":\"Stack\"}},\"y\":{\"field\":\"segment_name\"}},\"id\":\"bc718ed2-de1f-4d45-a121-014fbbbe473b\",\"type\":\"HBar\"},{\"attributes\":{\"label\":{\"value\":\"idp-4\"},\"renderers\":[{\"id\":\"4b5d0c4f-fd97-427b-a4e7-0f0ba7225f71\",\"type\":\"GlyphRenderer\"}]},\"id\":\"295021fe-e848-4495-950a-880fd4a5bf57\",\"type\":\"LegendItem\"},{\"attributes\":{\"callback\":null,\"column_names\":[\"segment_name\",\"idp-1\",\"idp-2\",\"idp-3\",\"idp-4\",\"idp-5\",\"idp-6\",\"idp-7\",\"index\"],\"data\":{\"idp-1\":{\"__ndarray__\":\"2k5jlMqcMECMIlrhTNI1QAAAAAAAAAAA\",\"dtype\":\"float64\",\"shape\":[3]},\"idp-2\":{\"__ndarray__\":\"7nNHwmh5CUD0Xji0ITkbQAAAAAAAAAAA\",\"dtype\":\"float64\",\"shape\":[3]},\"idp-3\":{\"__ndarray__\":\"xHawK1G7HkAiYX3bylkOQC2yfOG+UyZA\",\"dtype\":\"float64\",\"shape\":[3]},\"idp-4\":{\"__ndarray__\":\"gmooWl74QkBmEau7iSUxQCSkqBJpmkxA\",\"dtype\":\"float64\",\"shape\":[3]},\"idp-5\":{\"__ndarray__\":\"oRqKlhc+QUBppt7Hj6g2QJncpHkymj9A\",\"dtype\":\"float64\",\"shape\":[3]},\"idp-6\":{\"__ndarray__\":\"AAAAAAAAAACjXo0/k1I2QAAAAAAAAAAA\",\"dtype\":\"float64\",\"shape\":[3]},\"idp-7\":{\"__ndarray__\":\"AAAAAAAAAABWVP9LEs4VQAAAAAAAAAAA\",\"dtype\":\"float64\",\"shape\":[3]},\"index\":[0,1,2],\"segment_name\":[\"one-doc\",\"two-docs\",\"zero-docs\"]}},\"id\":\"c89ef83a-64a7-4e2e-9ad9-266b6b563cac\",\"type\":\"ColumnDataSource\"},{\"attributes\":{\"source\":{\"id\":\"9b2b765d-1526-4a96-b87e-9b8deba9c6c1\",\"type\":\"ColumnDataSource\"}},\"id\":\"3cf1b748-51a0-488b-ad37-ced180dd7dfe\",\"type\":\"CDSView\"},{\"attributes\":{\"label\":{\"value\":\"idp-5\"},\"renderers\":[{\"id\":\"0fd77e3e-0495-4950-b188-eafabc770aec\",\"type\":\"GlyphRenderer\"}]},\"id\":\"74f2eead-cc90-4837-adf1-fc94d7f95c6a\",\"type\":\"LegendItem\"},{\"attributes\":{\"fill_alpha\":{\"value\":0.1},\"fill_color\":{\"value\":\"#1f77b4\"},\"height\":{\"value\":0.9},\"left\":{\"expr\":{\"id\":\"107e9260-770e-403d-890b-0b32f13b4ba2\",\"type\":\"Stack\"}},\"line_alpha\":{\"value\":0.1},\"line_color\":{\"value\":\"#1f77b4\"},\"right\":{\"expr\":{\"id\":\"76518356-8ae8-4942-9dca-07d74d653105\",\"type\":\"Stack\"}},\"y\":{\"field\":\"segment_name\"}},\"id\":\"8ce1e08e-6d11-4a07-8579-19cf107dc7d4\",\"type\":\"HBar\"},{\"attributes\":{\"label\":{\"value\":\"idp-7\"},\"renderers\":[{\"id\":\"81dbe7cb-a5ff-454f-86cf-28e6ce5e53c1\",\"type\":\"GlyphRenderer\"}]},\"id\":\"3444d7fc-f853-433b-97fa-0e1275be41e0\",\"type\":\"LegendItem\"},{\"attributes\":{\"fill_color\":{\"value\":\"blue\"},\"height\":{\"value\":0.9},\"left\":{\"expr\":{\"id\":\"107e9260-770e-403d-890b-0b32f13b4ba2\",\"type\":\"Stack\"}},\"line_color\":{\"value\":\"blue\"},\"right\":{\"expr\":{\"id\":\"76518356-8ae8-4942-9dca-07d74d653105\",\"type\":\"Stack\"}},\"y\":{\"field\":\"segment_name\"}},\"id\":\"abc1f73e-deb2-4479-9841-60bcc2ca4af6\",\"type\":\"HBar\"},{\"attributes\":{\"data_source\":{\"id\":\"716e07a7-fd28-4143-be42-6050a0147feb\",\"type\":\"ColumnDataSource\"},\"glyph\":{\"id\":\"bc718ed2-de1f-4d45-a121-014fbbbe473b\",\"type\":\"HBar\"},\"hover_glyph\":null,\"muted_glyph\":null,\"nonselection_glyph\":{\"id\":\"df65d883-784e-4c35-bf26-73d17bad0fe1\",\"type\":\"HBar\"},\"selection_glyph\":null,\"view\":{\"id\":\"93b8dfd5-a213-4c05-82fe-30ce6aa85818\",\"type\":\"CDSView\"}},\"id\":\"0fd77e3e-0495-4950-b188-eafabc770aec\",\"type\":\"GlyphRenderer\"},{\"attributes\":{\"data_source\":{\"id\":\"c89ef83a-64a7-4e2e-9ad9-266b6b563cac\",\"type\":\"ColumnDataSource\"},\"glyph\":{\"id\":\"abc1f73e-deb2-4479-9841-60bcc2ca4af6\",\"type\":\"HBar\"},\"hover_glyph\":null,\"muted_glyph\":null,\"nonselection_glyph\":{\"id\":\"8ce1e08e-6d11-4a07-8579-19cf107dc7d4\",\"type\":\"HBar\"},\"selection_glyph\":null,\"view\":{\"id\":\"af9c35b6-9b2b-43ed-b73b-7d5f0850d40a\",\"type\":\"CDSView\"}},\"id\":\"3e53b55c-e458-4af1-b635-a8db4c97ea70\",\"type\":\"GlyphRenderer\"},{\"attributes\":{\"source\":{\"id\":\"716e07a7-fd28-4143-be42-6050a0147feb\",\"type\":\"ColumnDataSource\"}},\"id\":\"93b8dfd5-a213-4c05-82fe-30ce6aa85818\",\"type\":\"CDSView\"},{\"attributes\":{\"fill_color\":{\"value\":\"green\"},\"height\":{\"value\":0.9},\"left\":{\"expr\":{\"id\":\"403d25da-6d93-491f-bf93-5a5fd628587f\",\"type\":\"Stack\"}},\"line_color\":{\"value\":\"green\"},\"right\":{\"expr\":{\"id\":\"1add0ef9-b505-4a4b-a51f-e1299aa804d8\",\"type\":\"Stack\"}},\"y\":{\"field\":\"segment_name\"}},\"id\":\"9674130a-0b5b-4254-aadf-c8a99e626c7c\",\"type\":\"HBar\"},{\"attributes\":{\"label\":{\"value\":\"idp-6\"},\"renderers\":[{\"id\":\"3e53b55c-e458-4af1-b635-a8db4c97ea70\",\"type\":\"GlyphRenderer\"}]},\"id\":\"5b05feaa-b57a-4c09-b6e6-72c4227dd5da\",\"type\":\"LegendItem\"},{\"attributes\":{\"source\":{\"id\":\"c89ef83a-64a7-4e2e-9ad9-266b6b563cac\",\"type\":\"ColumnDataSource\"}},\"id\":\"af9c35b6-9b2b-43ed-b73b-7d5f0850d40a\",\"type\":\"CDSView\"},{\"attributes\":{\"source\":{\"id\":\"bf384cb3-7687-42ea-bd25-4781e1a78150\",\"type\":\"ColumnDataSource\"}},\"id\":\"a948f6a5-6001-409d-9555-6fa18583b6b5\",\"type\":\"CDSView\"},{\"attributes\":{\"label\":{\"value\":\"idp-1\"},\"renderers\":[{\"id\":\"d40e53c0-c670-4363-bb5d-0bf1d9c0b748\",\"type\":\"GlyphRenderer\"}]},\"id\":\"c859c134-8493-4b23-88fc-76c88b0dc702\",\"type\":\"LegendItem\"},{\"attributes\":{\"fields\":[\"idp-1\",\"idp-2\",\"idp-3\"]},\"id\":\"851cc7f0-0c97-424b-a1de-afedc7272ec6\",\"type\":\"Stack\"},{\"attributes\":{\"fields\":[\"idp-1\",\"idp-2\",\"idp-3\",\"idp-4\",\"idp-5\",\"idp-6\"]},\"id\":\"76518356-8ae8-4942-9dca-07d74d653105\",\"type\":\"Stack\"},{\"attributes\":{\"fields\":[\"idp-1\",\"idp-2\",\"idp-3\",\"idp-4\",\"idp-5\"]},\"id\":\"107e9260-770e-403d-890b-0b32f13b4ba2\",\"type\":\"Stack\"},{\"attributes\":{\"fields\":[\"idp-1\",\"idp-2\",\"idp-3\",\"idp-4\"]},\"id\":\"97a2ad65-974e-4b26-a544-e93b83bd7ad4\",\"type\":\"Stack\"},{\"attributes\":{\"fields\":[\"idp-1\",\"idp-2\",\"idp-3\"]},\"id\":\"65686dac-6176-45f2-ad4b-bb2bc7e4b743\",\"type\":\"Stack\"},{\"attributes\":{\"fields\":[\"idp-1\",\"idp-2\"]},\"id\":\"0f581b98-5a41-4c12-8c37-e23a14bca09a\",\"type\":\"Stack\"},{\"attributes\":{\"fields\":[\"idp-1\",\"idp-2\"]},\"id\":\"33563572-e148-41ee-9ef2-46a857bf227f\",\"type\":\"Stack\"},{\"attributes\":{\"fields\":[\"idp-1\",\"idp-2\",\"idp-3\",\"idp-4\"]},\"id\":\"62d13794-010b-40d7-88cd-09089d979f6d\",\"type\":\"Stack\"},{\"attributes\":{\"items\":[{\"id\":\"c859c134-8493-4b23-88fc-76c88b0dc702\",\"type\":\"LegendItem\"},{\"id\":\"fa86e27f-ea57-4124-8cbc-f735af3021d5\",\"type\":\"LegendItem\"},{\"id\":\"687c815d-a680-49dc-b2d1-3a53589bc299\",\"type\":\"LegendItem\"},{\"id\":\"295021fe-e848-4495-950a-880fd4a5bf57\",\"type\":\"LegendItem\"},{\"id\":\"74f2eead-cc90-4837-adf1-fc94d7f95c6a\",\"type\":\"LegendItem\"},{\"id\":\"5b05feaa-b57a-4c09-b6e6-72c4227dd5da\",\"type\":\"LegendItem\"},{\"id\":\"3444d7fc-f853-433b-97fa-0e1275be41e0\",\"type\":\"LegendItem\"}],\"plot\":{\"id\":\"2a66268c-c30e-4261-a05e-4ebca702b0a3\",\"subtype\":\"Figure\",\"type\":\"Plot\"}},\"id\":\"3842a48a-8fc1-4e74-8175-e9cff52888f4\",\"type\":\"Legend\"},{\"attributes\":{\"fields\":[\"idp-1\",\"idp-2\",\"idp-3\",\"idp-4\",\"idp-5\",\"idp-6\"]},\"id\":\"403d25da-6d93-491f-bf93-5a5fd628587f\",\"type\":\"Stack\"},{\"attributes\":{\"fields\":[\"idp-1\",\"idp-2\",\"idp-3\",\"idp-4\",\"idp-5\",\"idp-6\",\"idp-7\"]},\"id\":\"1add0ef9-b505-4a4b-a51f-e1299aa804d8\",\"type\":\"Stack\"},{\"attributes\":{\"fields\":[\"idp-1\",\"idp-2\",\"idp-3\",\"idp-4\",\"idp-5\"]},\"id\":\"7181bade-8c21-43d4-8de5-595987e6eef5\",\"type\":\"Stack\"},{\"attributes\":{\"callback\":null,\"column_names\":[\"segment_name\",\"idp-1\",\"idp-2\",\"idp-3\",\"idp-4\",\"idp-5\",\"idp-6\",\"idp-7\",\"index\"],\"data\":{\"idp-1\":{\"__ndarray__\":\"2k5jlMqcMECMIlrhTNI1QAAAAAAAAAAA\",\"dtype\":\"float64\",\"shape\":[3]},\"idp-2\":{\"__ndarray__\":\"7nNHwmh5CUD0Xji0ITkbQAAAAAAAAAAA\",\"dtype\":\"float64\",\"shape\":[3]},\"idp-3\":{\"__ndarray__\":\"xHawK1G7HkAiYX3bylkOQC2yfOG+UyZA\",\"dtype\":\"float64\",\"shape\":[3]},\"idp-4\":{\"__ndarray__\":\"gmooWl74QkBmEau7iSUxQCSkqBJpmkxA\",\"dtype\":\"float64\",\"shape\":[3]},\"idp-5\":{\"__ndarray__\":\"oRqKlhc+QUBppt7Hj6g2QJncpHkymj9A\",\"dtype\":\"float64\",\"shape\":[3]},\"idp-6\":{\"__ndarray__\":\"AAAAAAAAAACjXo0/k1I2QAAAAAAAAAAA\",\"dtype\":\"float64\",\"shape\":[3]},\"idp-7\":{\"__ndarray__\":\"AAAAAAAAAABWVP9LEs4VQAAAAAAAAAAA\",\"dtype\":\"float64\",\"shape\":[3]},\"index\":[0,1,2],\"segment_name\":[\"one-doc\",\"two-docs\",\"zero-docs\"]}},\"id\":\"1eecd986-5b13-4d1e-9053-5fb35017eb7d\",\"type\":\"ColumnDataSource\"},{\"attributes\":{\"fill_color\":{\"value\":\"#718dbf\"},\"height\":{\"value\":0.9},\"left\":{\"expr\":{\"id\":\"366f54c7-7442-4e05-8c6f-fcd6c62eeff3\",\"type\":\"Stack\"}},\"line_color\":{\"value\":\"#718dbf\"},\"right\":{\"expr\":{\"id\":\"0f581b98-5a41-4c12-8c37-e23a14bca09a\",\"type\":\"Stack\"}},\"y\":{\"field\":\"segment_name\"}},\"id\":\"4bec48a6-1143-48f6-b2d1-d1f072a0c30f\",\"type\":\"HBar\"},{\"attributes\":{\"data_source\":{\"id\":\"1eecd986-5b13-4d1e-9053-5fb35017eb7d\",\"type\":\"ColumnDataSource\"},\"glyph\":{\"id\":\"5a068c82-2c65-44e4-adca-e4dfeddd9605\",\"type\":\"HBar\"},\"hover_glyph\":null,\"muted_glyph\":null,\"nonselection_glyph\":{\"id\":\"61b42966-1378-4611-ab15-6c5df2db6c6c\",\"type\":\"HBar\"},\"selection_glyph\":null,\"view\":{\"id\":\"dc2a36f3-26cc-4413-ac4b-7285e3f4a998\",\"type\":\"CDSView\"}},\"id\":\"d40e53c0-c670-4363-bb5d-0bf1d9c0b748\",\"type\":\"GlyphRenderer\"},{\"attributes\":{},\"id\":\"c7ae79ce-55c5-4aae-98b7-9b1d33608a7b\",\"type\":\"BasicTickFormatter\"},{\"attributes\":{\"fill_alpha\":{\"value\":0.1},\"fill_color\":{\"value\":\"#1f77b4\"},\"height\":{\"value\":0.9},\"left\":{\"expr\":{\"id\":\"74bd74d2-c1c3-4f3b-a9c2-e51cf3bff3d1\",\"type\":\"Stack\"}},\"line_alpha\":{\"value\":0.1},\"line_color\":{\"value\":\"#1f77b4\"},\"right\":{\"expr\":{\"id\":\"4d2de833-9071-4de6-bfb1-e6382f1a519a\",\"type\":\"Stack\"}},\"y\":{\"field\":\"segment_name\"}},\"id\":\"61b42966-1378-4611-ab15-6c5df2db6c6c\",\"type\":\"HBar\"},{\"attributes\":{\"fill_alpha\":{\"value\":0.1},\"fill_color\":{\"value\":\"#1f77b4\"},\"height\":{\"value\":0.9},\"left\":{\"expr\":{\"id\":\"62d13794-010b-40d7-88cd-09089d979f6d\",\"type\":\"Stack\"}},\"line_alpha\":{\"value\":0.1},\"line_color\":{\"value\":\"#1f77b4\"},\"right\":{\"expr\":{\"id\":\"7181bade-8c21-43d4-8de5-595987e6eef5\",\"type\":\"Stack\"}},\"y\":{\"field\":\"segment_name\"}},\"id\":\"df65d883-784e-4c35-bf26-73d17bad0fe1\",\"type\":\"HBar\"},{\"attributes\":{\"fill_color\":{\"value\":\"#c9d9d3\"},\"height\":{\"value\":0.9},\"left\":{\"expr\":{\"id\":\"74bd74d2-c1c3-4f3b-a9c2-e51cf3bff3d1\",\"type\":\"Stack\"}},\"line_color\":{\"value\":\"#c9d9d3\"},\"right\":{\"expr\":{\"id\":\"4d2de833-9071-4de6-bfb1-e6382f1a519a\",\"type\":\"Stack\"}},\"y\":{\"field\":\"segment_name\"}},\"id\":\"5a068c82-2c65-44e4-adca-e4dfeddd9605\",\"type\":\"HBar\"},{\"attributes\":{},\"id\":\"38c5a73f-cc1d-45f3-adfb-96997d25fbc4\",\"type\":\"CategoricalTickFormatter\"},{\"attributes\":{\"source\":{\"id\":\"1eecd986-5b13-4d1e-9053-5fb35017eb7d\",\"type\":\"ColumnDataSource\"}},\"id\":\"dc2a36f3-26cc-4413-ac4b-7285e3f4a998\",\"type\":\"CDSView\"}],\"root_ids\":[\"2a66268c-c30e-4261-a05e-4ebca702b0a3\"]},\"title\":\"Bokeh Application\",\"version\":\"0.12.13\"}};\n",
       "  var render_items = [{\"docid\":\"132abb53-907e-4fd8-8a6f-2d383dff788f\",\"elementid\":\"efc64147-5250-458e-a721-d8bda7479de7\",\"modelid\":\"2a66268c-c30e-4261-a05e-4ebca702b0a3\"}];\n",
       "  root.Bokeh.embed.embed_items_notebook(docs_json, render_items);\n",
       "\n",
       "  }\n",
       "  if (root.Bokeh !== undefined) {\n",
       "    embed_document(root);\n",
       "  } else {\n",
       "    var attempts = 0;\n",
       "    var timer = setInterval(function(root) {\n",
       "      if (root.Bokeh !== undefined) {\n",
       "        embed_document(root);\n",
       "        clearInterval(timer);\n",
       "      }\n",
       "      attempts++;\n",
       "      if (attempts > 100) {\n",
       "        console.log(\"Bokeh: ERROR: Unable to run BokehJS code because BokehJS library is missing\")\n",
       "        clearInterval(timer);\n",
       "      }\n",
       "    }, 10, root)\n",
       "  }\n",
       "})(window);"
      ],
      "application/vnd.bokehjs_exec.v0+json": ""
     },
     "metadata": {
      "application/vnd.bokehjs_exec.v0+json": {
       "id": "2a66268c-c30e-4261-a05e-4ebca702b0a3"
      }
     },
     "output_type": "display_data"
    }
   ],
   "source": [
    "plotHorizontalStackedBar(df_week)"
   ]
  },
  {
   "cell_type": "code",
   "execution_count": null,
   "metadata": {},
   "outputs": [],
   "source": []
  }
 ],
 "metadata": {
  "kernelspec": {
   "display_name": "Python 3",
   "language": "python",
   "name": "python3"
  },
  "language_info": {
   "codemirror_mode": {
    "name": "ipython",
    "version": 3
   },
   "file_extension": ".py",
   "mimetype": "text/x-python",
   "name": "python",
   "nbconvert_exporter": "python",
   "pygments_lexer": "ipython3",
   "version": "3.6.1"
  }
 },
 "nbformat": 4,
 "nbformat_minor": 2
}
