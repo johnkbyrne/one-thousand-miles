{
 "cells": [
  {
   "cell_type": "code",
   "execution_count": 2,
   "metadata": {},
   "outputs": [],
   "source": [
    "import pandas as pd\n",
    "import requests"
   ]
  },
  {
   "cell_type": "code",
   "execution_count": 3,
   "metadata": {},
   "outputs": [],
   "source": [
    "response = requests.get('https://analytics-hub-prod-a-dmz.ida.digital.cabinet-office.gov.uk/index.php?module=API&method=Actions.getPageTitles&idSite=1&period=week&date=2018-12-03&filter_limit=-1&format=JSON&segment=customVariableValue2==LEVEL_1;customVariableValue3==REGISTRATION;pageTitle=@About%20Identity%20Accounts&token_auth=ff952a1530c68b2cd7f084d1d3243d9a')"
   ]
  },
  {
   "cell_type": "code",
   "execution_count": 9,
   "metadata": {},
   "outputs": [],
   "source": [
    "df = pd.DataFrame(response.json())"
   ]
  },
  {
   "cell_type": "code",
   "execution_count": 11,
   "metadata": {},
   "outputs": [
    {
     "data": {
      "text/plain": [
       "19043"
      ]
     },
     "execution_count": 11,
     "metadata": {},
     "output_type": "execute_result"
    }
   ],
   "source": [
    "df['nb_visits'][0]"
   ]
  },
  {
   "cell_type": "code",
   "execution_count": 12,
   "metadata": {},
   "outputs": [
    {
     "data": {
      "text/html": [
       "<div>\n",
       "<style scoped>\n",
       "    .dataframe tbody tr th:only-of-type {\n",
       "        vertical-align: middle;\n",
       "    }\n",
       "\n",
       "    .dataframe tbody tr th {\n",
       "        vertical-align: top;\n",
       "    }\n",
       "\n",
       "    .dataframe thead th {\n",
       "        text-align: right;\n",
       "    }\n",
       "</style>\n",
       "<table border=\"1\" class=\"dataframe\">\n",
       "  <thead>\n",
       "    <tr style=\"text-align: right;\">\n",
       "      <th></th>\n",
       "      <th>avg_time_generation</th>\n",
       "      <th>avg_time_on_page</th>\n",
       "      <th>bounce_rate</th>\n",
       "      <th>entry_bounce_count</th>\n",
       "      <th>entry_nb_actions</th>\n",
       "      <th>entry_nb_visits</th>\n",
       "      <th>entry_sum_visit_length</th>\n",
       "      <th>exit_nb_visits</th>\n",
       "      <th>exit_rate</th>\n",
       "      <th>label</th>\n",
       "      <th>max_time_generation</th>\n",
       "      <th>min_time_generation</th>\n",
       "      <th>nb_hits</th>\n",
       "      <th>nb_hits_with_time_generation</th>\n",
       "      <th>nb_visits</th>\n",
       "      <th>sum_daily_entry_nb_uniq_visitors</th>\n",
       "      <th>sum_daily_exit_nb_uniq_visitors</th>\n",
       "      <th>sum_daily_nb_uniq_visitors</th>\n",
       "      <th>sum_time_spent</th>\n",
       "    </tr>\n",
       "  </thead>\n",
       "  <tbody>\n",
       "    <tr>\n",
       "      <th>0</th>\n",
       "      <td>0.113</td>\n",
       "      <td>1</td>\n",
       "      <td>0%</td>\n",
       "      <td>0.0</td>\n",
       "      <td>141.0</td>\n",
       "      <td>7.0</td>\n",
       "      <td>3111.0</td>\n",
       "      <td>1172.0</td>\n",
       "      <td>6%</td>\n",
       "      <td>About identity accounts - GOV.UK Verify - GOV...</td>\n",
       "      <td>19.064</td>\n",
       "      <td>0.001</td>\n",
       "      <td>26831</td>\n",
       "      <td>18283</td>\n",
       "      <td>19043</td>\n",
       "      <td>7.0</td>\n",
       "      <td>1169.0</td>\n",
       "      <td>18932</td>\n",
       "      <td>10255</td>\n",
       "    </tr>\n",
       "    <tr>\n",
       "      <th>1</th>\n",
       "      <td>0.086</td>\n",
       "      <td>0</td>\n",
       "      <td>0%</td>\n",
       "      <td>NaN</td>\n",
       "      <td>NaN</td>\n",
       "      <td>NaN</td>\n",
       "      <td>NaN</td>\n",
       "      <td>NaN</td>\n",
       "      <td>0%</td>\n",
       "      <td>About identity accounts - GOV.UK Verify - GOV...</td>\n",
       "      <td>0.692</td>\n",
       "      <td>0.001</td>\n",
       "      <td>49</td>\n",
       "      <td>35</td>\n",
       "      <td>39</td>\n",
       "      <td>NaN</td>\n",
       "      <td>NaN</td>\n",
       "      <td>39</td>\n",
       "      <td>0</td>\n",
       "    </tr>\n",
       "  </tbody>\n",
       "</table>\n",
       "</div>"
      ],
      "text/plain": [
       "   avg_time_generation  avg_time_on_page bounce_rate  entry_bounce_count  \\\n",
       "0                0.113                 1          0%                 0.0   \n",
       "1                0.086                 0          0%                 NaN   \n",
       "\n",
       "   entry_nb_actions  entry_nb_visits  entry_sum_visit_length  exit_nb_visits  \\\n",
       "0             141.0              7.0                  3111.0          1172.0   \n",
       "1               NaN              NaN                     NaN             NaN   \n",
       "\n",
       "  exit_rate                                              label  \\\n",
       "0        6%   About identity accounts - GOV.UK Verify - GOV...   \n",
       "1        0%   About identity accounts - GOV.UK Verify - GOV...   \n",
       "\n",
       "  max_time_generation min_time_generation  nb_hits  \\\n",
       "0              19.064               0.001    26831   \n",
       "1               0.692               0.001       49   \n",
       "\n",
       "   nb_hits_with_time_generation  nb_visits  sum_daily_entry_nb_uniq_visitors  \\\n",
       "0                         18283      19043                               7.0   \n",
       "1                            35         39                               NaN   \n",
       "\n",
       "   sum_daily_exit_nb_uniq_visitors  sum_daily_nb_uniq_visitors  sum_time_spent  \n",
       "0                           1169.0                       18932           10255  \n",
       "1                              NaN                          39               0  "
      ]
     },
     "execution_count": 12,
     "metadata": {},
     "output_type": "execute_result"
    }
   ],
   "source": [
    "df"
   ]
  },
  {
   "cell_type": "code",
   "execution_count": null,
   "metadata": {},
   "outputs": [],
   "source": []
  }
 ],
 "metadata": {
  "kernelspec": {
   "display_name": "Python 3",
   "language": "python",
   "name": "python3"
  },
  "language_info": {
   "codemirror_mode": {
    "name": "ipython",
    "version": 3
   },
   "file_extension": ".py",
   "mimetype": "text/x-python",
   "name": "python",
   "nbconvert_exporter": "python",
   "pygments_lexer": "ipython3",
   "version": "3.6.2"
  }
 },
 "nbformat": 4,
 "nbformat_minor": 2
}
